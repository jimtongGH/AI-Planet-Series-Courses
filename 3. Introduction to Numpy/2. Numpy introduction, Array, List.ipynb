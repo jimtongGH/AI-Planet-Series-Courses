{
 "cells": [
  {
   "metadata": {},
   "cell_type": "markdown",
   "source": "# Numpy Introduction, Array, List\n",
   "id": "6415e9b53eacb315"
  },
  {
   "metadata": {
    "ExecuteTime": {
     "end_time": "2025-07-01T14:58:50.104301Z",
     "start_time": "2025-07-01T14:58:50.100653Z"
    }
   },
   "cell_type": "code",
   "source": [
    "# import numpy\n",
    "import numpy as np"
   ],
   "id": "4880eff78132234a",
   "outputs": [],
   "execution_count": 2
  },
  {
   "metadata": {},
   "cell_type": "markdown",
   "source": [
    "## 1. Array in NumPy  NumPy 中的数组\n",
    "- Like list in Python an array is a data structure in NumPy. 与 Python 中的列表一样，数组是 NumPy 中的数据结构。\n",
    "- An Array in NumPy can hold collection of ordered elements. NumPy 中的数组可以存储有序元素的集合。\n",
    "- An array in NumPy can only hold data of same type. NumPy 中的数组只能存储相同类型的数据。\n",
    "- You might occasionally hear an array being referred to as ‘ndarray’, which is shorthand for ‘N - dimensional array’. 你可能偶尔会听到数组被称为“ndarray”，这是“N 维数组”的缩写。\n",
    "- An N - dimensional array is an array with n number of dimensions, for example 1-D or one dimensional array, 2-D or two dimensional array, and so on. 一个 N 维数组是一个具有 n 个维度的数组，例如 1-D 或一维数组、2-D 或二维数组，等等。"
   ],
   "id": "eca24e6cf455a8c6"
  },
  {
   "metadata": {},
   "cell_type": "markdown",
   "source": "### a. Create NumPy Array from Python List 从 Python 列表创建 NumPy 数组",
   "id": "7f562d8feb702d80"
  },
  {
   "metadata": {
    "ExecuteTime": {
     "end_time": "2025-07-01T14:59:35.499058Z",
     "start_time": "2025-07-01T14:59:35.490021Z"
    }
   },
   "cell_type": "code",
   "source": [
    "python_list = [1, 2, 3, 4, 5] # initialize a Python list\n",
    "python_list # Output: [1, 2, 3, 4, 5]"
   ],
   "id": "945371e40dd5fbde",
   "outputs": [
    {
     "data": {
      "text/plain": [
       "[1, 2, 3, 4, 5]"
      ]
     },
     "execution_count": 3,
     "metadata": {},
     "output_type": "execute_result"
    }
   ],
   "execution_count": 3
  },
  {
   "metadata": {
    "ExecuteTime": {
     "end_time": "2025-07-01T15:00:26.735519Z",
     "start_time": "2025-07-01T15:00:26.728834Z"
    }
   },
   "cell_type": "code",
   "source": [
    "numpy_array1 = np.array(python_list)\n",
    "numpy_array1 # Output: array([1, 2, 3, 4, 5])"
   ],
   "id": "949812c75151e372",
   "outputs": [
    {
     "data": {
      "text/plain": [
       "array([1, 2, 3, 4, 5])"
      ]
     },
     "execution_count": 4,
     "metadata": {},
     "output_type": "execute_result"
    }
   ],
   "execution_count": 4
  },
  {
   "metadata": {},
   "cell_type": "markdown",
   "source": [
    "### b. Compare Python List and NumPy Array 比较 Python 列表和 NumPy 数组\n",
    "- Python List  Python 列表\n",
    "    - Can contain data of different data types 可以包含不同数据类型的数据\n",
    "    - Takes a huge amount of time and memory for numerical computations of large data 进行大型数据的数值计算需要大量时间和内存\n",
    "- NumPy Array  NumPy 数组\n",
    "    - Can contain data of same data type only 只能包含相同数据类型的数据\n",
    "    - Very cheap in terms of time and memory for numerical computations of large data 对大型数据的数值计算在时间和内存方面非常高效"
   ],
   "id": "7b19625678f45911"
  },
  {
   "metadata": {
    "ExecuteTime": {
     "end_time": "2025-07-01T15:02:46.302967Z",
     "start_time": "2025-07-01T15:02:46.289921Z"
    }
   },
   "cell_type": "code",
   "source": [
    "# Create two python List say 'List_x' and 'List_y'\n",
    "X_list = list(range(100000))\n",
    "Y_list = list(range(100000))"
   ],
   "id": "591c965fd6400b8e",
   "outputs": [],
   "execution_count": 5
  },
  {
   "metadata": {
    "ExecuteTime": {
     "end_time": "2025-07-01T15:03:01.300083Z",
     "start_time": "2025-07-01T15:03:01.273422Z"
    }
   },
   "cell_type": "code",
   "source": [
    "# Create two numpy array (say 'X' end 'Y') using above two list\n",
    "X = np.array(X_list)\n",
    "Y = np.array(Y_list)"
   ],
   "id": "7ac156257df892a9",
   "outputs": [],
   "execution_count": 6
  },
  {
   "metadata": {
    "ExecuteTime": {
     "end_time": "2025-07-01T15:04:05.292176Z",
     "start_time": "2025-07-01T15:04:05.287674Z"
    }
   },
   "cell_type": "code",
   "source": [
    "# Define a function to calculate sum\n",
    "# using python Lists X_list, Y_list)\n",
    "def pure_python_version():\n",
    "    Z = []\n",
    "    for i in range(len(X_list)):\n",
    "        Z.append(X_list[i] + Y_list[i])"
   ],
   "id": "414a1002f790ce0c",
   "outputs": [],
   "execution_count": 7
  },
  {
   "metadata": {
    "ExecuteTime": {
     "end_time": "2025-07-01T15:04:06.709760Z",
     "start_time": "2025-07-01T15:04:06.706154Z"
    }
   },
   "cell_type": "code",
   "source": [
    "# Define a function to calculate sum\n",
    "# using numpy arrays (X, Y)\n",
    "def numpy_version():\n",
    "# In numpy we can directly perform\n",
    "# sum element-wise as\n",
    "    Z = X + Y"
   ],
   "id": "a986555c9e59be9c",
   "outputs": [],
   "execution_count": 8
  },
  {
   "metadata": {
    "ExecuteTime": {
     "end_time": "2025-07-01T15:05:03.400462Z",
     "start_time": "2025-07-01T15:04:49.167832Z"
    }
   },
   "cell_type": "code",
   "source": [
    "# Import Timer class from timeit Library\n",
    "from timeit import Timer\n",
    "\n",
    "# Create Timer objects for both functions\n",
    "timer_obj1 = Timer(\"pure_python_version()\",\n",
    "                   \"from __main__ import pure_python_version\")\n",
    "timer_obj2 = Timer(\"numpy_version()\",\n",
    "                   \"from __main__ import numpy_version\")\n",
    "\n",
    "print(\"Pure python version:\",timer_obj1.timeit(1000))\n",
    "print(\"Numpy version:\",timer_obj2.timeit(1000))"
   ],
   "id": "451a8de24ede885a",
   "outputs": [
    {
     "name": "stdout",
     "output_type": "stream",
     "text": [
      "Pure python version: 14.144548726966605\n",
      "Numpy version: 0.0827546319924295\n"
     ]
    }
   ],
   "execution_count": 9
  },
  {
   "metadata": {},
   "cell_type": "markdown",
   "source": "## 2. Attributes of an array and creating basic array 数组属性和创建基本数组",
   "id": "4353729d825e21f9"
  },
  {
   "metadata": {},
   "cell_type": "markdown",
   "source": [
    "### a. Attributes of an Array  数组的属性\n",
    "- The number of dimensions and items in an array is defined by its shape. 数组中的维度和项目数量由其形状定义。\n",
    "- The dimensions are also called as axes. 维度也称为轴。\n",
    "- Suppose, if you have a 2D array that looks like this: 假设你有一个如下所示的二维数组：\n",
    "- [[1, 2, 3],\n",
    " [4, 5, 6]]\n",
    "- In this case your array has two axes. First axis has length of two and the second axis has length of 3. See the image below: 在这种情况下，你的数组有两个轴。第一个轴的长度为 2，第二个轴的长度为 3。"
   ],
   "id": "a5ffbb7efb1f93ee"
  },
  {
   "metadata": {},
   "cell_type": "markdown",
   "source": "### b. Shape, Size and Data Type of an Array 数组的形状、大小和数据类型",
   "id": "92a53e0cfc619116"
  },
  {
   "metadata": {
    "ExecuteTime": {
     "end_time": "2025-07-01T17:42:50.731595Z",
     "start_time": "2025-07-01T17:42:50.688436Z"
    }
   },
   "cell_type": "code",
   "source": [
    "# Create a NumPy Array 创建一个 NumPy 数组\n",
    "arr = np.array([[5,6,7], [8,9,10], [11,12,13], [1,2,3]])\n",
    "arr"
   ],
   "id": "7ab9ec7b0f04b8ec",
   "outputs": [
    {
     "data": {
      "text/plain": [
       "array([[ 5,  6,  7],\n",
       "       [ 8,  9, 10],\n",
       "       [11, 12, 13],\n",
       "       [ 1,  2,  3]])"
      ]
     },
     "execution_count": 10,
     "metadata": {},
     "output_type": "execute_result"
    }
   ],
   "execution_count": 10
  },
  {
   "metadata": {
    "ExecuteTime": {
     "end_time": "2025-07-01T17:53:48.240786Z",
     "start_time": "2025-07-01T17:53:48.233623Z"
    }
   },
   "cell_type": "code",
   "source": [
    "# Size of an Array 数组的大小\n",
    "arr.size # Output: 12, Total number of elements in the array"
   ],
   "id": "63e4b2f980c50519",
   "outputs": [
    {
     "data": {
      "text/plain": [
       "12"
      ]
     },
     "execution_count": 11,
     "metadata": {},
     "output_type": "execute_result"
    }
   ],
   "execution_count": 11
  },
  {
   "metadata": {
    "ExecuteTime": {
     "end_time": "2025-07-01T20:57:09.959294Z",
     "start_time": "2025-07-01T20:57:09.907867Z"
    }
   },
   "cell_type": "code",
   "source": [
    "# Data Types of Array 数组的类型\n",
    "arr.dtype # Output: dtype('int64'), Data type of the elements in the array"
   ],
   "id": "468174850b38156d",
   "outputs": [
    {
     "data": {
      "text/plain": [
       "dtype('int64')"
      ]
     },
     "execution_count": 12,
     "metadata": {},
     "output_type": "execute_result"
    }
   ],
   "execution_count": 12
  },
  {
   "metadata": {
    "ExecuteTime": {
     "end_time": "2025-07-01T20:57:36.505218Z",
     "start_time": "2025-07-01T20:57:36.487470Z"
    }
   },
   "cell_type": "code",
   "source": [
    "# Shape of an Array 数组的形状\n",
    "arr.shape # Output: (4, 3), Shape of the array, which means it has 4 rows and 3 columns"
   ],
   "id": "5b92bafc9f33e3a3",
   "outputs": [
    {
     "data": {
      "text/plain": [
       "(4, 3)"
      ]
     },
     "execution_count": 13,
     "metadata": {},
     "output_type": "execute_result"
    }
   ],
   "execution_count": 13
  },
  {
   "metadata": {
    "ExecuteTime": {
     "end_time": "2025-07-01T20:58:08.706548Z",
     "start_time": "2025-07-01T20:58:08.685805Z"
    }
   },
   "cell_type": "code",
   "source": [
    "# Dimension of an Array 数组的维度\n",
    "arr.ndim # Output: 2, Number of dimensions in the array"
   ],
   "id": "aafb29707f87335",
   "outputs": [
    {
     "data": {
      "text/plain": [
       "2"
      ]
     },
     "execution_count": 14,
     "metadata": {},
     "output_type": "execute_result"
    }
   ],
   "execution_count": 14
  },
  {
   "metadata": {
    "ExecuteTime": {
     "end_time": "2025-07-01T20:59:41.956756Z",
     "start_time": "2025-07-01T20:59:41.946119Z"
    }
   },
   "cell_type": "code",
   "source": [
    "# type() function and dtype method  type()函数和 dtype 方法\n",
    "type(arr) # Output: <class 'numpy.ndarray'>, Type of the array"
   ],
   "id": "bbcc325857c9ded1",
   "outputs": [
    {
     "data": {
      "text/plain": [
       "numpy.ndarray"
      ]
     },
     "execution_count": 17,
     "metadata": {},
     "output_type": "execute_result"
    }
   ],
   "execution_count": 17
  },
  {
   "metadata": {
    "ExecuteTime": {
     "end_time": "2025-07-01T20:59:39.044365Z",
     "start_time": "2025-07-01T20:59:39.017943Z"
    }
   },
   "cell_type": "code",
   "source": "arr.dtype # Output: dtype('int64'), Data type of the elements in the array",
   "id": "dc4a3aed69be33e0",
   "outputs": [
    {
     "data": {
      "text/plain": [
       "dtype('int64')"
      ]
     },
     "execution_count": 16,
     "metadata": {},
     "output_type": "execute_result"
    }
   ],
   "execution_count": 16
  },
  {
   "metadata": {},
   "cell_type": "code",
   "outputs": [],
   "execution_count": null,
   "source": [
    "# Caution: dtype method on Python Lists   注意：Python 列表的 dtype 方法\n",
    "# Python List does not have dtype method"
   ],
   "id": "ac8ed814e2d96905"
  },
  {
   "metadata": {},
   "cell_type": "markdown",
   "source": "### c. Creating Basic NumPy Arrays 创建基本的 NumPy 数组",
   "id": "f47b59b533bdd144"
  },
  {
   "metadata": {
    "ExecuteTime": {
     "end_time": "2025-07-01T21:03:26.533730Z",
     "start_time": "2025-07-01T21:03:26.516143Z"
    }
   },
   "cell_type": "code",
   "source": [
    "# array() function  array() 函数\n",
    "# You can use the array() function to create a numpy array. 你可以使用 array()函数来创建一个 numpy 数组。\n",
    "arr1 = np.array([[1, 2, 5, 7], [5, 2, 7, 6], [6, 2, 0, 8]])\n",
    "arr1"
   ],
   "id": "bfc9f1747eb145aa",
   "outputs": [
    {
     "data": {
      "text/plain": [
       "array([[1, 2, 5, 7],\n",
       "       [5, 2, 7, 6],\n",
       "       [6, 2, 0, 8]])"
      ]
     },
     "execution_count": 18,
     "metadata": {},
     "output_type": "execute_result"
    }
   ],
   "execution_count": 18
  },
  {
   "metadata": {
    "ExecuteTime": {
     "end_time": "2025-07-01T21:14:58.061974Z",
     "start_time": "2025-07-01T21:14:58.029427Z"
    }
   },
   "cell_type": "code",
   "source": [
    "# arange() function  arange() 函数\n",
    "# Use arange() function to create collection of continuous integers.  使用 arange()函数来创建连续整数的集合。\n",
    "arr2 = np.arange(10)\n",
    "arr2 # Output: array([0, 1, 2, 3, 4, 5, 6, 7, 8, 9]), Creates an array of integers from 0 to 9\n",
    "\n",
    "arr3 = np.arange(1, 10, 2) # start at 1, end at 10, step by 2\n",
    "arr3\n",
    "arr3.shape # Output: (5,), Shape of the array, which means it has 5 elements"
   ],
   "id": "1b4469198568de46",
   "outputs": [
    {
     "data": {
      "text/plain": [
       "(5,)"
      ]
     },
     "execution_count": 25,
     "metadata": {},
     "output_type": "execute_result"
    }
   ],
   "execution_count": 25
  },
  {
   "metadata": {
    "ExecuteTime": {
     "end_time": "2025-07-01T21:06:59.036470Z",
     "start_time": "2025-07-01T21:06:59.029475Z"
    }
   },
   "cell_type": "code",
   "source": [
    "# zeros() function  zeros() 函数\n",
    "# If you want to create a collection of zero values, you can use the zeros() function available in NumPy.  如果你想要创建一个包含零值的集合，可以使用 NumPy 中可用的 zeros()函数。\n",
    "\n",
    "# The zeros() function creates an n-dimensional array of zeros. If no shape is specified, then it will create a one-dimensional array:  zeros()函数创建一个 n 维零数组。如果没有指定形状，它将创建一个一维数组：\n",
    "\n",
    "arr4 = np.zeros(5) # Creates a one-dimensional array of zeros with 5 elements\n",
    "arr4"
   ],
   "id": "ed894296769c2a12",
   "outputs": [
    {
     "data": {
      "text/plain": [
       "array([0., 0., 0., 0., 0.])"
      ]
     },
     "execution_count": 22,
     "metadata": {},
     "output_type": "execute_result"
    }
   ],
   "execution_count": 22
  },
  {
   "metadata": {
    "ExecuteTime": {
     "end_time": "2025-07-01T21:07:53.539666Z",
     "start_time": "2025-07-01T21:07:53.533046Z"
    }
   },
   "cell_type": "code",
   "source": [
    "# ones() function  ones() 函数\n",
    "# In case you want collection of ones, NumPy has a function called ones().  如果你想要一个全 1 的集合，NumPy 有一个名为 ones()的函数。\n",
    "\n",
    "arr5 = np.ones(4) # Creates a one-dimensional array of ones with 4 elements\n",
    "arr5"
   ],
   "id": "3d95d19289b76c5a",
   "outputs": [
    {
     "data": {
      "text/plain": [
       "array([1., 1., 1., 1.])"
      ]
     },
     "execution_count": 23,
     "metadata": {},
     "output_type": "execute_result"
    }
   ],
   "execution_count": 23
  },
  {
   "metadata": {
    "ExecuteTime": {
     "end_time": "2025-07-01T21:09:16.204505Z",
     "start_time": "2025-07-01T21:09:16.196221Z"
    }
   },
   "cell_type": "code",
   "source": [
    "# linspace() function  linspace() 函数\n",
    "# linspace() generates values which are equally spaced from each other.  linspace()生成彼此等距的值。\n",
    "\n",
    "arr6 = np.linspace(1, 10, 5) # 第一位是起始，第二位是终止，第三位是生成的元素个数（如果不指定，则默认为 50）\n",
    "arr6"
   ],
   "id": "77567c429dad0d63",
   "outputs": [
    {
     "data": {
      "text/plain": [
       "array([ 1.  ,  3.25,  5.5 ,  7.75, 10.  ])"
      ]
     },
     "execution_count": 24,
     "metadata": {},
     "output_type": "execute_result"
    }
   ],
   "execution_count": 24
  },
  {
   "metadata": {},
   "cell_type": "markdown",
   "source": "## 3. Exercise 练习",
   "id": "25787413265f6996"
  },
  {
   "metadata": {
    "ExecuteTime": {
     "end_time": "2025-07-01T21:19:46.215155Z",
     "start_time": "2025-07-01T21:19:46.205352Z"
    }
   },
   "cell_type": "code",
   "source": [
    "list1 = [2, 5, 8, 6, 4, 12, 16, 15]\n",
    "# Create a NumPy array from the list1\n",
    "exArray1 = np.array(list1)\n",
    "exArray1.ndim"
   ],
   "id": "a5d4f7144bcb0632",
   "outputs": [
    {
     "data": {
      "text/plain": [
       "1"
      ]
     },
     "execution_count": 32,
     "metadata": {},
     "output_type": "execute_result"
    }
   ],
   "execution_count": 32
  },
  {
   "metadata": {
    "ExecuteTime": {
     "end_time": "2025-07-01T21:21:08.622180Z",
     "start_time": "2025-07-01T21:21:08.612956Z"
    }
   },
   "cell_type": "code",
   "source": [
    "exArray2 = np.linspace(17, 31)\n",
    "exArray2"
   ],
   "id": "316c00815c7d396",
   "outputs": [
    {
     "data": {
      "text/plain": [
       "array([17.        , 17.28571429, 17.57142857, 17.85714286, 18.14285714,\n",
       "       18.42857143, 18.71428571, 19.        , 19.28571429, 19.57142857,\n",
       "       19.85714286, 20.14285714, 20.42857143, 20.71428571, 21.        ,\n",
       "       21.28571429, 21.57142857, 21.85714286, 22.14285714, 22.42857143,\n",
       "       22.71428571, 23.        , 23.28571429, 23.57142857, 23.85714286,\n",
       "       24.14285714, 24.42857143, 24.71428571, 25.        , 25.28571429,\n",
       "       25.57142857, 25.85714286, 26.14285714, 26.42857143, 26.71428571,\n",
       "       27.        , 27.28571429, 27.57142857, 27.85714286, 28.14285714,\n",
       "       28.42857143, 28.71428571, 29.        , 29.28571429, 29.57142857,\n",
       "       29.85714286, 30.14285714, 30.42857143, 30.71428571, 31.        ])"
      ]
     },
     "execution_count": 33,
     "metadata": {},
     "output_type": "execute_result"
    }
   ],
   "execution_count": 33
  }
 ],
 "metadata": {
  "kernelspec": {
   "display_name": "Python 3",
   "language": "python",
   "name": "python3"
  },
  "language_info": {
   "codemirror_mode": {
    "name": "ipython",
    "version": 2
   },
   "file_extension": ".py",
   "mimetype": "text/x-python",
   "name": "python",
   "nbconvert_exporter": "python",
   "pygments_lexer": "ipython2",
   "version": "2.7.6"
  }
 },
 "nbformat": 4,
 "nbformat_minor": 5
}
