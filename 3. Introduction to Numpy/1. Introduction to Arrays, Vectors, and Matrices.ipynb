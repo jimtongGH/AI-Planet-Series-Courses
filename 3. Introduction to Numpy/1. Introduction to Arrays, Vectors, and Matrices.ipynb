{
 "cells": [
  {
   "metadata": {},
   "cell_type": "markdown",
   "source": "# Introduction to Arrays, Vectors, and Matrices",
   "id": "d9f0e787856d7460"
  },
  {
   "metadata": {},
   "cell_type": "markdown",
   "source": [
    "### a. Arrays\n",
    "- Understanding Keywords  理解关键词\n",
    "    - List  列表\n",
    "        - As the name suggests, List is an ordered sequence of data. In real life, if you could make a list of things that come to your mind (or event for any specific purpose), it could be something like this – 顾名思义，List 是一种有序的数据序列。在现实生活中，如果你能列出一个想到的东西（或为任何特定目的），它可能是这样的——\n",
    "            - Brush  画笔\n",
    "            - Leuven  鲁汶\n",
    "            - 48851964400\n",
    "            - 3.14\n",
    "            - Mom  妈妈\n",
    "        - You could make your own list & include whatever you want in it. So, in my list, I have included what I do early in the morning, my city, my mobile number, the value of pi to two digits, and mom. 你可以创建自己的列表，并在其中包含任何你想要的内容。所以，在我的列表中，我包含了早上做的事情、我的城市、我的手机号码、圆周率的两位小数值，还有妈妈。\n",
    "        - If you look at it, my list has different types of data – strings, float, and integer. And, this is the kind of flexibility Python List provides. It can hold different types of data types. Declaring a List is fairly straightforward. You use square brackets ([]) and separate the items by a comma. Let me write an example - 如果你仔细看，我的列表包含不同类型的数据——字符串、浮点数和整数。而且，这正是 Python 列表提供的灵活性。它可以容纳不同类型的数据类型。声明一个列表非常直接。你使用方括号（[]），并用逗号分隔各个元素。让我举一个例子—— A = [\"Brush\", \"Leuven\", 48851964400, 3.14, \"Mom\"]\n",
    "    - Dimensions  维度\n",
    "        - Now, what are dimensions? Let’s take the example of a box to explain this. A box has three dimensions - width, length and depth (or height). Similarly, in data science we will be working with “N” dimensions in a data structure (list, arrays, vectors etc). “N” could be any number. 现在，什么是维度呢？让我们以盒子为例来解释这一点。一个盒子有三个维度——宽度、长度和深度（或高度）。类似地，在数据科学中，我们将在一个数据结构（列表、数组、向量等）中处理“N”个维度。“N”可以是任何数字。\n",
    "    - What are Arrays?  什么是数组？\n",
    "        - Similar to a list, an array is also a data structure which can hold more than one value at a time. 与列表类似，数组也是一种数据结构，可以同时存储多个值。\n",
    "        - However, an array can only hold a collection of ordered elements of the same data type. 然而，数组只能存储一组有序的相同数据类型的元素。\n",
    "        - Here is an intuitive example of an array: Imagine you have a bunch of toy cars. Each toy car is exactly the same, but they are all different colors. You can line them up on a shelf to keep them organized. The shelf would be like an array, and each toy car would be like an element in the array. Just like how you can identify each toy car by its position on the shelf, you can identify each element in an array by its position in the array.这是一个直观的数组示例：想象你有一堆玩具车。每辆玩具车都完全一样，但颜色各不相同。你可以将它们排成一排放在架子上以保持整齐。架子就像一个数组，每辆玩具车就像数组中的一个元素。就像你可以通过在架子上的位置来识别每辆玩具车一样，你也可以通过在数组中的位置来识别每个元素。\n",
    "        - For example, you might have a red toy car at the first position, a blue toy car at the second position, and a green toy car at the third position. In an array, these would be called the first element, second element, and third element, respectively. 例如，你可能在第一个位置放一辆红色的玩具车，第二个位置放一辆蓝色的玩具车，第三个位置放一辆绿色的玩具车。在数组中，这些分别被称为第一个元素、第二个元素和第三个元素。\n",
    "        - Examples of Arrays & Lists 数组和列表的示例\n",
    "            - Arrays - Examples  数组 - 示例\n",
    "                - [red, blue, green] is an array of car colors in the above toy car example.\n",
    "                - [红, 蓝, 绿] 是上述玩具汽车示例中汽车颜色的数组。\n",
    "                - [1, 2, 3, 4, 5] is an array of integers.\n",
    "                - [1, 2, 3, 4, 5] 是一个整数数组。\n",
    "                - [ ‘a’, ‘b’, ‘c’, ‘d’, ‘e’ ] is an array of strings.\n",
    "                - [ 'a', 'b', 'c', 'd', 'e' ] 是一个字符串数组。\n",
    "                - [[ 1 , 2 , 3 , 4],\n",
    "                - [[ 1 , 2 , 3 , 4]]\n",
    "                - [ 5, 6, 7, 8 ]] is a 2 dimensional array.\n",
    "                - [ 5, 6, 7, 8 ]是一个二维数组。\n",
    "            - Lists - Examples  列表 - 示例\n",
    "                - [ 1, 2, 3, ‘a’, 5 ] is a list containing both integers and a string.\n",
    "                - [ 1, 2, 3, ‘a’, 5 ]是一个包含整数和字符串的列表。\n",
    "                - [ 1, 2, 3, 4, ‘b’, [ 1, 2, 3 ] ] is a list containing integers, a string, and another list.\n",
    "                - [ 1, 2, 3, 4, ‘b’, [ 1, 2, 3 ] ]是一个包含整数、字符串和另一个列表的列表。\n",
    "        - Why Arrays?  为什么使用数组？\n",
    "            - A combination of Arrays, together with Python could save you a lot of time. Arrays help reduce the overall size of your code. 数组和 Python 结合使用可以节省大量时间。数组有助于减小代码的整体大小。\n",
    "        - List vs Array  列表与数组\n",
    "            - A list can store different data types such as integers, strings, etc., whereas an array stores only single data type values, i.e., you can only have an array of integers, an array of strings, etc. 列表可以存储不同类型的数据，如整数、字符串等，而数组只存储单一类型的数据值，即你只能有整数数组、字符串数组等。\n",
    "\n",
    "\n",
    "\n"
   ],
   "id": "8549e00847ce38b0"
  },
  {
   "metadata": {},
   "cell_type": "markdown",
   "source": [
    "### b. Vectors & Matrix\n",
    "- Vector  向量\n",
    "    - A vector, in programming, is a type of array that is one-dimensional. 一个向量，在编程中，是一种一维数组\n",
    "    - For example, [1, 2, 3, 4, 5] is a vector. 例如，[1, 2, 3, 4, 5] 是一个向量。\n",
    "- Matrix  矩阵\n",
    "    - Matrix is an arrangement of numbers into rows and columns. 矩阵是将数字排列成行和列的一种形式。\n",
    "    - The matrix A has two rows and three columns. 矩阵 A 有 2 行 3 列。\n",
    "- Shape of Matrix  矩阵的形状\n",
    "    - Since matrix A has two rows and three columns, we write its shape as , pronounced as ‘two by three’. 由于矩阵 A 有 2 行 3 列，我们将其形状记作  ，读作“两行三列”。\n",
    "- Dimension of Matrix  矩阵的维度\n",
    "    - The shape of the matrix also tells you its dimensions. The dimension of matrix A is 2 as its shape is 2  3. 矩阵的形状也告诉你它的维度。矩阵 A 的维度是 2，因为它的形状是 2  3。\n",
    "    - If a matrix has a shape, say, 2*3*2 , the dimension of the matrix would be 3. 如果一个矩阵的形状是  ，那么它的维度将是 3。"
   ],
   "id": "47245a71e57dabcc"
  }
 ],
 "metadata": {
  "kernelspec": {
   "display_name": "Python 3",
   "language": "python",
   "name": "python3"
  },
  "language_info": {
   "codemirror_mode": {
    "name": "ipython",
    "version": 2
   },
   "file_extension": ".py",
   "mimetype": "text/x-python",
   "name": "python",
   "nbconvert_exporter": "python",
   "pygments_lexer": "ipython2",
   "version": "2.7.6"
  }
 },
 "nbformat": 4,
 "nbformat_minor": 5
}
