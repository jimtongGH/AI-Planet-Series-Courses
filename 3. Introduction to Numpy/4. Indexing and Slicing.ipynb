{
 "cells": [
  {
   "metadata": {},
   "cell_type": "markdown",
   "source": "# Indexing and Slicing  索引和切片",
   "id": "b94369fdbda6d8de"
  },
  {
   "metadata": {},
   "cell_type": "markdown",
   "source": "## 1. Positive Indexing  正向索引",
   "id": "8486365b0a81bc35"
  },
  {
   "metadata": {},
   "cell_type": "markdown",
   "source": "### a. Rows and Columns Indexes in an Array  数组中的行和列索引",
   "id": "d061b0d24ae97666"
  },
  {
   "metadata": {
    "ExecuteTime": {
     "end_time": "2025-07-02T12:28:10.968367Z",
     "start_time": "2025-07-02T12:28:10.814378Z"
    }
   },
   "cell_type": "code",
   "source": [
    "# Conclusion: If you want to get the 4th element from an array, you should extract the element that is present at index 3.  结论：如果你想从数组中获取第 4 个元素，你应该提取索引为 3 处的元素。\n",
    "import numpy as np"
   ],
   "id": "6a2cc88fb11d7ed7",
   "outputs": [],
   "execution_count": 1
  },
  {
   "metadata": {},
   "cell_type": "markdown",
   "source": "### b. Positive Single Indexing in an Array  数组中的正单索引",
   "id": "bc204e810b91c8b0"
  },
  {
   "metadata": {
    "ExecuteTime": {
     "end_time": "2025-07-02T12:33:21.374470Z",
     "start_time": "2025-07-02T12:33:21.362988Z"
    }
   },
   "cell_type": "code",
   "source": [
    "arr1 = np.array([10, 20, 30, 40])\n",
    "arr1[2]"
   ],
   "id": "cc4c5bfe3f06880e",
   "outputs": [
    {
     "data": {
      "text/plain": [
       "np.int64(30)"
      ]
     },
     "execution_count": 3,
     "metadata": {},
     "output_type": "execute_result"
    }
   ],
   "execution_count": 3
  },
  {
   "metadata": {},
   "cell_type": "markdown",
   "source": "### c. Positive Single Indexing in Python Nested List  Python 嵌套列表的正单索引",
   "id": "8727119fc75d550b"
  },
  {
   "metadata": {
    "ExecuteTime": {
     "end_time": "2025-07-02T12:33:26.082059Z",
     "start_time": "2025-07-02T12:33:26.075629Z"
    }
   },
   "cell_type": "code",
   "source": [
    "# create a Python list\n",
    "python_list1 = [[2, 4, 6], [8, 10, 12]]\n",
    "\n",
    "python_list1[0][1]"
   ],
   "id": "b929f66fe53631f8",
   "outputs": [
    {
     "data": {
      "text/plain": [
       "4"
      ]
     },
     "execution_count": 4,
     "metadata": {},
     "output_type": "execute_result"
    }
   ],
   "execution_count": 4
  },
  {
   "metadata": {},
   "cell_type": "markdown",
   "source": "### d. Positive Single Indexing in a NumPy Array   NumPy 数组中的正向单索引",
   "id": "c36bb2f5033fae76"
  },
  {
   "metadata": {
    "ExecuteTime": {
     "end_time": "2025-07-02T12:33:27.976162Z",
     "start_time": "2025-07-02T12:33:27.968519Z"
    }
   },
   "cell_type": "code",
   "source": [
    "num_arr = np.array(python_list1)\n",
    "num_arr"
   ],
   "id": "6aa6b2af161afde9",
   "outputs": [
    {
     "data": {
      "text/plain": [
       "array([[ 2,  4,  6],\n",
       "       [ 8, 10, 12]])"
      ]
     },
     "execution_count": 5,
     "metadata": {},
     "output_type": "execute_result"
    }
   ],
   "execution_count": 5
  },
  {
   "metadata": {
    "ExecuteTime": {
     "end_time": "2025-07-02T12:33:52.164923Z",
     "start_time": "2025-07-02T12:33:52.158608Z"
    }
   },
   "cell_type": "code",
   "source": "num_arr[0]",
   "id": "eb01ad8cd177dd5f",
   "outputs": [
    {
     "data": {
      "text/plain": [
       "array([2, 4, 6])"
      ]
     },
     "execution_count": 6,
     "metadata": {},
     "output_type": "execute_result"
    }
   ],
   "execution_count": 6
  },
  {
   "metadata": {
    "ExecuteTime": {
     "end_time": "2025-07-02T12:34:12.481094Z",
     "start_time": "2025-07-02T12:34:12.475274Z"
    }
   },
   "cell_type": "code",
   "source": "num_arr[1][0]",
   "id": "7d5721aca063519",
   "outputs": [
    {
     "data": {
      "text/plain": [
       "np.int64(8)"
      ]
     },
     "execution_count": 7,
     "metadata": {},
     "output_type": "execute_result"
    }
   ],
   "execution_count": 7
  },
  {
   "metadata": {},
   "cell_type": "markdown",
   "source": "### e. Positive Index Intervals in a NumPy Array   NumPy 数组中的正索引区间",
   "id": "c98634062ce362a4"
  },
  {
   "metadata": {
    "ExecuteTime": {
     "end_time": "2025-07-02T13:22:55.790589Z",
     "start_time": "2025-07-02T13:22:55.784107Z"
    }
   },
   "cell_type": "code",
   "source": [
    "# You can use semicolon (:) while indexing to get slices of elements from NumPy array.  您可以在索引时使用分号（:）来获取 NumPy 数组中的元素切片。\n",
    "\n",
    "# In the snippet, num_arr[0, 0:2] will get you the row indexed at 0 and the columns indexed from 0 (inclusive) to 2 (exclusive).  在代码片段中，num_arr[0, 0:2] 将获取索引为 0 的行以及从索引 0（包含）到 2（不包含）的列。\n",
    "\n",
    "# This is also known as slicing an array.  这也被称为数组切片。\n",
    "\n",
    "num_arr[0, 0:2]  # get the first row and the first two columns"
   ],
   "id": "22cb8480e7abf3b0",
   "outputs": [
    {
     "data": {
      "text/plain": [
       "array([2, 4])"
      ]
     },
     "execution_count": 8,
     "metadata": {},
     "output_type": "execute_result"
    }
   ],
   "execution_count": 8
  },
  {
   "metadata": {
    "ExecuteTime": {
     "end_time": "2025-07-02T13:25:33.023503Z",
     "start_time": "2025-07-02T13:25:33.015333Z"
    }
   },
   "cell_type": "code",
   "source": [
    "# You can slice rows and columns as shown in the snippet.  你可以像代码片段中那样切片行和列。\n",
    "\n",
    "arr2 = np.arange(0, 16)\n",
    "arr2 = arr2.reshape(4, 4)\n",
    "arr2"
   ],
   "id": "9ab9992fd81b161b",
   "outputs": [
    {
     "data": {
      "text/plain": [
       "array([[ 0,  1,  2,  3],\n",
       "       [ 4,  5,  6,  7],\n",
       "       [ 8,  9, 10, 11],\n",
       "       [12, 13, 14, 15]])"
      ]
     },
     "execution_count": 15,
     "metadata": {},
     "output_type": "execute_result"
    }
   ],
   "execution_count": 15
  },
  {
   "metadata": {
    "ExecuteTime": {
     "end_time": "2025-07-02T13:25:34.729294Z",
     "start_time": "2025-07-02T13:25:34.722657Z"
    }
   },
   "cell_type": "code",
   "source": "arr2[1:3, 2:4]",
   "id": "7627592d96e1b9e",
   "outputs": [
    {
     "data": {
      "text/plain": [
       "array([[ 6,  7],\n",
       "       [10, 11]])"
      ]
     },
     "execution_count": 16,
     "metadata": {},
     "output_type": "execute_result"
    }
   ],
   "execution_count": 16
  },
  {
   "metadata": {},
   "cell_type": "markdown",
   "source": "## 2. Negative Indexing  负向索引",
   "id": "ba540c8fd27663f9"
  },
  {
   "metadata": {},
   "cell_type": "markdown",
   "source": "### a. Rows and Columns With Negative Indexes 带负索引的行和列",
   "id": "a32f26d7085ebb86"
  },
  {
   "metadata": {
    "ExecuteTime": {
     "end_time": "2025-07-02T13:40:46.115695Z",
     "start_time": "2025-07-02T13:40:46.108079Z"
    }
   },
   "cell_type": "code",
   "source": [
    "# Using Negative Single Index  使用负单索引\n",
    "arr3 = np.arange(0, 6)\n",
    "arr3"
   ],
   "id": "f94c2fd03b76e3ee",
   "outputs": [
    {
     "data": {
      "text/plain": [
       "array([0, 1, 2, 3, 4, 5])"
      ]
     },
     "execution_count": 17,
     "metadata": {},
     "output_type": "execute_result"
    }
   ],
   "execution_count": 17
  },
  {
   "metadata": {
    "ExecuteTime": {
     "end_time": "2025-07-02T13:40:57.761805Z",
     "start_time": "2025-07-02T13:40:57.755567Z"
    }
   },
   "cell_type": "code",
   "source": "arr3[-3]",
   "id": "ebaf0e82eb25b330",
   "outputs": [
    {
     "data": {
      "text/plain": [
       "np.int64(3)"
      ]
     },
     "execution_count": 18,
     "metadata": {},
     "output_type": "execute_result"
    }
   ],
   "execution_count": 18
  },
  {
   "metadata": {
    "ExecuteTime": {
     "end_time": "2025-07-02T13:42:26.541268Z",
     "start_time": "2025-07-02T13:42:26.533823Z"
    }
   },
   "cell_type": "code",
   "source": [
    "arr4 = np.arange(0, 9)\n",
    "arr4 = arr4.reshape(3, 3)\n",
    "arr4"
   ],
   "id": "c22a36f1e7035f50",
   "outputs": [
    {
     "data": {
      "text/plain": [
       "array([[0, 1, 2],\n",
       "       [3, 4, 5],\n",
       "       [6, 7, 8]])"
      ]
     },
     "execution_count": 22,
     "metadata": {},
     "output_type": "execute_result"
    }
   ],
   "execution_count": 22
  },
  {
   "metadata": {
    "ExecuteTime": {
     "end_time": "2025-07-02T13:42:25.308844Z",
     "start_time": "2025-07-02T13:42:25.302792Z"
    }
   },
   "cell_type": "code",
   "source": "arr4[-2]",
   "id": "78b40a9026975535",
   "outputs": [
    {
     "data": {
      "text/plain": [
       "array([3, 4, 5])"
      ]
     },
     "execution_count": 21,
     "metadata": {},
     "output_type": "execute_result"
    }
   ],
   "execution_count": 21
  },
  {
   "metadata": {
    "ExecuteTime": {
     "end_time": "2025-07-02T13:42:06.175585Z",
     "start_time": "2025-07-02T13:42:06.168872Z"
    }
   },
   "cell_type": "code",
   "source": "arr4[-2, -1]",
   "id": "dba55cbf1c19e86a",
   "outputs": [
    {
     "data": {
      "text/plain": [
       "np.int64(5)"
      ]
     },
     "execution_count": 20,
     "metadata": {},
     "output_type": "execute_result"
    }
   ],
   "execution_count": 20
  },
  {
   "metadata": {},
   "cell_type": "markdown",
   "source": "### b. Negative Index Intervals  负索引区间",
   "id": "d612ca308a0afa17"
  },
  {
   "metadata": {
    "ExecuteTime": {
     "end_time": "2025-07-02T13:43:28.741431Z",
     "start_time": "2025-07-02T13:43:28.734278Z"
    }
   },
   "cell_type": "code",
   "source": [
    "arr5 = np.arange(0, 16)\n",
    "arr5"
   ],
   "id": "b7e996267f034c0",
   "outputs": [
    {
     "data": {
      "text/plain": [
       "array([ 0,  1,  2,  3,  4,  5,  6,  7,  8,  9, 10, 11, 12, 13, 14, 15])"
      ]
     },
     "execution_count": 23,
     "metadata": {},
     "output_type": "execute_result"
    }
   ],
   "execution_count": 23
  },
  {
   "metadata": {
    "ExecuteTime": {
     "end_time": "2025-07-02T13:43:47.543104Z",
     "start_time": "2025-07-02T13:43:47.535377Z"
    }
   },
   "cell_type": "code",
   "source": [
    "arr5 = arr5.reshape(4, 4)\n",
    "arr5"
   ],
   "id": "641ccc2f8e8f0b34",
   "outputs": [
    {
     "data": {
      "text/plain": [
       "array([[ 0,  1,  2,  3],\n",
       "       [ 4,  5,  6,  7],\n",
       "       [ 8,  9, 10, 11],\n",
       "       [12, 13, 14, 15]])"
      ]
     },
     "execution_count": 25,
     "metadata": {},
     "output_type": "execute_result"
    }
   ],
   "execution_count": 25
  },
  {
   "metadata": {
    "ExecuteTime": {
     "end_time": "2025-07-02T13:50:02.809311Z",
     "start_time": "2025-07-02T13:50:02.802601Z"
    }
   },
   "cell_type": "code",
   "source": "arr5[-3:-1, -2:]",
   "id": "ae08900942da0615",
   "outputs": [
    {
     "data": {
      "text/plain": [
       "array([[ 6,  7],\n",
       "       [10, 11]])"
      ]
     },
     "execution_count": 36,
     "metadata": {},
     "output_type": "execute_result"
    }
   ],
   "execution_count": 36
  },
  {
   "metadata": {},
   "cell_type": "markdown",
   "source": "## 3. Striding in Python  在 Python 中使用步长",
   "id": "3100e7cad9aad84b"
  },
  {
   "metadata": {
    "ExecuteTime": {
     "end_time": "2025-07-02T13:53:40.494140Z",
     "start_time": "2025-07-02T13:53:40.487305Z"
    }
   },
   "cell_type": "code",
   "source": [
    "arr6 = np.arange(0, 16)\n",
    "arr6 = arr6.reshape(4, 4)\n",
    "arr6"
   ],
   "id": "31443fb854fc73ef",
   "outputs": [
    {
     "data": {
      "text/plain": [
       "array([[ 0,  1,  2,  3],\n",
       "       [ 4,  5,  6,  7],\n",
       "       [ 8,  9, 10, 11],\n",
       "       [12, 13, 14, 15]])"
      ]
     },
     "execution_count": 38,
     "metadata": {},
     "output_type": "execute_result"
    }
   ],
   "execution_count": 38
  },
  {
   "metadata": {
    "ExecuteTime": {
     "end_time": "2025-07-02T13:53:48.375781Z",
     "start_time": "2025-07-02T13:53:48.369573Z"
    }
   },
   "cell_type": "code",
   "source": "arr6[0:3:2]",
   "id": "ec63624dcd2a72bd",
   "outputs": [
    {
     "data": {
      "text/plain": [
       "array([[ 0,  1,  2,  3],\n",
       "       [ 8,  9, 10, 11]])"
      ]
     },
     "execution_count": 39,
     "metadata": {},
     "output_type": "execute_result"
    }
   ],
   "execution_count": 39
  },
  {
   "metadata": {},
   "cell_type": "markdown",
   "source": "## 4. Exercise  练习",
   "id": "c9d00d04191064d8"
  },
  {
   "metadata": {
    "ExecuteTime": {
     "end_time": "2025-07-02T14:32:10.724076Z",
     "start_time": "2025-07-02T14:32:10.715198Z"
    }
   },
   "cell_type": "code",
   "source": [
    "exArray1 = np.arange(0, 25)\n",
    "exArray1 = exArray1.reshape(5, 5)\n",
    "\n",
    "exArray1[0:2, 3:5]"
   ],
   "id": "d161711e04bf50e6",
   "outputs": [
    {
     "data": {
      "text/plain": [
       "array([[3, 4],\n",
       "       [8, 9]])"
      ]
     },
     "execution_count": 41,
     "metadata": {},
     "output_type": "execute_result"
    }
   ],
   "execution_count": 41
  },
  {
   "metadata": {
    "ExecuteTime": {
     "end_time": "2025-07-02T14:33:13.032110Z",
     "start_time": "2025-07-02T14:33:13.025497Z"
    }
   },
   "cell_type": "code",
   "source": "exArray1[1:6:2, 0:6:2]",
   "id": "6b4a7056f9dc1a6e",
   "outputs": [
    {
     "data": {
      "text/plain": [
       "array([[ 5,  7,  9],\n",
       "       [15, 17, 19]])"
      ]
     },
     "execution_count": 42,
     "metadata": {},
     "output_type": "execute_result"
    }
   ],
   "execution_count": 42
  }
 ],
 "metadata": {
  "kernelspec": {
   "display_name": "Python 3",
   "language": "python",
   "name": "python3"
  },
  "language_info": {
   "codemirror_mode": {
    "name": "ipython",
    "version": 2
   },
   "file_extension": ".py",
   "mimetype": "text/x-python",
   "name": "python",
   "nbconvert_exporter": "python",
   "pygments_lexer": "ipython2",
   "version": "2.7.6"
  }
 },
 "nbformat": 4,
 "nbformat_minor": 5
}
