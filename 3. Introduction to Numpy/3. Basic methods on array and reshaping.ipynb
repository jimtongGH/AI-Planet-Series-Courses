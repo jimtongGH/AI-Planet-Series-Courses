{
 "cells": [
  {
   "metadata": {},
   "cell_type": "markdown",
   "source": "# Basic methods on array and reshaping 数组的基本操作和重塑",
   "id": "8fe7cabbffb26338"
  },
  {
   "metadata": {},
   "cell_type": "markdown",
   "source": "## 1. Add, Remove and Sort  添加、删除和排序",
   "id": "285e18edc12ddf4f"
  },
  {
   "metadata": {},
   "cell_type": "markdown",
   "source": "### a. Adding an Element  添加元素",
   "id": "4c207cef37842eb9"
  },
  {
   "metadata": {
    "ExecuteTime": {
     "end_time": "2025-07-01T21:32:02.649689Z",
     "start_time": "2025-07-01T21:32:02.644104Z"
    }
   },
   "cell_type": "code",
   "source": "import numpy as np",
   "id": "d0a5863161f34627",
   "outputs": [],
   "execution_count": 1
  },
  {
   "metadata": {
    "ExecuteTime": {
     "end_time": "2025-07-01T21:32:40.898991Z",
     "start_time": "2025-07-01T21:32:40.887794Z"
    }
   },
   "cell_type": "code",
   "source": [
    "arr1 = np.array([2, 5, 7, 3, 4, 6])\n",
    "arr1"
   ],
   "id": "144371b7e6cd9854",
   "outputs": [
    {
     "data": {
      "text/plain": [
       "array([2, 5, 7, 3, 4, 6])"
      ]
     },
     "execution_count": 2,
     "metadata": {},
     "output_type": "execute_result"
    }
   ],
   "execution_count": 2
  },
  {
   "metadata": {
    "ExecuteTime": {
     "end_time": "2025-07-01T21:33:20.611114Z",
     "start_time": "2025-07-01T21:33:20.603498Z"
    }
   },
   "cell_type": "code",
   "source": [
    "# You can use append method to add an element in a NumPy array:  您可以使用 append 方法向 NumPy 数组中添加元素：\n",
    "arr1 = np.append(arr1, 15)\n",
    "arr1"
   ],
   "id": "88b7d8f4a018a577",
   "outputs": [
    {
     "data": {
      "text/plain": [
       "array([ 2,  5,  7,  3,  4,  6, 15])"
      ]
     },
     "execution_count": 3,
     "metadata": {},
     "output_type": "execute_result"
    }
   ],
   "execution_count": 3
  },
  {
   "metadata": {
    "ExecuteTime": {
     "end_time": "2025-07-01T21:34:29.477916Z",
     "start_time": "2025-07-01T21:34:29.470584Z"
    }
   },
   "cell_type": "code",
   "source": [
    "list1 = [2, 5, 4, 6, 7]\n",
    "arr2 = np.append(list1, 10)\n",
    "arr2"
   ],
   "id": "810badf7c0cd2ed0",
   "outputs": [
    {
     "data": {
      "text/plain": [
       "array([ 2,  5,  4,  6,  7, 10])"
      ]
     },
     "execution_count": 4,
     "metadata": {},
     "output_type": "execute_result"
    }
   ],
   "execution_count": 4
  },
  {
   "metadata": {
    "ExecuteTime": {
     "end_time": "2025-07-01T21:34:39.280799Z",
     "start_time": "2025-07-01T21:34:39.273289Z"
    }
   },
   "cell_type": "code",
   "source": "type(arr2)",
   "id": "94edcb97892d383f",
   "outputs": [
    {
     "data": {
      "text/plain": [
       "numpy.ndarray"
      ]
     },
     "execution_count": 5,
     "metadata": {},
     "output_type": "execute_result"
    }
   ],
   "execution_count": 5
  },
  {
   "metadata": {
    "ExecuteTime": {
     "end_time": "2025-07-01T21:35:10.190286Z",
     "start_time": "2025-07-01T21:35:10.184228Z"
    }
   },
   "cell_type": "code",
   "source": [
    "arr1 = np.append(arr1, [11, 22])\n",
    "arr1"
   ],
   "id": "3147afb5bc7b5a06",
   "outputs": [
    {
     "data": {
      "text/plain": [
       "array([ 2,  5,  7,  3,  4,  6, 15, 11, 22])"
      ]
     },
     "execution_count": 6,
     "metadata": {},
     "output_type": "execute_result"
    }
   ],
   "execution_count": 6
  },
  {
   "metadata": {
    "ExecuteTime": {
     "end_time": "2025-07-01T21:36:16.639859Z",
     "start_time": "2025-07-01T21:36:15.817335Z"
    }
   },
   "cell_type": "code",
   "source": [
    "# Caution!  注意！\n",
    "# A NumPy array doesn’t support append() method directly on the array. The given snippet will clear this:  NumPy 数组不能直接在数组上使用 append() 方法。下面的代码片段将说明这一点：\n",
    "arr1.append(20)  # This will raise an error"
   ],
   "id": "37ff90adffbf42e1",
   "outputs": [
    {
     "ename": "AttributeError",
     "evalue": "'numpy.ndarray' object has no attribute 'append'",
     "output_type": "error",
     "traceback": [
      "\u001B[31m---------------------------------------------------------------------------\u001B[39m",
      "\u001B[31mAttributeError\u001B[39m                            Traceback (most recent call last)",
      "\u001B[36mCell\u001B[39m\u001B[36m \u001B[39m\u001B[32mIn[7]\u001B[39m\u001B[32m, line 3\u001B[39m\n\u001B[32m      1\u001B[39m \u001B[38;5;66;03m# Caution!  注意！\u001B[39;00m\n\u001B[32m      2\u001B[39m \u001B[38;5;66;03m# A NumPy array doesn’t support append() method directly on the array. The given snippet will clear this:  NumPy 数组不能直接在数组上使用 append() 方法。下面的代码片段将说明这一点：\u001B[39;00m\n\u001B[32m----> \u001B[39m\u001B[32m3\u001B[39m arr1.append(\u001B[32m20\u001B[39m)\n",
      "\u001B[31mAttributeError\u001B[39m: 'numpy.ndarray' object has no attribute 'append'"
     ]
    }
   ],
   "execution_count": 7
  },
  {
   "metadata": {},
   "cell_type": "markdown",
   "source": "### b. Removing an Element  删除元素",
   "id": "2f88bd31a4f82ef4"
  },
  {
   "metadata": {
    "ExecuteTime": {
     "end_time": "2025-07-02T11:42:37.184141Z",
     "start_time": "2025-07-02T11:42:37.133109Z"
    }
   },
   "cell_type": "code",
   "source": [
    "# You can remove an element from an array using delete method of NumPy. See the snippet below: 您可以使用 NumPy 的删除方法从数组中删除元素。\n",
    "\n",
    "arr3 = np.array([2, 5, 7, 3, 4, 6])\n",
    "arr3"
   ],
   "id": "feb68a225df8ba06",
   "outputs": [
    {
     "data": {
      "text/plain": [
       "array([2, 5, 7, 3, 4, 6])"
      ]
     },
     "execution_count": 8,
     "metadata": {},
     "output_type": "execute_result"
    }
   ],
   "execution_count": 8
  },
  {
   "metadata": {
    "ExecuteTime": {
     "end_time": "2025-07-02T12:04:11.172222Z",
     "start_time": "2025-07-02T12:04:11.165725Z"
    }
   },
   "cell_type": "code",
   "source": "np.delete(arr3, 2) # This will remove the element at index 2",
   "id": "69720b8a9e592553",
   "outputs": [
    {
     "data": {
      "text/plain": [
       "array([2, 5, 3, 4, 6])"
      ]
     },
     "execution_count": 34,
     "metadata": {},
     "output_type": "execute_result"
    }
   ],
   "execution_count": 34
  },
  {
   "metadata": {
    "ExecuteTime": {
     "end_time": "2025-07-02T11:44:26.038663Z",
     "start_time": "2025-07-02T11:44:26.031871Z"
    }
   },
   "cell_type": "code",
   "source": [
    "# You can also remove an element from a Python list using np.delete() method.  您也可以使用 np.delete()方法从 Python 列表中删除元素。\n",
    "list2 = [2, 5, 4, 6, 7]\n",
    "np.delete(list2, 2)  # This will remove the element at index 2"
   ],
   "id": "5a8a23248368d233",
   "outputs": [
    {
     "data": {
      "text/plain": [
       "array([2, 5, 6, 7])"
      ]
     },
     "execution_count": 10,
     "metadata": {},
     "output_type": "execute_result"
    }
   ],
   "execution_count": 10
  },
  {
   "metadata": {},
   "cell_type": "markdown",
   "source": "### c. Sorting an Array  排序数组",
   "id": "1a1fea33f48bb7a5"
  },
  {
   "metadata": {
    "ExecuteTime": {
     "end_time": "2025-07-02T11:46:33.333642Z",
     "start_time": "2025-07-02T11:46:33.324696Z"
    }
   },
   "cell_type": "code",
   "source": [
    "# You can quickly sort an array in ascending order as:   你可以快速将数组按升序排序\n",
    "arr4 = np.array([2, 5, 7, 3, 4, 6])\n",
    "np.sort(arr4)  # This will sort the array in ascending order\n",
    "\n",
    "arr4.sort()  # This will sort the array in ascending order\n",
    "arr4"
   ],
   "id": "24030c8cd8a5a2c9",
   "outputs": [
    {
     "data": {
      "text/plain": [
       "array([2, 3, 4, 5, 6, 7])"
      ]
     },
     "execution_count": 14,
     "metadata": {},
     "output_type": "execute_result"
    }
   ],
   "execution_count": 14
  },
  {
   "metadata": {},
   "cell_type": "markdown",
   "source": [
    "## 2. Reshaping an Array  重塑数组\n",
    "- Using np.reshape() will change the shape of your array.  使用 np.reshape() 会改变你的数组形状。\n",
    "- Also, there won’t be any changes in the original data other than the shape.  此外，除了形状之外，原始数据不会发生任何变化。"
   ],
   "id": "cd8c94773b37e352"
  },
  {
   "metadata": {
    "ExecuteTime": {
     "end_time": "2025-07-02T11:51:11.557538Z",
     "start_time": "2025-07-02T11:51:11.549898Z"
    }
   },
   "cell_type": "code",
   "source": [
    "# You can reshape an array using np.reshape() method.  您可以使用 np.reshape() 方法重塑数组。\n",
    "arr5 = np.arange(0, 12)\n",
    "np.reshape(arr5, (2, 6))"
   ],
   "id": "cc9a6df619b4f53",
   "outputs": [
    {
     "data": {
      "text/plain": [
       "array([[ 0,  1,  2,  3,  4,  5],\n",
       "       [ 6,  7,  8,  9, 10, 11]])"
      ]
     },
     "execution_count": 26,
     "metadata": {},
     "output_type": "execute_result"
    }
   ],
   "execution_count": 26
  },
  {
   "metadata": {
    "ExecuteTime": {
     "end_time": "2025-07-02T11:59:29.820012Z",
     "start_time": "2025-07-02T11:59:29.814609Z"
    }
   },
   "cell_type": "code",
   "source": "arr5.reshape(3, 4)",
   "id": "3a0c31996497bda6",
   "outputs": [
    {
     "data": {
      "text/plain": [
       "array([[ 0,  1,  2,  3],\n",
       "       [ 4,  5,  6,  7],\n",
       "       [ 8,  9, 10, 11]])"
      ]
     },
     "execution_count": 28,
     "metadata": {},
     "output_type": "execute_result"
    }
   ],
   "execution_count": 28
  },
  {
   "metadata": {
    "ExecuteTime": {
     "end_time": "2025-07-02T11:57:32.592865Z",
     "start_time": "2025-07-02T11:57:32.586033Z"
    }
   },
   "cell_type": "code",
   "source": [
    "# Using np.reshape() you can change the shape of a Python list but the returned object is of type numpy.ndarray, i.e., it becomes a NumPy array.  使用 np.reshape() 你可以改变 Python 列表的形状，但返回的对象是 numpy.ndarray 类型，即它变成了一个 NumPy 数组。\n",
    "list3 = [1, 2, 3, 4, 5, 6, 7, 8, 9, 10, 11, 12]\n",
    "np.reshape(list3, (2, 6))"
   ],
   "id": "4349278122a020a1",
   "outputs": [
    {
     "data": {
      "text/plain": [
       "array([[ 1,  2,  3,  4,  5,  6],\n",
       "       [ 7,  8,  9, 10, 11, 12]])"
      ]
     },
     "execution_count": 27,
     "metadata": {},
     "output_type": "execute_result"
    }
   ],
   "execution_count": 27
  },
  {
   "metadata": {},
   "cell_type": "markdown",
   "source": "### 3. Exercise 练习",
   "id": "f55c8845ad81caba"
  },
  {
   "metadata": {
    "ExecuteTime": {
     "end_time": "2025-07-02T12:03:01.357376Z",
     "start_time": "2025-07-02T12:03:01.350773Z"
    }
   },
   "cell_type": "code",
   "source": [
    "exArray1 = np.arange(0, 16)\n",
    "exArray1"
   ],
   "id": "3dd039c1bd1feca0",
   "outputs": [
    {
     "data": {
      "text/plain": [
       "array([ 0,  1,  2,  3,  4,  5,  6,  7,  8,  9, 10, 11, 12, 13, 14, 15])"
      ]
     },
     "execution_count": 30,
     "metadata": {},
     "output_type": "execute_result"
    }
   ],
   "execution_count": 30
  },
  {
   "metadata": {
    "ExecuteTime": {
     "end_time": "2025-07-02T12:13:36.523590Z",
     "start_time": "2025-07-02T12:13:36.516375Z"
    }
   },
   "cell_type": "code",
   "source": [
    "L = [10, 2, 7, 8, 3, 22, 54, 12, 13, 46, 23, 25, 41]\n",
    "\n",
    "exArray2 = np.array(L)\n",
    "exArray2 = np.sort(exArray2)\n",
    "exArray2 = np.delete(exArray2, 4)\n",
    "exArray2"
   ],
   "id": "fee6f4b01a5422d0",
   "outputs": [
    {
     "data": {
      "text/plain": [
       "array([ 2,  3,  7,  8, 12, 13, 22, 23, 25, 41, 46, 54])"
      ]
     },
     "execution_count": 53,
     "metadata": {},
     "output_type": "execute_result"
    }
   ],
   "execution_count": 53
  },
  {
   "metadata": {
    "ExecuteTime": {
     "end_time": "2025-07-02T12:13:37.947117Z",
     "start_time": "2025-07-02T12:13:37.940311Z"
    }
   },
   "cell_type": "code",
   "source": [
    "L.append(53)\n",
    "exArray3 = np.array(L)\n",
    "\n",
    "exArray3 = np.reshape(exArray3, (2, 7))\n",
    "exArray3"
   ],
   "id": "e61e44bed5d86b63",
   "outputs": [
    {
     "data": {
      "text/plain": [
       "array([[10,  2,  7,  8,  3, 22, 54],\n",
       "       [12, 13, 46, 23, 25, 41, 53]])"
      ]
     },
     "execution_count": 54,
     "metadata": {},
     "output_type": "execute_result"
    }
   ],
   "execution_count": 54
  }
 ],
 "metadata": {
  "kernelspec": {
   "display_name": "Python 3",
   "language": "python",
   "name": "python3"
  },
  "language_info": {
   "codemirror_mode": {
    "name": "ipython",
    "version": 2
   },
   "file_extension": ".py",
   "mimetype": "text/x-python",
   "name": "python",
   "nbconvert_exporter": "python",
   "pygments_lexer": "ipython2",
   "version": "2.7.6"
  }
 },
 "nbformat": 4,
 "nbformat_minor": 5
}
