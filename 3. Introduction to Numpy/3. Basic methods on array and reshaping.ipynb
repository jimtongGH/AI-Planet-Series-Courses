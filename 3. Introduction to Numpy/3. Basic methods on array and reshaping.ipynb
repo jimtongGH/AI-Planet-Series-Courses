{
 "cells": [
  {
   "metadata": {},
   "cell_type": "markdown",
   "source": "# Basic methods on array and reshaping 数组的基本操作和重塑",
   "id": "8fe7cabbffb26338"
  },
  {
   "metadata": {},
   "cell_type": "markdown",
   "source": "## Add, Remove and Sort  添加、删除和排序",
   "id": "285e18edc12ddf4f"
  },
  {
   "metadata": {
    "ExecuteTime": {
     "end_time": "2025-07-01T21:32:02.649689Z",
     "start_time": "2025-07-01T21:32:02.644104Z"
    }
   },
   "cell_type": "code",
   "source": "import numpy as np",
   "id": "d0a5863161f34627",
   "outputs": [],
   "execution_count": 1
  },
  {
   "metadata": {
    "ExecuteTime": {
     "end_time": "2025-07-01T21:32:40.898991Z",
     "start_time": "2025-07-01T21:32:40.887794Z"
    }
   },
   "cell_type": "code",
   "source": [
    "arr1 = np.array([2, 5, 7, 3, 4, 6])\n",
    "arr1"
   ],
   "id": "144371b7e6cd9854",
   "outputs": [
    {
     "data": {
      "text/plain": [
       "array([2, 5, 7, 3, 4, 6])"
      ]
     },
     "execution_count": 2,
     "metadata": {},
     "output_type": "execute_result"
    }
   ],
   "execution_count": 2
  },
  {
   "metadata": {
    "ExecuteTime": {
     "end_time": "2025-07-01T21:33:20.611114Z",
     "start_time": "2025-07-01T21:33:20.603498Z"
    }
   },
   "cell_type": "code",
   "source": [
    "# You can use append method to add an element in a NumPy array:  您可以使用 append 方法向 NumPy 数组中添加元素：\n",
    "arr1 = np.append(arr1, 15)\n",
    "arr1"
   ],
   "id": "88b7d8f4a018a577",
   "outputs": [
    {
     "data": {
      "text/plain": [
       "array([ 2,  5,  7,  3,  4,  6, 15])"
      ]
     },
     "execution_count": 3,
     "metadata": {},
     "output_type": "execute_result"
    }
   ],
   "execution_count": 3
  },
  {
   "metadata": {
    "ExecuteTime": {
     "end_time": "2025-07-01T21:34:29.477916Z",
     "start_time": "2025-07-01T21:34:29.470584Z"
    }
   },
   "cell_type": "code",
   "source": [
    "list1 = [2, 5, 4, 6, 7]\n",
    "arr2 = np.append(list1, 10)\n",
    "arr2"
   ],
   "id": "810badf7c0cd2ed0",
   "outputs": [
    {
     "data": {
      "text/plain": [
       "array([ 2,  5,  4,  6,  7, 10])"
      ]
     },
     "execution_count": 4,
     "metadata": {},
     "output_type": "execute_result"
    }
   ],
   "execution_count": 4
  },
  {
   "metadata": {
    "ExecuteTime": {
     "end_time": "2025-07-01T21:34:39.280799Z",
     "start_time": "2025-07-01T21:34:39.273289Z"
    }
   },
   "cell_type": "code",
   "source": "type(arr2)",
   "id": "94edcb97892d383f",
   "outputs": [
    {
     "data": {
      "text/plain": [
       "numpy.ndarray"
      ]
     },
     "execution_count": 5,
     "metadata": {},
     "output_type": "execute_result"
    }
   ],
   "execution_count": 5
  },
  {
   "metadata": {
    "ExecuteTime": {
     "end_time": "2025-07-01T21:35:10.190286Z",
     "start_time": "2025-07-01T21:35:10.184228Z"
    }
   },
   "cell_type": "code",
   "source": [
    "arr1 = np.append(arr1, [11, 22])\n",
    "arr1"
   ],
   "id": "3147afb5bc7b5a06",
   "outputs": [
    {
     "data": {
      "text/plain": [
       "array([ 2,  5,  7,  3,  4,  6, 15, 11, 22])"
      ]
     },
     "execution_count": 6,
     "metadata": {},
     "output_type": "execute_result"
    }
   ],
   "execution_count": 6
  },
  {
   "metadata": {
    "ExecuteTime": {
     "end_time": "2025-07-01T21:36:16.639859Z",
     "start_time": "2025-07-01T21:36:15.817335Z"
    }
   },
   "cell_type": "code",
   "source": [
    "# Caution!  注意！\n",
    "# A NumPy array doesn’t support append() method directly on the array. The given snippet will clear this:  NumPy 数组不能直接在数组上使用 append() 方法。下面的代码片段将说明这一点：\n",
    "arr1.append(20)  # This will raise an error"
   ],
   "id": "37ff90adffbf42e1",
   "outputs": [
    {
     "ename": "AttributeError",
     "evalue": "'numpy.ndarray' object has no attribute 'append'",
     "output_type": "error",
     "traceback": [
      "\u001B[31m---------------------------------------------------------------------------\u001B[39m",
      "\u001B[31mAttributeError\u001B[39m                            Traceback (most recent call last)",
      "\u001B[36mCell\u001B[39m\u001B[36m \u001B[39m\u001B[32mIn[7]\u001B[39m\u001B[32m, line 3\u001B[39m\n\u001B[32m      1\u001B[39m \u001B[38;5;66;03m# Caution!  注意！\u001B[39;00m\n\u001B[32m      2\u001B[39m \u001B[38;5;66;03m# A NumPy array doesn’t support append() method directly on the array. The given snippet will clear this:  NumPy 数组不能直接在数组上使用 append() 方法。下面的代码片段将说明这一点：\u001B[39;00m\n\u001B[32m----> \u001B[39m\u001B[32m3\u001B[39m arr1.append(\u001B[32m20\u001B[39m)\n",
      "\u001B[31mAttributeError\u001B[39m: 'numpy.ndarray' object has no attribute 'append'"
     ]
    }
   ],
   "execution_count": 7
  },
  {
   "metadata": {},
   "cell_type": "code",
   "outputs": [],
   "execution_count": null,
   "source": "",
   "id": "71b29857ff411039"
  }
 ],
 "metadata": {
  "kernelspec": {
   "display_name": "Python 3",
   "language": "python",
   "name": "python3"
  },
  "language_info": {
   "codemirror_mode": {
    "name": "ipython",
    "version": 2
   },
   "file_extension": ".py",
   "mimetype": "text/x-python",
   "name": "python",
   "nbconvert_exporter": "python",
   "pygments_lexer": "ipython2",
   "version": "2.7.6"
  }
 },
 "nbformat": 4,
 "nbformat_minor": 5
}
