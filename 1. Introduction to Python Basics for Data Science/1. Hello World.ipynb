{
 "cells": [
  {
   "cell_type": "code",
   "id": "initial_id",
   "metadata": {
    "collapsed": true,
    "ExecuteTime": {
     "end_time": "2025-06-28T18:08:55.117737Z",
     "start_time": "2025-06-28T18:08:55.110432Z"
    }
   },
   "source": "print(\"hello world\")",
   "outputs": [
    {
     "name": "stdout",
     "output_type": "stream",
     "text": [
      "hello world\n"
     ]
    }
   ],
   "execution_count": 1
  },
  {
   "metadata": {},
   "cell_type": "markdown",
   "source": "# Variables, Data Types and Operators in Python",
   "id": "aab198689e08ca82"
  },
  {
   "metadata": {},
   "cell_type": "markdown",
   "source": "## Comments in Python",
   "id": "107b9f549147d7be"
  },
  {
   "metadata": {
    "ExecuteTime": {
     "end_time": "2025-06-28T18:12:25.387210Z",
     "start_time": "2025-06-28T18:12:25.383218Z"
    }
   },
   "cell_type": "code",
   "source": [
    "# assign a value to a variable\n",
    "x = 5\n",
    "y = 10"
   ],
   "id": "2f60b10d180daa67",
   "outputs": [],
   "execution_count": 2
  },
  {
   "metadata": {},
   "cell_type": "markdown",
   "source": [
    "## Operators in Python\n",
    "### + - * / % // **\n",
    "\n",
    "## Comparison Operator\n",
    "### == != < > <= >=\n",
    "\n",
    "## Logical Operator\n",
    "### and or not"
   ],
   "id": "2cff53be548b4ff8"
  },
  {
   "metadata": {},
   "cell_type": "markdown",
   "source": [
    "## Input and Output in Python\n",
    "### print() and input()"
   ],
   "id": "fda3007b637dc6b2"
  },
  {
   "metadata": {
    "ExecuteTime": {
     "end_time": "2025-06-28T18:16:40.266425Z",
     "start_time": "2025-06-28T18:16:40.261264Z"
    }
   },
   "cell_type": "code",
   "source": [
    "x = 36 / 4 * (3 + 2) * 4 + 2\n",
    "print(x)"
   ],
   "id": "65b7bf7c5932d380",
   "outputs": [
    {
     "name": "stdout",
     "output_type": "stream",
     "text": [
      "182.0\n"
     ]
    }
   ],
   "execution_count": 6
  }
 ],
 "metadata": {
  "kernelspec": {
   "display_name": "Python 3",
   "language": "python",
   "name": "python3"
  },
  "language_info": {
   "codemirror_mode": {
    "name": "ipython",
    "version": 2
   },
   "file_extension": ".py",
   "mimetype": "text/x-python",
   "name": "python",
   "nbconvert_exporter": "python",
   "pygments_lexer": "ipython2",
   "version": "2.7.6"
  }
 },
 "nbformat": 4,
 "nbformat_minor": 5
}
