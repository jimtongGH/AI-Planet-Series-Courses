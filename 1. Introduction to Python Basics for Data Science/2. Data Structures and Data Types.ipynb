{
 "cells": [
  {
   "metadata": {},
   "cell_type": "markdown",
   "source": [
    "# Data Types in Python\n",
    "## You can get the data type of any object by using the type( ) function"
   ],
   "id": "1104d622fc40011d"
  },
  {
   "metadata": {
    "ExecuteTime": {
     "end_time": "2025-06-28T18:43:23.733913Z",
     "start_time": "2025-06-28T18:43:23.727863Z"
    }
   },
   "cell_type": "code",
   "source": [
    "a = \"hello world\"\n",
    "# String Slicing\n",
    "print(a[0:5])  # Output: hello\n",
    "\n",
    "# Negative Indexing: start with -1 at the end of the string\n",
    "print(a[-5:])  # Output: world\n",
    "print(a[-4]) # Output: o\n",
    "\n",
    "# String Length\n",
    "print(len(a))  # Output: 11"
   ],
   "id": "775437a2358415cc",
   "outputs": [
    {
     "name": "stdout",
     "output_type": "stream",
     "text": [
      "hello\n",
      "world\n",
      "o\n",
      "11\n"
     ]
    }
   ],
   "execution_count": 8
  },
  {
   "metadata": {},
   "cell_type": "markdown",
   "source": "## List in Python",
   "id": "c7b740a1baa0e0f6"
  },
  {
   "metadata": {
    "ExecuteTime": {
     "end_time": "2025-06-28T18:30:54.932969Z",
     "start_time": "2025-06-28T18:30:54.925945Z"
    }
   },
   "cell_type": "code",
   "source": [
    "A = [\"Brush\", \"Leuven\", \"Leuven\", 48851964400, 3.14, \"Mom\"] # List with mixed data types, Declaring a List using []\n",
    "\n",
    "# .append()\n",
    "A.append(\"Dad\")  # Adding an element to the end of the list\n",
    "print(A)  # Output: ['Brush', 'Leuven', 48851964400, 3.14, 'Mom', 'Dad']\n",
    "\n",
    "# .count()\n",
    "print(A.count(\"Leuven\"))  # Output: 2, Counting occurrences of \"Leuven\"\n",
    "\n",
    "# len()\n",
    "print(len(A))  # Output: 6, Length of the list\n",
    "\n",
    "B = [\"1\", \"3\", \"4\", \"2\", \"5\"]\n",
    "# .sort()\n",
    "B.sort()  # Sorting the list in ascending order\n",
    "print(B)  # Output: ['1', '2', '3', '4', '5']"
   ],
   "id": "206ddfdcd7f15be7",
   "outputs": [
    {
     "name": "stdout",
     "output_type": "stream",
     "text": [
      "['Brush', 'Leuven', 'Leuven', 48851964400, 3.14, 'Mom', 'Dad']\n",
      "2\n"
     ]
    }
   ],
   "execution_count": 1
  },
  {
   "metadata": {},
   "cell_type": "markdown",
   "source": [
    "## Tuple in Python\n",
    "### Tuples are immutable sequences, typically used to store collections of heterogeneous data.\n",
    "### Tuples can not be changed after creation, which means you cannot add, remove, or modify elements."
   ],
   "id": "78f9a77c0656aca2"
  },
  {
   "metadata": {
    "ExecuteTime": {
     "end_time": "2025-06-28T18:39:14.662857Z",
     "start_time": "2025-06-28T18:39:14.657834Z"
    }
   },
   "cell_type": "code",
   "source": [
    "A = (\"Brush\", \"Leuven\", \"Leuven\", 48851964400, 3.14, \"Mom\")  # Tuple with mixed data types, Declaring a Tuple using ()\n",
    "B = (4, 5, 6, 7, 8)  # Tuple with integers\n",
    "# B[2] = 10  # This will raise an error because tuples are immutable\n",
    "# print(B[2])"
   ],
   "id": "f2b177b5fd35f3af",
   "outputs": [],
   "execution_count": 7
  },
  {
   "metadata": {},
   "cell_type": "markdown",
   "source": "## Dictionary in Python",
   "id": "fbb036e88132e198"
  },
  {
   "metadata": {},
   "cell_type": "code",
   "outputs": [],
   "execution_count": null,
   "source": [
    "dict_1 = {\n",
    "    \"name\": \"Brush\",\n",
    "    \"city\": \"Leuven\",\n",
    "    \"phone\": 48851964400,\n",
    "    \"pi\": 3.14,\n",
    "    \"family\": [\"Mom\", \"Dad\"]\n",
    "}\n",
    "\n",
    "dict_2 = dict(\n",
    "    name=\"Brush\",\n",
    "    city=\"Leuven\",\n",
    "    phone=48851964400,\n",
    "    pi=3.14,\n",
    "    family=[\"Mom\", \"Dad\"]\n",
    ")"
   ],
   "id": "9c701a455bfa0db4"
  },
  {
   "metadata": {},
   "cell_type": "markdown",
   "source": "## Functions",
   "id": "edf30ba034c66edd"
  },
  {
   "metadata": {
    "ExecuteTime": {
     "end_time": "2025-06-28T18:56:02.526561Z",
     "start_time": "2025-06-28T18:56:02.511736Z"
    }
   },
   "cell_type": "code",
   "source": [
    "round(3.14159, 2)  # Rounding a number to 2 decimal places, Output: 3.14\n",
    "round(3.14159) # Rounding a number to the nearest integer, Output: 3\n",
    "\n",
    "b = [1, 2, 3, 4, 5]\n",
    "\n",
    "sorted(b, reverse=True)  # Sorting a list in descending order, Output: [5, 4, 3, 2, 1]\n",
    "\n",
    "sum(b)  # Summing the elements of a list, Output: 15\n",
    "\n",
    "L1 = [10, 20, 30, 25, 32, 45, 50]\n",
    "L2 = [80, 70, 78, 55, 62]\n",
    "\n",
    "S1 = sum(L1)\n",
    "S2 = sum(L2)\n",
    "\n",
    "print(S1-S2)  # Output: -25, Difference between the sums of two lists\n",
    "\n",
    "\n",
    "\n",
    "\n",
    "def add(x, y):\n",
    "    \"\"\"Function to add two numbers\"\"\"\n",
    "    return x + y\n",
    "\n",
    "add(10, 20)"
   ],
   "id": "2cefcac089622e11",
   "outputs": [
    {
     "name": "stdout",
     "output_type": "stream",
     "text": [
      "-133\n"
     ]
    },
    {
     "data": {
      "text/plain": [
       "30"
      ]
     },
     "execution_count": 10,
     "metadata": {},
     "output_type": "execute_result"
    }
   ],
   "execution_count": 10
  },
  {
   "metadata": {
    "ExecuteTime": {
     "end_time": "2025-06-28T19:10:18.650408Z",
     "start_time": "2025-06-28T19:10:18.643233Z"
    }
   },
   "cell_type": "code",
   "source": [
    "def add_test(x, y):\n",
    "    \"\"\"Function to add two numbers\"\"\"\n",
    "    return x + y\n",
    "\n",
    "a = 12\n",
    "b = 8\n",
    "c = add_test(a, b)\n",
    "print(c)"
   ],
   "id": "8ff95589ceb71cf9",
   "outputs": [
    {
     "name": "stdout",
     "output_type": "stream",
     "text": [
      "20\n"
     ]
    }
   ],
   "execution_count": 13
  }
 ],
 "metadata": {
  "kernelspec": {
   "display_name": "Python 3",
   "language": "python",
   "name": "python3"
  },
  "language_info": {
   "codemirror_mode": {
    "name": "ipython",
    "version": 2
   },
   "file_extension": ".py",
   "mimetype": "text/x-python",
   "name": "python",
   "nbconvert_exporter": "python",
   "pygments_lexer": "ipython2",
   "version": "2.7.6"
  }
 },
 "nbformat": 4,
 "nbformat_minor": 5
}
