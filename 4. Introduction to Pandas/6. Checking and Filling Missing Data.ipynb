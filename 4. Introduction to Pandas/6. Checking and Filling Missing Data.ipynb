{
 "cells": [
  {
   "metadata": {},
   "cell_type": "markdown",
   "source": "# Checking and Filling Missing Data",
   "id": "c7fa89f517c1056e"
  },
  {
   "metadata": {
    "ExecuteTime": {
     "end_time": "2025-07-03T18:13:41.447058Z",
     "start_time": "2025-07-03T18:13:40.390385Z"
    }
   },
   "cell_type": "code",
   "source": [
    "import pandas as pd\n",
    "import numpy as np\n",
    "\n",
    "exam_scores = pd.read_csv('data/exam_scores.csv')"
   ],
   "id": "4d185b1f1d7a823c",
   "outputs": [],
   "execution_count": 1
  },
  {
   "metadata": {},
   "cell_type": "markdown",
   "source": [
    "## 1. Missing Value  缺失值\n",
    "- So, defining missing data: Missing data (or missing values) is defined as the data values that are not stored in a column or row.  因此，定义缺失数据：缺失数据（或缺失值）是指未存储在列或行中的数据值。\n",
    "- Pandas provides isnull(), isna() functions to detect missing values. Both of them do the same thing. Pandas 提供了 isnull()和 isna()函数来检测缺失值。这两个函数的作用相同。"
   ],
   "id": "4e792629d5aaae88"
  },
  {
   "metadata": {
    "ExecuteTime": {
     "end_time": "2025-07-03T18:15:40.448151Z",
     "start_time": "2025-07-03T18:15:40.426207Z"
    }
   },
   "cell_type": "code",
   "source": [
    "# df.isna() or df.isnull() returns the DataFrame with Boolean values indicating whether a value is missing (True) or not (False).\n",
    "# df.isna() 或 df.isnull() 会返回一个布尔值的 DataFrame，指示某个值是否缺失（True）或不缺失（False）。\n",
    "exam_scores.isnull()"
   ],
   "id": "8a272687cb496c0c",
   "outputs": [
    {
     "data": {
      "text/plain": [
       "     gender  race/ethnicity  parental level of education  lunch  \\\n",
       "0     False           False                        False  False   \n",
       "1     False           False                        False  False   \n",
       "2     False           False                        False  False   \n",
       "3     False           False                        False  False   \n",
       "4     False           False                        False  False   \n",
       "..      ...             ...                          ...    ...   \n",
       "995   False           False                        False  False   \n",
       "996   False           False                        False  False   \n",
       "997   False           False                        False  False   \n",
       "998   False           False                        False  False   \n",
       "999   False           False                        False  False   \n",
       "\n",
       "     test preparation course  math score  reading score  writing score  \n",
       "0                      False       False          False          False  \n",
       "1                      False       False          False          False  \n",
       "2                      False       False          False          False  \n",
       "3                      False       False          False          False  \n",
       "4                      False       False          False          False  \n",
       "..                       ...         ...            ...            ...  \n",
       "995                    False       False          False          False  \n",
       "996                    False       False          False          False  \n",
       "997                    False       False          False          False  \n",
       "998                    False       False          False          False  \n",
       "999                    False       False          False          False  \n",
       "\n",
       "[1000 rows x 8 columns]"
      ],
      "text/html": [
       "<div>\n",
       "<style scoped>\n",
       "    .dataframe tbody tr th:only-of-type {\n",
       "        vertical-align: middle;\n",
       "    }\n",
       "\n",
       "    .dataframe tbody tr th {\n",
       "        vertical-align: top;\n",
       "    }\n",
       "\n",
       "    .dataframe thead th {\n",
       "        text-align: right;\n",
       "    }\n",
       "</style>\n",
       "<table border=\"1\" class=\"dataframe\">\n",
       "  <thead>\n",
       "    <tr style=\"text-align: right;\">\n",
       "      <th></th>\n",
       "      <th>gender</th>\n",
       "      <th>race/ethnicity</th>\n",
       "      <th>parental level of education</th>\n",
       "      <th>lunch</th>\n",
       "      <th>test preparation course</th>\n",
       "      <th>math score</th>\n",
       "      <th>reading score</th>\n",
       "      <th>writing score</th>\n",
       "    </tr>\n",
       "  </thead>\n",
       "  <tbody>\n",
       "    <tr>\n",
       "      <th>0</th>\n",
       "      <td>False</td>\n",
       "      <td>False</td>\n",
       "      <td>False</td>\n",
       "      <td>False</td>\n",
       "      <td>False</td>\n",
       "      <td>False</td>\n",
       "      <td>False</td>\n",
       "      <td>False</td>\n",
       "    </tr>\n",
       "    <tr>\n",
       "      <th>1</th>\n",
       "      <td>False</td>\n",
       "      <td>False</td>\n",
       "      <td>False</td>\n",
       "      <td>False</td>\n",
       "      <td>False</td>\n",
       "      <td>False</td>\n",
       "      <td>False</td>\n",
       "      <td>False</td>\n",
       "    </tr>\n",
       "    <tr>\n",
       "      <th>2</th>\n",
       "      <td>False</td>\n",
       "      <td>False</td>\n",
       "      <td>False</td>\n",
       "      <td>False</td>\n",
       "      <td>False</td>\n",
       "      <td>False</td>\n",
       "      <td>False</td>\n",
       "      <td>False</td>\n",
       "    </tr>\n",
       "    <tr>\n",
       "      <th>3</th>\n",
       "      <td>False</td>\n",
       "      <td>False</td>\n",
       "      <td>False</td>\n",
       "      <td>False</td>\n",
       "      <td>False</td>\n",
       "      <td>False</td>\n",
       "      <td>False</td>\n",
       "      <td>False</td>\n",
       "    </tr>\n",
       "    <tr>\n",
       "      <th>4</th>\n",
       "      <td>False</td>\n",
       "      <td>False</td>\n",
       "      <td>False</td>\n",
       "      <td>False</td>\n",
       "      <td>False</td>\n",
       "      <td>False</td>\n",
       "      <td>False</td>\n",
       "      <td>False</td>\n",
       "    </tr>\n",
       "    <tr>\n",
       "      <th>...</th>\n",
       "      <td>...</td>\n",
       "      <td>...</td>\n",
       "      <td>...</td>\n",
       "      <td>...</td>\n",
       "      <td>...</td>\n",
       "      <td>...</td>\n",
       "      <td>...</td>\n",
       "      <td>...</td>\n",
       "    </tr>\n",
       "    <tr>\n",
       "      <th>995</th>\n",
       "      <td>False</td>\n",
       "      <td>False</td>\n",
       "      <td>False</td>\n",
       "      <td>False</td>\n",
       "      <td>False</td>\n",
       "      <td>False</td>\n",
       "      <td>False</td>\n",
       "      <td>False</td>\n",
       "    </tr>\n",
       "    <tr>\n",
       "      <th>996</th>\n",
       "      <td>False</td>\n",
       "      <td>False</td>\n",
       "      <td>False</td>\n",
       "      <td>False</td>\n",
       "      <td>False</td>\n",
       "      <td>False</td>\n",
       "      <td>False</td>\n",
       "      <td>False</td>\n",
       "    </tr>\n",
       "    <tr>\n",
       "      <th>997</th>\n",
       "      <td>False</td>\n",
       "      <td>False</td>\n",
       "      <td>False</td>\n",
       "      <td>False</td>\n",
       "      <td>False</td>\n",
       "      <td>False</td>\n",
       "      <td>False</td>\n",
       "      <td>False</td>\n",
       "    </tr>\n",
       "    <tr>\n",
       "      <th>998</th>\n",
       "      <td>False</td>\n",
       "      <td>False</td>\n",
       "      <td>False</td>\n",
       "      <td>False</td>\n",
       "      <td>False</td>\n",
       "      <td>False</td>\n",
       "      <td>False</td>\n",
       "      <td>False</td>\n",
       "    </tr>\n",
       "    <tr>\n",
       "      <th>999</th>\n",
       "      <td>False</td>\n",
       "      <td>False</td>\n",
       "      <td>False</td>\n",
       "      <td>False</td>\n",
       "      <td>False</td>\n",
       "      <td>False</td>\n",
       "      <td>False</td>\n",
       "      <td>False</td>\n",
       "    </tr>\n",
       "  </tbody>\n",
       "</table>\n",
       "<p>1000 rows × 8 columns</p>\n",
       "</div>"
      ]
     },
     "execution_count": 2,
     "metadata": {},
     "output_type": "execute_result"
    }
   ],
   "execution_count": 2
  },
  {
   "metadata": {
    "ExecuteTime": {
     "end_time": "2025-07-03T18:15:59.902444Z",
     "start_time": "2025-07-03T18:15:59.893631Z"
    }
   },
   "cell_type": "code",
   "source": [
    "# We can get column wise count of all the missing values using the aggregation function sum():\n",
    "# 我们可以使用聚合函数 sum() 获取按列统计的缺失值数量：\n",
    "exam_scores.isnull().sum()"
   ],
   "id": "eb039df022600756",
   "outputs": [
    {
     "data": {
      "text/plain": [
       "gender                         0\n",
       "race/ethnicity                 0\n",
       "parental level of education    0\n",
       "lunch                          0\n",
       "test preparation course        0\n",
       "math score                     0\n",
       "reading score                  0\n",
       "writing score                  0\n",
       "dtype: int64"
      ]
     },
     "execution_count": 3,
     "metadata": {},
     "output_type": "execute_result"
    }
   ],
   "execution_count": 3
  },
  {
   "metadata": {},
   "cell_type": "code",
   "outputs": [],
   "execution_count": null,
   "source": [
    "# Pandas also provides fillna() method to fill the missing values. fillna() provides many different strategies to fill missing values.\n",
    "# Pandas 还提供了 fillna()方法来填充缺失值。fillna()提供了多种不同的策略来填充缺失值。\n",
    "\n",
    "# For example, we can fill the missing values:\n",
    "# exam_scores.gender.fillna('Unknown', inplace=True)"
   ],
   "id": "c6d6f339548b839"
  },
  {
   "metadata": {},
   "cell_type": "code",
   "outputs": [],
   "execution_count": null,
   "source": [
    "# There is still a missing value in 'math score' column. Let's say we want to fill the missing value in this column with the mean of the marks scored by other people.\n",
    "# 在 'math score' 列中仍然存在缺失值。假设我们想要用其他人获得的分数的平均值来填充这一列的缺失值。\n",
    "# exam_scores['math score'].fillna(exam_scores['math sccore'].mean(), inplace=True)"
   ],
   "id": "bd7477653913adce"
  },
  {
   "metadata": {},
   "cell_type": "markdown",
   "source": "## 2. Exercise 练习",
   "id": "5432dd0bcca50cb4"
  },
  {
   "metadata": {
    "ExecuteTime": {
     "end_time": "2025-07-03T18:23:04.449171Z",
     "start_time": "2025-07-03T18:23:04.437516Z"
    }
   },
   "cell_type": "code",
   "source": "titanic_data = pd.read_csv('data/titanic_data.csv')",
   "id": "c5e0eaf0d434a046",
   "outputs": [],
   "execution_count": 4
  },
  {
   "metadata": {
    "ExecuteTime": {
     "end_time": "2025-07-03T18:23:34.927288Z",
     "start_time": "2025-07-03T18:23:34.919348Z"
    }
   },
   "cell_type": "code",
   "source": [
    "# isnull() or isna()\n",
    "titanic_data.isnull().sum()"
   ],
   "id": "ef1065b63b0ff2a9",
   "outputs": [
    {
     "data": {
      "text/plain": [
       "PassengerId      0\n",
       "Survived         0\n",
       "Pclass           0\n",
       "Name             0\n",
       "Sex              0\n",
       "Age            177\n",
       "SibSp            0\n",
       "Parch            0\n",
       "Ticket           0\n",
       "Fare             0\n",
       "Cabin          687\n",
       "Embarked         2\n",
       "dtype: int64"
      ]
     },
     "execution_count": 6,
     "metadata": {},
     "output_type": "execute_result"
    }
   ],
   "execution_count": 6
  },
  {
   "metadata": {
    "ExecuteTime": {
     "end_time": "2025-07-03T18:25:08.927603Z",
     "start_time": "2025-07-03T18:25:08.919752Z"
    }
   },
   "cell_type": "code",
   "source": [
    "# mean() of 'Age' column\n",
    "age_mean_before = titanic_data['Age'].mean()\n",
    "age_mean_before"
   ],
   "id": "722979a0fdc6ba97",
   "outputs": [
    {
     "data": {
      "text/plain": [
       "np.float64(29.69911764705882)"
      ]
     },
     "execution_count": 7,
     "metadata": {},
     "output_type": "execute_result"
    }
   ],
   "execution_count": 7
  },
  {
   "metadata": {
    "ExecuteTime": {
     "end_time": "2025-07-03T18:28:44.575435Z",
     "start_time": "2025-07-03T18:28:44.566120Z"
    }
   },
   "cell_type": "code",
   "source": [
    "# fillna() to fill missing values in 'Age' column with mean\n",
    "titanic_data.fillna({'Age':age_mean_before}, inplace=True)\n",
    "titanic_data.isna().sum()"
   ],
   "id": "36737e33f7c8664e",
   "outputs": [
    {
     "data": {
      "text/plain": [
       "PassengerId      0\n",
       "Survived         0\n",
       "Pclass           0\n",
       "Name             0\n",
       "Sex              0\n",
       "Age              0\n",
       "SibSp            0\n",
       "Parch            0\n",
       "Ticket           0\n",
       "Fare             0\n",
       "Cabin          687\n",
       "Embarked         2\n",
       "dtype: int64"
      ]
     },
     "execution_count": 10,
     "metadata": {},
     "output_type": "execute_result"
    }
   ],
   "execution_count": 10
  },
  {
   "metadata": {
    "ExecuteTime": {
     "end_time": "2025-07-03T18:29:13.701821Z",
     "start_time": "2025-07-03T18:29:13.695066Z"
    }
   },
   "cell_type": "code",
   "source": [
    "# mean() of 'Age' column after filling missing values\n",
    "age_mean_after = titanic_data['Age'].mean()\n",
    "age_mean_after"
   ],
   "id": "32aea5df4081f094",
   "outputs": [
    {
     "data": {
      "text/plain": [
       "np.float64(29.69911764705882)"
      ]
     },
     "execution_count": 12,
     "metadata": {},
     "output_type": "execute_result"
    }
   ],
   "execution_count": 12
  },
  {
   "metadata": {
    "ExecuteTime": {
     "end_time": "2025-07-03T18:33:07.973150Z",
     "start_time": "2025-07-03T18:33:07.964937Z"
    }
   },
   "cell_type": "code",
   "source": "titanic_data['Embarked'].value_counts()",
   "id": "4159d6692f9f2159",
   "outputs": [
    {
     "data": {
      "text/plain": [
       "Embarked\n",
       "S    644\n",
       "C    168\n",
       "Q     77\n",
       "Name: count, dtype: int64"
      ]
     },
     "execution_count": 20,
     "metadata": {},
     "output_type": "execute_result"
    }
   ],
   "execution_count": 20
  },
  {
   "metadata": {
    "ExecuteTime": {
     "end_time": "2025-07-03T18:34:15.300028Z",
     "start_time": "2025-07-03T18:34:15.290048Z"
    }
   },
   "cell_type": "code",
   "source": [
    "# fillna() to fill missing values in 'Embarked' column with 'S'\n",
    "titanic_data.fillna({'Embarked': 'S'}, inplace=True)\n",
    "titanic_data['Embarked'].value_counts()"
   ],
   "id": "5841972ad17de34f",
   "outputs": [
    {
     "data": {
      "text/plain": [
       "Embarked\n",
       "S    646\n",
       "C    168\n",
       "Q     77\n",
       "Name: count, dtype: int64"
      ]
     },
     "execution_count": 21,
     "metadata": {},
     "output_type": "execute_result"
    }
   ],
   "execution_count": 21
  }
 ],
 "metadata": {
  "kernelspec": {
   "display_name": "Python 3",
   "language": "python",
   "name": "python3"
  },
  "language_info": {
   "codemirror_mode": {
    "name": "ipython",
    "version": 2
   },
   "file_extension": ".py",
   "mimetype": "text/x-python",
   "name": "python",
   "nbconvert_exporter": "python",
   "pygments_lexer": "ipython2",
   "version": "2.7.6"
  }
 },
 "nbformat": 4,
 "nbformat_minor": 5
}
