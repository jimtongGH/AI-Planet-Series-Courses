{
 "cells": [
  {
   "metadata": {},
   "cell_type": "markdown",
   "source": "# Indexing, Selecting and Assigning 索引、选择和分配",
   "id": "40ae1d1b024c4217"
  },
  {
   "metadata": {
    "ExecuteTime": {
     "end_time": "2025-07-02T21:58:27.397068Z",
     "start_time": "2025-07-02T21:58:26.421326Z"
    }
   },
   "cell_type": "code",
   "source": [
    "import pandas as pd\n",
    "import numpy as np"
   ],
   "id": "6ebae5cb9025c08f",
   "outputs": [],
   "execution_count": 2
  },
  {
   "metadata": {},
   "cell_type": "markdown",
   "source": [
    "## 1. Real-World Use Case  实际应用案例\n",
    "- For example:  例如：\n",
    "    - You are a data scientist at Amazon. During the time of New Year, your supervisor asked you to give a discount of 50% for all the electronic items available at Amazon.\n",
    "    - 假设你是一名在亚马逊工作的数据科学家。在新年期间，你的上司要求对亚马逊上所有电子商品提供 50%的折扣。\n",
    "\n",
    "    - You will never want to go to each electronic item and assign a discount of 50% to each of them. This would be a very time-consuming task. Instead, you would want to select all the items that fall under the category ‘Electronics’ and then give all of them a discount of 50% in one go. So easy, right? This is where you will need to index, select and assign data in a DataFrame.\n",
    "    - 你永远不会想要去每个电子商品那里，给每个商品分配 50%的折扣。这将是一项非常耗时的工作。相反，你想要选择所有属于“电子产品”类别的商品，然后一次性给所有商品分配 50%的折扣。是不是很简单？这就是你需要对 DataFrame 中的数据进行索引、选择和分配的地方。"
   ],
   "id": "5ddef4e7fb28fbcc"
  },
  {
   "metadata": {},
   "cell_type": "markdown",
   "source": [
    "## 2. Indexing 索引\n",
    "- What is Indexing in Pandas?  Pandas 中的索引是什么？\n",
    "    - Indexing in Pandas means selecting particular rows and columns from a DataFrame.  在 Pandas 中，索引是指从 DataFrame 中选择特定的行和列。\n",
    "    - Indexing in Pandas is the same as we did for a Python List and a NumPy array.  Pandas 中的索引与我们在 Python 列表和 NumPy 数组中所做的一样。\n",
    "    - There are two different methods of indexing in Pandas:  Pandas 中有两种不同的索引方法：\n",
    "        - iloc - index-based selection  iloc - 基于索引的选择\n",
    "        - loc - label based selection  loc - 基于标签的选择"
   ],
   "id": "500e8e1a74caa4f6"
  },
  {
   "metadata": {
    "ExecuteTime": {
     "end_time": "2025-07-02T21:59:24.200792Z",
     "start_time": "2025-07-02T21:59:24.183044Z"
    }
   },
   "cell_type": "code",
   "source": [
    "exam_scores = pd.read_csv('data/exam_scores.csv')\n",
    "exam_scores.head(3)"
   ],
   "id": "ccb871ce9d4a615e",
   "outputs": [
    {
     "data": {
      "text/plain": [
       "   gender race/ethnicity parental level of education         lunch  \\\n",
       "0    male        group B           bachelor's degree      standard   \n",
       "1  female        group C                some college      standard   \n",
       "2    male        group C                some college  free/reduced   \n",
       "\n",
       "  test preparation course  math score  reading score  writing score  \n",
       "0                    none          74             68             67  \n",
       "1               completed          58             68             66  \n",
       "2                    none          66             65             65  "
      ],
      "text/html": [
       "<div>\n",
       "<style scoped>\n",
       "    .dataframe tbody tr th:only-of-type {\n",
       "        vertical-align: middle;\n",
       "    }\n",
       "\n",
       "    .dataframe tbody tr th {\n",
       "        vertical-align: top;\n",
       "    }\n",
       "\n",
       "    .dataframe thead th {\n",
       "        text-align: right;\n",
       "    }\n",
       "</style>\n",
       "<table border=\"1\" class=\"dataframe\">\n",
       "  <thead>\n",
       "    <tr style=\"text-align: right;\">\n",
       "      <th></th>\n",
       "      <th>gender</th>\n",
       "      <th>race/ethnicity</th>\n",
       "      <th>parental level of education</th>\n",
       "      <th>lunch</th>\n",
       "      <th>test preparation course</th>\n",
       "      <th>math score</th>\n",
       "      <th>reading score</th>\n",
       "      <th>writing score</th>\n",
       "    </tr>\n",
       "  </thead>\n",
       "  <tbody>\n",
       "    <tr>\n",
       "      <th>0</th>\n",
       "      <td>male</td>\n",
       "      <td>group B</td>\n",
       "      <td>bachelor's degree</td>\n",
       "      <td>standard</td>\n",
       "      <td>none</td>\n",
       "      <td>74</td>\n",
       "      <td>68</td>\n",
       "      <td>67</td>\n",
       "    </tr>\n",
       "    <tr>\n",
       "      <th>1</th>\n",
       "      <td>female</td>\n",
       "      <td>group C</td>\n",
       "      <td>some college</td>\n",
       "      <td>standard</td>\n",
       "      <td>completed</td>\n",
       "      <td>58</td>\n",
       "      <td>68</td>\n",
       "      <td>66</td>\n",
       "    </tr>\n",
       "    <tr>\n",
       "      <th>2</th>\n",
       "      <td>male</td>\n",
       "      <td>group C</td>\n",
       "      <td>some college</td>\n",
       "      <td>free/reduced</td>\n",
       "      <td>none</td>\n",
       "      <td>66</td>\n",
       "      <td>65</td>\n",
       "      <td>65</td>\n",
       "    </tr>\n",
       "  </tbody>\n",
       "</table>\n",
       "</div>"
      ]
     },
     "execution_count": 5,
     "metadata": {},
     "output_type": "execute_result"
    }
   ],
   "execution_count": 5
  },
  {
   "metadata": {},
   "cell_type": "markdown",
   "source": [
    "### a. iloc - index-based selection  iloc - 基于索引的选择\n",
    "- Index-based selection is to select data based on its numerical position in DataFrame.  基于索引的选择是指根据其在 DataFrame 中的数值位置来选择数据。\n",
    "- iloc is used for selecting data based on numerical position.  iloc 用于根据数值位置选择数据。\n",
    "- The syntax for using the iloc operator is  使用 iloc 操作符的语法是  df.iloc[row_index, column_index]"
   ],
   "id": "3b7b20120e5abd4c"
  },
  {
   "metadata": {
    "ExecuteTime": {
     "end_time": "2025-07-02T22:25:19.008279Z",
     "start_time": "2025-07-02T22:25:18.963146Z"
    }
   },
   "cell_type": "code",
   "source": [
    "# Selecting data using iloc:  使用 iloc 选择数据：\n",
    "exam_scores.iloc[0, 0]  # Selecting the first row and first column"
   ],
   "id": "2308079f00b9e598",
   "outputs": [
    {
     "data": {
      "text/plain": [
       "'male'"
      ]
     },
     "execution_count": 6,
     "metadata": {},
     "output_type": "execute_result"
    }
   ],
   "execution_count": 6
  },
  {
   "metadata": {
    "ExecuteTime": {
     "end_time": "2025-07-02T22:26:00.279459Z",
     "start_time": "2025-07-02T22:26:00.266623Z"
    }
   },
   "cell_type": "code",
   "source": [
    "# Selecting multiple rows and columns using iloc:  使用 iloc 选择多行和多列\n",
    "exam_scores.iloc[0:3, 0:2]  # Selecting the first three rows and first two columns"
   ],
   "id": "7d82bb82ba262673",
   "outputs": [
    {
     "data": {
      "text/plain": [
       "   gender race/ethnicity\n",
       "0    male        group B\n",
       "1  female        group C\n",
       "2    male        group C"
      ],
      "text/html": [
       "<div>\n",
       "<style scoped>\n",
       "    .dataframe tbody tr th:only-of-type {\n",
       "        vertical-align: middle;\n",
       "    }\n",
       "\n",
       "    .dataframe tbody tr th {\n",
       "        vertical-align: top;\n",
       "    }\n",
       "\n",
       "    .dataframe thead th {\n",
       "        text-align: right;\n",
       "    }\n",
       "</style>\n",
       "<table border=\"1\" class=\"dataframe\">\n",
       "  <thead>\n",
       "    <tr style=\"text-align: right;\">\n",
       "      <th></th>\n",
       "      <th>gender</th>\n",
       "      <th>race/ethnicity</th>\n",
       "    </tr>\n",
       "  </thead>\n",
       "  <tbody>\n",
       "    <tr>\n",
       "      <th>0</th>\n",
       "      <td>male</td>\n",
       "      <td>group B</td>\n",
       "    </tr>\n",
       "    <tr>\n",
       "      <th>1</th>\n",
       "      <td>female</td>\n",
       "      <td>group C</td>\n",
       "    </tr>\n",
       "    <tr>\n",
       "      <th>2</th>\n",
       "      <td>male</td>\n",
       "      <td>group C</td>\n",
       "    </tr>\n",
       "  </tbody>\n",
       "</table>\n",
       "</div>"
      ]
     },
     "execution_count": 7,
     "metadata": {},
     "output_type": "execute_result"
    }
   ],
   "execution_count": 7
  },
  {
   "metadata": {
    "ExecuteTime": {
     "end_time": "2025-07-02T22:26:44.267729Z",
     "start_time": "2025-07-02T22:26:44.249206Z"
    }
   },
   "cell_type": "code",
   "source": "exam_scores.iloc[:,:] # Selecting all rows and all columns",
   "id": "873889527500b159",
   "outputs": [
    {
     "data": {
      "text/plain": [
       "     gender race/ethnicity parental level of education         lunch  \\\n",
       "0      male        group B           bachelor's degree      standard   \n",
       "1    female        group C                some college      standard   \n",
       "2      male        group C                some college  free/reduced   \n",
       "3    female        group D           bachelor's degree  free/reduced   \n",
       "4      male        group D                some college      standard   \n",
       "..      ...            ...                         ...           ...   \n",
       "995  female        group C            some high school      standard   \n",
       "996  female        group E                some college      standard   \n",
       "997  female        group E          associate's degree  free/reduced   \n",
       "998  female        group C                 high school      standard   \n",
       "999    male        group C                some college  free/reduced   \n",
       "\n",
       "    test preparation course  math score  reading score  writing score  \n",
       "0                      none          74             68             67  \n",
       "1                 completed          58             68             66  \n",
       "2                      none          66             65             65  \n",
       "3                      none          74             75             73  \n",
       "4                      none          78             77             71  \n",
       "..                      ...         ...            ...            ...  \n",
       "995                    none          68             77             72  \n",
       "996                    none          98             81             94  \n",
       "997                    none          67             67             67  \n",
       "998                    none          63             68             70  \n",
       "999                    none          49             57             50  \n",
       "\n",
       "[1000 rows x 8 columns]"
      ],
      "text/html": [
       "<div>\n",
       "<style scoped>\n",
       "    .dataframe tbody tr th:only-of-type {\n",
       "        vertical-align: middle;\n",
       "    }\n",
       "\n",
       "    .dataframe tbody tr th {\n",
       "        vertical-align: top;\n",
       "    }\n",
       "\n",
       "    .dataframe thead th {\n",
       "        text-align: right;\n",
       "    }\n",
       "</style>\n",
       "<table border=\"1\" class=\"dataframe\">\n",
       "  <thead>\n",
       "    <tr style=\"text-align: right;\">\n",
       "      <th></th>\n",
       "      <th>gender</th>\n",
       "      <th>race/ethnicity</th>\n",
       "      <th>parental level of education</th>\n",
       "      <th>lunch</th>\n",
       "      <th>test preparation course</th>\n",
       "      <th>math score</th>\n",
       "      <th>reading score</th>\n",
       "      <th>writing score</th>\n",
       "    </tr>\n",
       "  </thead>\n",
       "  <tbody>\n",
       "    <tr>\n",
       "      <th>0</th>\n",
       "      <td>male</td>\n",
       "      <td>group B</td>\n",
       "      <td>bachelor's degree</td>\n",
       "      <td>standard</td>\n",
       "      <td>none</td>\n",
       "      <td>74</td>\n",
       "      <td>68</td>\n",
       "      <td>67</td>\n",
       "    </tr>\n",
       "    <tr>\n",
       "      <th>1</th>\n",
       "      <td>female</td>\n",
       "      <td>group C</td>\n",
       "      <td>some college</td>\n",
       "      <td>standard</td>\n",
       "      <td>completed</td>\n",
       "      <td>58</td>\n",
       "      <td>68</td>\n",
       "      <td>66</td>\n",
       "    </tr>\n",
       "    <tr>\n",
       "      <th>2</th>\n",
       "      <td>male</td>\n",
       "      <td>group C</td>\n",
       "      <td>some college</td>\n",
       "      <td>free/reduced</td>\n",
       "      <td>none</td>\n",
       "      <td>66</td>\n",
       "      <td>65</td>\n",
       "      <td>65</td>\n",
       "    </tr>\n",
       "    <tr>\n",
       "      <th>3</th>\n",
       "      <td>female</td>\n",
       "      <td>group D</td>\n",
       "      <td>bachelor's degree</td>\n",
       "      <td>free/reduced</td>\n",
       "      <td>none</td>\n",
       "      <td>74</td>\n",
       "      <td>75</td>\n",
       "      <td>73</td>\n",
       "    </tr>\n",
       "    <tr>\n",
       "      <th>4</th>\n",
       "      <td>male</td>\n",
       "      <td>group D</td>\n",
       "      <td>some college</td>\n",
       "      <td>standard</td>\n",
       "      <td>none</td>\n",
       "      <td>78</td>\n",
       "      <td>77</td>\n",
       "      <td>71</td>\n",
       "    </tr>\n",
       "    <tr>\n",
       "      <th>...</th>\n",
       "      <td>...</td>\n",
       "      <td>...</td>\n",
       "      <td>...</td>\n",
       "      <td>...</td>\n",
       "      <td>...</td>\n",
       "      <td>...</td>\n",
       "      <td>...</td>\n",
       "      <td>...</td>\n",
       "    </tr>\n",
       "    <tr>\n",
       "      <th>995</th>\n",
       "      <td>female</td>\n",
       "      <td>group C</td>\n",
       "      <td>some high school</td>\n",
       "      <td>standard</td>\n",
       "      <td>none</td>\n",
       "      <td>68</td>\n",
       "      <td>77</td>\n",
       "      <td>72</td>\n",
       "    </tr>\n",
       "    <tr>\n",
       "      <th>996</th>\n",
       "      <td>female</td>\n",
       "      <td>group E</td>\n",
       "      <td>some college</td>\n",
       "      <td>standard</td>\n",
       "      <td>none</td>\n",
       "      <td>98</td>\n",
       "      <td>81</td>\n",
       "      <td>94</td>\n",
       "    </tr>\n",
       "    <tr>\n",
       "      <th>997</th>\n",
       "      <td>female</td>\n",
       "      <td>group E</td>\n",
       "      <td>associate's degree</td>\n",
       "      <td>free/reduced</td>\n",
       "      <td>none</td>\n",
       "      <td>67</td>\n",
       "      <td>67</td>\n",
       "      <td>67</td>\n",
       "    </tr>\n",
       "    <tr>\n",
       "      <th>998</th>\n",
       "      <td>female</td>\n",
       "      <td>group C</td>\n",
       "      <td>high school</td>\n",
       "      <td>standard</td>\n",
       "      <td>none</td>\n",
       "      <td>63</td>\n",
       "      <td>68</td>\n",
       "      <td>70</td>\n",
       "    </tr>\n",
       "    <tr>\n",
       "      <th>999</th>\n",
       "      <td>male</td>\n",
       "      <td>group C</td>\n",
       "      <td>some college</td>\n",
       "      <td>free/reduced</td>\n",
       "      <td>none</td>\n",
       "      <td>49</td>\n",
       "      <td>57</td>\n",
       "      <td>50</td>\n",
       "    </tr>\n",
       "  </tbody>\n",
       "</table>\n",
       "<p>1000 rows × 8 columns</p>\n",
       "</div>"
      ]
     },
     "execution_count": 8,
     "metadata": {},
     "output_type": "execute_result"
    }
   ],
   "execution_count": 8
  },
  {
   "metadata": {
    "ExecuteTime": {
     "end_time": "2025-07-02T22:28:10.627154Z",
     "start_time": "2025-07-02T22:28:10.614438Z"
    }
   },
   "cell_type": "code",
   "source": [
    "# You can also pass list of indexes  你也可以传递索引列表\n",
    "exam_scores.iloc[[0, 1, 2], [0, 1]]  # Selecting first three rows and first two columns"
   ],
   "id": "2881275eed3814c5",
   "outputs": [
    {
     "data": {
      "text/plain": [
       "   gender race/ethnicity\n",
       "0    male        group B\n",
       "1  female        group C\n",
       "2    male        group C"
      ],
      "text/html": [
       "<div>\n",
       "<style scoped>\n",
       "    .dataframe tbody tr th:only-of-type {\n",
       "        vertical-align: middle;\n",
       "    }\n",
       "\n",
       "    .dataframe tbody tr th {\n",
       "        vertical-align: top;\n",
       "    }\n",
       "\n",
       "    .dataframe thead th {\n",
       "        text-align: right;\n",
       "    }\n",
       "</style>\n",
       "<table border=\"1\" class=\"dataframe\">\n",
       "  <thead>\n",
       "    <tr style=\"text-align: right;\">\n",
       "      <th></th>\n",
       "      <th>gender</th>\n",
       "      <th>race/ethnicity</th>\n",
       "    </tr>\n",
       "  </thead>\n",
       "  <tbody>\n",
       "    <tr>\n",
       "      <th>0</th>\n",
       "      <td>male</td>\n",
       "      <td>group B</td>\n",
       "    </tr>\n",
       "    <tr>\n",
       "      <th>1</th>\n",
       "      <td>female</td>\n",
       "      <td>group C</td>\n",
       "    </tr>\n",
       "    <tr>\n",
       "      <th>2</th>\n",
       "      <td>male</td>\n",
       "      <td>group C</td>\n",
       "    </tr>\n",
       "  </tbody>\n",
       "</table>\n",
       "</div>"
      ]
     },
     "execution_count": 9,
     "metadata": {},
     "output_type": "execute_result"
    }
   ],
   "execution_count": 9
  },
  {
   "metadata": {
    "ExecuteTime": {
     "end_time": "2025-07-02T22:29:22.741504Z",
     "start_time": "2025-07-02T22:29:22.730699Z"
    }
   },
   "cell_type": "code",
   "source": [
    "# You can also pass negative indexes  你也可以传递负索引\n",
    "exam_scores.iloc[-3:, -2:]  # Selecting last three rows and last two columns"
   ],
   "id": "64dc9852ecdb36b1",
   "outputs": [
    {
     "data": {
      "text/plain": [
       "     reading score  writing score\n",
       "997             67             67\n",
       "998             68             70\n",
       "999             57             50"
      ],
      "text/html": [
       "<div>\n",
       "<style scoped>\n",
       "    .dataframe tbody tr th:only-of-type {\n",
       "        vertical-align: middle;\n",
       "    }\n",
       "\n",
       "    .dataframe tbody tr th {\n",
       "        vertical-align: top;\n",
       "    }\n",
       "\n",
       "    .dataframe thead th {\n",
       "        text-align: right;\n",
       "    }\n",
       "</style>\n",
       "<table border=\"1\" class=\"dataframe\">\n",
       "  <thead>\n",
       "    <tr style=\"text-align: right;\">\n",
       "      <th></th>\n",
       "      <th>reading score</th>\n",
       "      <th>writing score</th>\n",
       "    </tr>\n",
       "  </thead>\n",
       "  <tbody>\n",
       "    <tr>\n",
       "      <th>997</th>\n",
       "      <td>67</td>\n",
       "      <td>67</td>\n",
       "    </tr>\n",
       "    <tr>\n",
       "      <th>998</th>\n",
       "      <td>68</td>\n",
       "      <td>70</td>\n",
       "    </tr>\n",
       "    <tr>\n",
       "      <th>999</th>\n",
       "      <td>57</td>\n",
       "      <td>50</td>\n",
       "    </tr>\n",
       "  </tbody>\n",
       "</table>\n",
       "</div>"
      ]
     },
     "execution_count": 10,
     "metadata": {},
     "output_type": "execute_result"
    }
   ],
   "execution_count": 10
  },
  {
   "metadata": {},
   "cell_type": "markdown",
   "source": [
    "### b. Label-Based Selection  基于标签的选择\n",
    "- Label-based selection selects data based on the column or row names/index. This becomes important while selecting data from a DataFrame.  基于标签的选择是根据列名或行名/索引来选择数据。在从 DataFrame 中选择数据时，这一点变得很重要。\n",
    "- Label-based selection is made with loc.  基于标签的选择是通过 loc 实现的。\n",
    "- The syntax for using the loc operator is  使用 loc 操作符的语法是  df.loc[row_label, column_label]"
   ],
   "id": "6e515c8b93023966"
  },
  {
   "metadata": {
    "ExecuteTime": {
     "end_time": "2025-07-02T22:32:03.305695Z",
     "start_time": "2025-07-02T22:32:03.299370Z"
    }
   },
   "cell_type": "code",
   "source": [
    "# Selecting data using loc:  使用 loc 选择数据：\n",
    "exam_scores.loc[0, 'race/ethnicity']"
   ],
   "id": "aee89ccd9bdb138b",
   "outputs": [
    {
     "data": {
      "text/plain": [
       "'group B'"
      ]
     },
     "execution_count": 11,
     "metadata": {},
     "output_type": "execute_result"
    }
   ],
   "execution_count": 11
  },
  {
   "metadata": {
    "ExecuteTime": {
     "end_time": "2025-07-02T22:33:07.692535Z",
     "start_time": "2025-07-02T22:33:07.678998Z"
    }
   },
   "cell_type": "code",
   "source": "exam_scores.loc[0:5, ['gender', 'lunch', 'math score']]",
   "id": "35c34c3b7b9afb48",
   "outputs": [
    {
     "data": {
      "text/plain": [
       "   gender         lunch  math score\n",
       "0    male      standard          74\n",
       "1  female      standard          58\n",
       "2    male  free/reduced          66\n",
       "3  female  free/reduced          74\n",
       "4    male      standard          78\n",
       "5  female      standard          75"
      ],
      "text/html": [
       "<div>\n",
       "<style scoped>\n",
       "    .dataframe tbody tr th:only-of-type {\n",
       "        vertical-align: middle;\n",
       "    }\n",
       "\n",
       "    .dataframe tbody tr th {\n",
       "        vertical-align: top;\n",
       "    }\n",
       "\n",
       "    .dataframe thead th {\n",
       "        text-align: right;\n",
       "    }\n",
       "</style>\n",
       "<table border=\"1\" class=\"dataframe\">\n",
       "  <thead>\n",
       "    <tr style=\"text-align: right;\">\n",
       "      <th></th>\n",
       "      <th>gender</th>\n",
       "      <th>lunch</th>\n",
       "      <th>math score</th>\n",
       "    </tr>\n",
       "  </thead>\n",
       "  <tbody>\n",
       "    <tr>\n",
       "      <th>0</th>\n",
       "      <td>male</td>\n",
       "      <td>standard</td>\n",
       "      <td>74</td>\n",
       "    </tr>\n",
       "    <tr>\n",
       "      <th>1</th>\n",
       "      <td>female</td>\n",
       "      <td>standard</td>\n",
       "      <td>58</td>\n",
       "    </tr>\n",
       "    <tr>\n",
       "      <th>2</th>\n",
       "      <td>male</td>\n",
       "      <td>free/reduced</td>\n",
       "      <td>66</td>\n",
       "    </tr>\n",
       "    <tr>\n",
       "      <th>3</th>\n",
       "      <td>female</td>\n",
       "      <td>free/reduced</td>\n",
       "      <td>74</td>\n",
       "    </tr>\n",
       "    <tr>\n",
       "      <th>4</th>\n",
       "      <td>male</td>\n",
       "      <td>standard</td>\n",
       "      <td>78</td>\n",
       "    </tr>\n",
       "    <tr>\n",
       "      <th>5</th>\n",
       "      <td>female</td>\n",
       "      <td>standard</td>\n",
       "      <td>75</td>\n",
       "    </tr>\n",
       "  </tbody>\n",
       "</table>\n",
       "</div>"
      ]
     },
     "execution_count": 12,
     "metadata": {},
     "output_type": "execute_result"
    }
   ],
   "execution_count": 12
  },
  {
   "metadata": {},
   "cell_type": "markdown",
   "source": "## 3. Selecting 选择",
   "id": "72222b00718a052e"
  },
  {
   "metadata": {},
   "cell_type": "markdown",
   "source": "### a. Attribute (Dot) Based Selection  基于属性（点）的选择",
   "id": "c30c4ca906c80f57"
  },
  {
   "metadata": {
    "ExecuteTime": {
     "end_time": "2025-07-02T22:35:01.698274Z",
     "start_time": "2025-07-02T22:35:01.655447Z"
    }
   },
   "cell_type": "code",
   "source": "exam_scores.gender",
   "id": "fb5f979c00f2341a",
   "outputs": [
    {
     "data": {
      "text/plain": [
       "0        male\n",
       "1      female\n",
       "2        male\n",
       "3      female\n",
       "4        male\n",
       "        ...  \n",
       "995    female\n",
       "996    female\n",
       "997    female\n",
       "998    female\n",
       "999      male\n",
       "Name: gender, Length: 1000, dtype: object"
      ]
     },
     "execution_count": 13,
     "metadata": {},
     "output_type": "execute_result"
    }
   ],
   "execution_count": 13
  },
  {
   "metadata": {},
   "cell_type": "markdown",
   "source": "### b. Dictionary (Bracket) Based Selection  基于字典（括号）的选择",
   "id": "3792d30e27f86490"
  },
  {
   "metadata": {
    "ExecuteTime": {
     "end_time": "2025-07-02T22:35:49.524467Z",
     "start_time": "2025-07-02T22:35:49.515879Z"
    }
   },
   "cell_type": "code",
   "source": "exam_scores['lunch']",
   "id": "40354035d400549",
   "outputs": [
    {
     "data": {
      "text/plain": [
       "0          standard\n",
       "1          standard\n",
       "2      free/reduced\n",
       "3      free/reduced\n",
       "4          standard\n",
       "           ...     \n",
       "995        standard\n",
       "996        standard\n",
       "997    free/reduced\n",
       "998        standard\n",
       "999    free/reduced\n",
       "Name: lunch, Length: 1000, dtype: object"
      ]
     },
     "execution_count": 14,
     "metadata": {},
     "output_type": "execute_result"
    }
   ],
   "execution_count": 14
  },
  {
   "metadata": {},
   "cell_type": "markdown",
   "source": "### c. Selecting Multiple Columns  选择多个列",
   "id": "4c714c2653c62b7e"
  },
  {
   "metadata": {
    "ExecuteTime": {
     "end_time": "2025-07-02T22:36:48.309279Z",
     "start_time": "2025-07-02T22:36:48.294098Z"
    }
   },
   "cell_type": "code",
   "source": "exam_scores[['lunch', 'math score']]",
   "id": "7bb5ee0622d844b",
   "outputs": [
    {
     "data": {
      "text/plain": [
       "            lunch  math score\n",
       "0        standard          74\n",
       "1        standard          58\n",
       "2    free/reduced          66\n",
       "3    free/reduced          74\n",
       "4        standard          78\n",
       "..            ...         ...\n",
       "995      standard          68\n",
       "996      standard          98\n",
       "997  free/reduced          67\n",
       "998      standard          63\n",
       "999  free/reduced          49\n",
       "\n",
       "[1000 rows x 2 columns]"
      ],
      "text/html": [
       "<div>\n",
       "<style scoped>\n",
       "    .dataframe tbody tr th:only-of-type {\n",
       "        vertical-align: middle;\n",
       "    }\n",
       "\n",
       "    .dataframe tbody tr th {\n",
       "        vertical-align: top;\n",
       "    }\n",
       "\n",
       "    .dataframe thead th {\n",
       "        text-align: right;\n",
       "    }\n",
       "</style>\n",
       "<table border=\"1\" class=\"dataframe\">\n",
       "  <thead>\n",
       "    <tr style=\"text-align: right;\">\n",
       "      <th></th>\n",
       "      <th>lunch</th>\n",
       "      <th>math score</th>\n",
       "    </tr>\n",
       "  </thead>\n",
       "  <tbody>\n",
       "    <tr>\n",
       "      <th>0</th>\n",
       "      <td>standard</td>\n",
       "      <td>74</td>\n",
       "    </tr>\n",
       "    <tr>\n",
       "      <th>1</th>\n",
       "      <td>standard</td>\n",
       "      <td>58</td>\n",
       "    </tr>\n",
       "    <tr>\n",
       "      <th>2</th>\n",
       "      <td>free/reduced</td>\n",
       "      <td>66</td>\n",
       "    </tr>\n",
       "    <tr>\n",
       "      <th>3</th>\n",
       "      <td>free/reduced</td>\n",
       "      <td>74</td>\n",
       "    </tr>\n",
       "    <tr>\n",
       "      <th>4</th>\n",
       "      <td>standard</td>\n",
       "      <td>78</td>\n",
       "    </tr>\n",
       "    <tr>\n",
       "      <th>...</th>\n",
       "      <td>...</td>\n",
       "      <td>...</td>\n",
       "    </tr>\n",
       "    <tr>\n",
       "      <th>995</th>\n",
       "      <td>standard</td>\n",
       "      <td>68</td>\n",
       "    </tr>\n",
       "    <tr>\n",
       "      <th>996</th>\n",
       "      <td>standard</td>\n",
       "      <td>98</td>\n",
       "    </tr>\n",
       "    <tr>\n",
       "      <th>997</th>\n",
       "      <td>free/reduced</td>\n",
       "      <td>67</td>\n",
       "    </tr>\n",
       "    <tr>\n",
       "      <th>998</th>\n",
       "      <td>standard</td>\n",
       "      <td>63</td>\n",
       "    </tr>\n",
       "    <tr>\n",
       "      <th>999</th>\n",
       "      <td>free/reduced</td>\n",
       "      <td>49</td>\n",
       "    </tr>\n",
       "  </tbody>\n",
       "</table>\n",
       "<p>1000 rows × 2 columns</p>\n",
       "</div>"
      ]
     },
     "execution_count": 15,
     "metadata": {},
     "output_type": "execute_result"
    }
   ],
   "execution_count": 15
  },
  {
   "metadata": {},
   "cell_type": "markdown",
   "source": "### d. Conditional Selection  条件选择",
   "id": "b3cecf4adee1c37a"
  },
  {
   "metadata": {
    "ExecuteTime": {
     "end_time": "2025-07-03T14:00:22.752339Z",
     "start_time": "2025-07-03T14:00:22.631934Z"
    }
   },
   "cell_type": "code",
   "source": [
    "exam_scores.rename(columns={\n",
    "    'math score': 'math_score',\n",
    "    'reading score': 'reading_score',\n",
    "    'writing score': 'writing_score',\n",
    "    'math score': 'math_score',\n",
    "    'test preparation course': 'test_preparation',\n",
    "    'parental level of education': 'parental_level_of_education'\n",
    "}, inplace=True)  # Renaming column for easier access\n",
    "\n",
    "# Selecting rows based on a condition, returning true or false values\n",
    "exam_scores.math_score > 70  # Selecting rows where math score is greater than 70"
   ],
   "id": "2120c4dcc852803f",
   "outputs": [
    {
     "data": {
      "text/plain": [
       "0       True\n",
       "1      False\n",
       "2      False\n",
       "3       True\n",
       "4       True\n",
       "       ...  \n",
       "995    False\n",
       "996     True\n",
       "997    False\n",
       "998    False\n",
       "999    False\n",
       "Name: math_score, Length: 1000, dtype: bool"
      ]
     },
     "execution_count": 51,
     "metadata": {},
     "output_type": "execute_result"
    }
   ],
   "execution_count": 51
  },
  {
   "metadata": {
    "ExecuteTime": {
     "end_time": "2025-07-03T14:00:25.701296Z",
     "start_time": "2025-07-03T14:00:25.669938Z"
    }
   },
   "cell_type": "code",
   "source": [
    "# Selecting rows based on a condition,returning the whole DataFrame where the condition is true\n",
    "exam_scores[exam_scores.math_score > 70]"
   ],
   "id": "88a7244445305089",
   "outputs": [
    {
     "data": {
      "text/plain": [
       "                gender race/ethnicity parental_level_of_education  \\\n",
       "0    assing_value test        group B           bachelor's degree   \n",
       "3    assing_value test        group D           bachelor's degree   \n",
       "4    assing_value test        group D                some college   \n",
       "5    assing_value test        group D          associate's degree   \n",
       "9    assing_value test        group B             master's degree   \n",
       "..                 ...            ...                         ...   \n",
       "989  assing_value test        group A                some college   \n",
       "991  assing_value test        group B             master's degree   \n",
       "992  assing_value test        group A           bachelor's degree   \n",
       "994  assing_value test        group C             master's degree   \n",
       "996  assing_value test        group E                some college   \n",
       "\n",
       "            lunch test_preparation  math_score  reading_score  writing_score  \n",
       "0        standard             none          74             68             67  \n",
       "3    free/reduced             none          74             75             73  \n",
       "4        standard             none          78             77             71  \n",
       "5        standard        completed          75             82             85  \n",
       "9        standard             none          87             75             79  \n",
       "..            ...              ...         ...            ...            ...  \n",
       "989      standard             none          74             65             67  \n",
       "991      standard        completed          78             76             80  \n",
       "992      standard             none          78             73             71  \n",
       "994      standard        completed          85             93             90  \n",
       "996      standard             none          98             81             94  \n",
       "\n",
       "[417 rows x 8 columns]"
      ],
      "text/html": [
       "<div>\n",
       "<style scoped>\n",
       "    .dataframe tbody tr th:only-of-type {\n",
       "        vertical-align: middle;\n",
       "    }\n",
       "\n",
       "    .dataframe tbody tr th {\n",
       "        vertical-align: top;\n",
       "    }\n",
       "\n",
       "    .dataframe thead th {\n",
       "        text-align: right;\n",
       "    }\n",
       "</style>\n",
       "<table border=\"1\" class=\"dataframe\">\n",
       "  <thead>\n",
       "    <tr style=\"text-align: right;\">\n",
       "      <th></th>\n",
       "      <th>gender</th>\n",
       "      <th>race/ethnicity</th>\n",
       "      <th>parental_level_of_education</th>\n",
       "      <th>lunch</th>\n",
       "      <th>test_preparation</th>\n",
       "      <th>math_score</th>\n",
       "      <th>reading_score</th>\n",
       "      <th>writing_score</th>\n",
       "    </tr>\n",
       "  </thead>\n",
       "  <tbody>\n",
       "    <tr>\n",
       "      <th>0</th>\n",
       "      <td>assing_value test</td>\n",
       "      <td>group B</td>\n",
       "      <td>bachelor's degree</td>\n",
       "      <td>standard</td>\n",
       "      <td>none</td>\n",
       "      <td>74</td>\n",
       "      <td>68</td>\n",
       "      <td>67</td>\n",
       "    </tr>\n",
       "    <tr>\n",
       "      <th>3</th>\n",
       "      <td>assing_value test</td>\n",
       "      <td>group D</td>\n",
       "      <td>bachelor's degree</td>\n",
       "      <td>free/reduced</td>\n",
       "      <td>none</td>\n",
       "      <td>74</td>\n",
       "      <td>75</td>\n",
       "      <td>73</td>\n",
       "    </tr>\n",
       "    <tr>\n",
       "      <th>4</th>\n",
       "      <td>assing_value test</td>\n",
       "      <td>group D</td>\n",
       "      <td>some college</td>\n",
       "      <td>standard</td>\n",
       "      <td>none</td>\n",
       "      <td>78</td>\n",
       "      <td>77</td>\n",
       "      <td>71</td>\n",
       "    </tr>\n",
       "    <tr>\n",
       "      <th>5</th>\n",
       "      <td>assing_value test</td>\n",
       "      <td>group D</td>\n",
       "      <td>associate's degree</td>\n",
       "      <td>standard</td>\n",
       "      <td>completed</td>\n",
       "      <td>75</td>\n",
       "      <td>82</td>\n",
       "      <td>85</td>\n",
       "    </tr>\n",
       "    <tr>\n",
       "      <th>9</th>\n",
       "      <td>assing_value test</td>\n",
       "      <td>group B</td>\n",
       "      <td>master's degree</td>\n",
       "      <td>standard</td>\n",
       "      <td>none</td>\n",
       "      <td>87</td>\n",
       "      <td>75</td>\n",
       "      <td>79</td>\n",
       "    </tr>\n",
       "    <tr>\n",
       "      <th>...</th>\n",
       "      <td>...</td>\n",
       "      <td>...</td>\n",
       "      <td>...</td>\n",
       "      <td>...</td>\n",
       "      <td>...</td>\n",
       "      <td>...</td>\n",
       "      <td>...</td>\n",
       "      <td>...</td>\n",
       "    </tr>\n",
       "    <tr>\n",
       "      <th>989</th>\n",
       "      <td>assing_value test</td>\n",
       "      <td>group A</td>\n",
       "      <td>some college</td>\n",
       "      <td>standard</td>\n",
       "      <td>none</td>\n",
       "      <td>74</td>\n",
       "      <td>65</td>\n",
       "      <td>67</td>\n",
       "    </tr>\n",
       "    <tr>\n",
       "      <th>991</th>\n",
       "      <td>assing_value test</td>\n",
       "      <td>group B</td>\n",
       "      <td>master's degree</td>\n",
       "      <td>standard</td>\n",
       "      <td>completed</td>\n",
       "      <td>78</td>\n",
       "      <td>76</td>\n",
       "      <td>80</td>\n",
       "    </tr>\n",
       "    <tr>\n",
       "      <th>992</th>\n",
       "      <td>assing_value test</td>\n",
       "      <td>group A</td>\n",
       "      <td>bachelor's degree</td>\n",
       "      <td>standard</td>\n",
       "      <td>none</td>\n",
       "      <td>78</td>\n",
       "      <td>73</td>\n",
       "      <td>71</td>\n",
       "    </tr>\n",
       "    <tr>\n",
       "      <th>994</th>\n",
       "      <td>assing_value test</td>\n",
       "      <td>group C</td>\n",
       "      <td>master's degree</td>\n",
       "      <td>standard</td>\n",
       "      <td>completed</td>\n",
       "      <td>85</td>\n",
       "      <td>93</td>\n",
       "      <td>90</td>\n",
       "    </tr>\n",
       "    <tr>\n",
       "      <th>996</th>\n",
       "      <td>assing_value test</td>\n",
       "      <td>group E</td>\n",
       "      <td>some college</td>\n",
       "      <td>standard</td>\n",
       "      <td>none</td>\n",
       "      <td>98</td>\n",
       "      <td>81</td>\n",
       "      <td>94</td>\n",
       "    </tr>\n",
       "  </tbody>\n",
       "</table>\n",
       "<p>417 rows × 8 columns</p>\n",
       "</div>"
      ]
     },
     "execution_count": 52,
     "metadata": {},
     "output_type": "execute_result"
    }
   ],
   "execution_count": 52
  },
  {
   "metadata": {},
   "cell_type": "markdown",
   "source": [
    "## 4. Assigning Values 分配值\n",
    "- Assigning values in a DataFrame is done using the assignment operator (=).  在 DataFrame 中分配值是使用赋值运算符（=）完成的。"
   ],
   "id": "78e2f7396bd275c5"
  },
  {
   "metadata": {
    "ExecuteTime": {
     "end_time": "2025-07-03T14:00:34.068544Z",
     "start_time": "2025-07-03T14:00:34.039323Z"
    }
   },
   "cell_type": "code",
   "source": [
    "exam_scores.gender = 'assing_value test'\n",
    "exam_scores"
   ],
   "id": "3ec7c93ef531cbc0",
   "outputs": [
    {
     "data": {
      "text/plain": [
       "                gender race/ethnicity parental_level_of_education  \\\n",
       "0    assing_value test        group B           bachelor's degree   \n",
       "1    assing_value test        group C                some college   \n",
       "2    assing_value test        group C                some college   \n",
       "3    assing_value test        group D           bachelor's degree   \n",
       "4    assing_value test        group D                some college   \n",
       "..                 ...            ...                         ...   \n",
       "995  assing_value test        group C            some high school   \n",
       "996  assing_value test        group E                some college   \n",
       "997  assing_value test        group E          associate's degree   \n",
       "998  assing_value test        group C                 high school   \n",
       "999  assing_value test        group C                some college   \n",
       "\n",
       "            lunch test_preparation  math_score  reading_score  writing_score  \n",
       "0        standard             none          74             68             67  \n",
       "1        standard        completed          58             68             66  \n",
       "2    free/reduced             none          66             65             65  \n",
       "3    free/reduced             none          74             75             73  \n",
       "4        standard             none          78             77             71  \n",
       "..            ...              ...         ...            ...            ...  \n",
       "995      standard             none          68             77             72  \n",
       "996      standard             none          98             81             94  \n",
       "997  free/reduced             none          67             67             67  \n",
       "998      standard             none          63             68             70  \n",
       "999  free/reduced             none          49             57             50  \n",
       "\n",
       "[1000 rows x 8 columns]"
      ],
      "text/html": [
       "<div>\n",
       "<style scoped>\n",
       "    .dataframe tbody tr th:only-of-type {\n",
       "        vertical-align: middle;\n",
       "    }\n",
       "\n",
       "    .dataframe tbody tr th {\n",
       "        vertical-align: top;\n",
       "    }\n",
       "\n",
       "    .dataframe thead th {\n",
       "        text-align: right;\n",
       "    }\n",
       "</style>\n",
       "<table border=\"1\" class=\"dataframe\">\n",
       "  <thead>\n",
       "    <tr style=\"text-align: right;\">\n",
       "      <th></th>\n",
       "      <th>gender</th>\n",
       "      <th>race/ethnicity</th>\n",
       "      <th>parental_level_of_education</th>\n",
       "      <th>lunch</th>\n",
       "      <th>test_preparation</th>\n",
       "      <th>math_score</th>\n",
       "      <th>reading_score</th>\n",
       "      <th>writing_score</th>\n",
       "    </tr>\n",
       "  </thead>\n",
       "  <tbody>\n",
       "    <tr>\n",
       "      <th>0</th>\n",
       "      <td>assing_value test</td>\n",
       "      <td>group B</td>\n",
       "      <td>bachelor's degree</td>\n",
       "      <td>standard</td>\n",
       "      <td>none</td>\n",
       "      <td>74</td>\n",
       "      <td>68</td>\n",
       "      <td>67</td>\n",
       "    </tr>\n",
       "    <tr>\n",
       "      <th>1</th>\n",
       "      <td>assing_value test</td>\n",
       "      <td>group C</td>\n",
       "      <td>some college</td>\n",
       "      <td>standard</td>\n",
       "      <td>completed</td>\n",
       "      <td>58</td>\n",
       "      <td>68</td>\n",
       "      <td>66</td>\n",
       "    </tr>\n",
       "    <tr>\n",
       "      <th>2</th>\n",
       "      <td>assing_value test</td>\n",
       "      <td>group C</td>\n",
       "      <td>some college</td>\n",
       "      <td>free/reduced</td>\n",
       "      <td>none</td>\n",
       "      <td>66</td>\n",
       "      <td>65</td>\n",
       "      <td>65</td>\n",
       "    </tr>\n",
       "    <tr>\n",
       "      <th>3</th>\n",
       "      <td>assing_value test</td>\n",
       "      <td>group D</td>\n",
       "      <td>bachelor's degree</td>\n",
       "      <td>free/reduced</td>\n",
       "      <td>none</td>\n",
       "      <td>74</td>\n",
       "      <td>75</td>\n",
       "      <td>73</td>\n",
       "    </tr>\n",
       "    <tr>\n",
       "      <th>4</th>\n",
       "      <td>assing_value test</td>\n",
       "      <td>group D</td>\n",
       "      <td>some college</td>\n",
       "      <td>standard</td>\n",
       "      <td>none</td>\n",
       "      <td>78</td>\n",
       "      <td>77</td>\n",
       "      <td>71</td>\n",
       "    </tr>\n",
       "    <tr>\n",
       "      <th>...</th>\n",
       "      <td>...</td>\n",
       "      <td>...</td>\n",
       "      <td>...</td>\n",
       "      <td>...</td>\n",
       "      <td>...</td>\n",
       "      <td>...</td>\n",
       "      <td>...</td>\n",
       "      <td>...</td>\n",
       "    </tr>\n",
       "    <tr>\n",
       "      <th>995</th>\n",
       "      <td>assing_value test</td>\n",
       "      <td>group C</td>\n",
       "      <td>some high school</td>\n",
       "      <td>standard</td>\n",
       "      <td>none</td>\n",
       "      <td>68</td>\n",
       "      <td>77</td>\n",
       "      <td>72</td>\n",
       "    </tr>\n",
       "    <tr>\n",
       "      <th>996</th>\n",
       "      <td>assing_value test</td>\n",
       "      <td>group E</td>\n",
       "      <td>some college</td>\n",
       "      <td>standard</td>\n",
       "      <td>none</td>\n",
       "      <td>98</td>\n",
       "      <td>81</td>\n",
       "      <td>94</td>\n",
       "    </tr>\n",
       "    <tr>\n",
       "      <th>997</th>\n",
       "      <td>assing_value test</td>\n",
       "      <td>group E</td>\n",
       "      <td>associate's degree</td>\n",
       "      <td>free/reduced</td>\n",
       "      <td>none</td>\n",
       "      <td>67</td>\n",
       "      <td>67</td>\n",
       "      <td>67</td>\n",
       "    </tr>\n",
       "    <tr>\n",
       "      <th>998</th>\n",
       "      <td>assing_value test</td>\n",
       "      <td>group C</td>\n",
       "      <td>high school</td>\n",
       "      <td>standard</td>\n",
       "      <td>none</td>\n",
       "      <td>63</td>\n",
       "      <td>68</td>\n",
       "      <td>70</td>\n",
       "    </tr>\n",
       "    <tr>\n",
       "      <th>999</th>\n",
       "      <td>assing_value test</td>\n",
       "      <td>group C</td>\n",
       "      <td>some college</td>\n",
       "      <td>free/reduced</td>\n",
       "      <td>none</td>\n",
       "      <td>49</td>\n",
       "      <td>57</td>\n",
       "      <td>50</td>\n",
       "    </tr>\n",
       "  </tbody>\n",
       "</table>\n",
       "<p>1000 rows × 8 columns</p>\n",
       "</div>"
      ]
     },
     "execution_count": 53,
     "metadata": {},
     "output_type": "execute_result"
    }
   ],
   "execution_count": 53
  },
  {
   "metadata": {},
   "cell_type": "markdown",
   "source": "## 5. Exercise 练习",
   "id": "81fdf2fbe0c81c0a"
  },
  {
   "metadata": {
    "ExecuteTime": {
     "end_time": "2025-07-02T22:50:07.237157Z",
     "start_time": "2025-07-02T22:50:07.225238Z"
    }
   },
   "cell_type": "code",
   "source": "sma_data = pd.read_csv('data/Standard_Metropolitan_Areas_Data-data.csv')",
   "id": "986cd8cc625d04fd",
   "outputs": [],
   "execution_count": 23
  },
  {
   "metadata": {
    "ExecuteTime": {
     "end_time": "2025-07-03T14:01:13.782894Z",
     "start_time": "2025-07-03T14:01:13.764271Z"
    }
   },
   "cell_type": "code",
   "source": "sma_data.head(3)",
   "id": "b5a697247928f27a",
   "outputs": [
    {
     "data": {
      "text/plain": [
       "   land_area  percent_city  percent_senior  physicians  hospital_beds  \\\n",
       "0       1384          78.1            12.3       25627          69678   \n",
       "1       3719          43.9             9.4       13326          43292   \n",
       "2       3553          37.4            10.7        9724          33731   \n",
       "\n",
       "   graduates  work_force  income  region  crime_rate  \n",
       "0       50.1      4083.9   72100       1       75.55  \n",
       "1       53.9      3305.9   54542       2       56.03  \n",
       "2       50.6      2066.3   33216       1       41.32  "
      ],
      "text/html": [
       "<div>\n",
       "<style scoped>\n",
       "    .dataframe tbody tr th:only-of-type {\n",
       "        vertical-align: middle;\n",
       "    }\n",
       "\n",
       "    .dataframe tbody tr th {\n",
       "        vertical-align: top;\n",
       "    }\n",
       "\n",
       "    .dataframe thead th {\n",
       "        text-align: right;\n",
       "    }\n",
       "</style>\n",
       "<table border=\"1\" class=\"dataframe\">\n",
       "  <thead>\n",
       "    <tr style=\"text-align: right;\">\n",
       "      <th></th>\n",
       "      <th>land_area</th>\n",
       "      <th>percent_city</th>\n",
       "      <th>percent_senior</th>\n",
       "      <th>physicians</th>\n",
       "      <th>hospital_beds</th>\n",
       "      <th>graduates</th>\n",
       "      <th>work_force</th>\n",
       "      <th>income</th>\n",
       "      <th>region</th>\n",
       "      <th>crime_rate</th>\n",
       "    </tr>\n",
       "  </thead>\n",
       "  <tbody>\n",
       "    <tr>\n",
       "      <th>0</th>\n",
       "      <td>1384</td>\n",
       "      <td>78.1</td>\n",
       "      <td>12.3</td>\n",
       "      <td>25627</td>\n",
       "      <td>69678</td>\n",
       "      <td>50.1</td>\n",
       "      <td>4083.9</td>\n",
       "      <td>72100</td>\n",
       "      <td>1</td>\n",
       "      <td>75.55</td>\n",
       "    </tr>\n",
       "    <tr>\n",
       "      <th>1</th>\n",
       "      <td>3719</td>\n",
       "      <td>43.9</td>\n",
       "      <td>9.4</td>\n",
       "      <td>13326</td>\n",
       "      <td>43292</td>\n",
       "      <td>53.9</td>\n",
       "      <td>3305.9</td>\n",
       "      <td>54542</td>\n",
       "      <td>2</td>\n",
       "      <td>56.03</td>\n",
       "    </tr>\n",
       "    <tr>\n",
       "      <th>2</th>\n",
       "      <td>3553</td>\n",
       "      <td>37.4</td>\n",
       "      <td>10.7</td>\n",
       "      <td>9724</td>\n",
       "      <td>33731</td>\n",
       "      <td>50.6</td>\n",
       "      <td>2066.3</td>\n",
       "      <td>33216</td>\n",
       "      <td>1</td>\n",
       "      <td>41.32</td>\n",
       "    </tr>\n",
       "  </tbody>\n",
       "</table>\n",
       "</div>"
      ]
     },
     "execution_count": 54,
     "metadata": {},
     "output_type": "execute_result"
    }
   ],
   "execution_count": 54
  },
  {
   "metadata": {
    "ExecuteTime": {
     "end_time": "2025-07-02T22:53:13.638746Z",
     "start_time": "2025-07-02T22:53:13.621549Z"
    }
   },
   "cell_type": "code",
   "source": "sma_data.iloc[9:10, ]",
   "id": "822b150756ae112c",
   "outputs": [
    {
     "data": {
      "text/plain": [
       "   land_area  percent_city  percent_senior  physicians  hospital_beds  \\\n",
       "9       4647          31.5             9.2        3916          12815   \n",
       "\n",
       "   graduates  work_force  income  region  crime_rate  \n",
       "9       65.1      1032.2   14542       2        55.3  "
      ],
      "text/html": [
       "<div>\n",
       "<style scoped>\n",
       "    .dataframe tbody tr th:only-of-type {\n",
       "        vertical-align: middle;\n",
       "    }\n",
       "\n",
       "    .dataframe tbody tr th {\n",
       "        vertical-align: top;\n",
       "    }\n",
       "\n",
       "    .dataframe thead th {\n",
       "        text-align: right;\n",
       "    }\n",
       "</style>\n",
       "<table border=\"1\" class=\"dataframe\">\n",
       "  <thead>\n",
       "    <tr style=\"text-align: right;\">\n",
       "      <th></th>\n",
       "      <th>land_area</th>\n",
       "      <th>percent_city</th>\n",
       "      <th>percent_senior</th>\n",
       "      <th>physicians</th>\n",
       "      <th>hospital_beds</th>\n",
       "      <th>graduates</th>\n",
       "      <th>work_force</th>\n",
       "      <th>income</th>\n",
       "      <th>region</th>\n",
       "      <th>crime_rate</th>\n",
       "    </tr>\n",
       "  </thead>\n",
       "  <tbody>\n",
       "    <tr>\n",
       "      <th>9</th>\n",
       "      <td>4647</td>\n",
       "      <td>31.5</td>\n",
       "      <td>9.2</td>\n",
       "      <td>3916</td>\n",
       "      <td>12815</td>\n",
       "      <td>65.1</td>\n",
       "      <td>1032.2</td>\n",
       "      <td>14542</td>\n",
       "      <td>2</td>\n",
       "      <td>55.3</td>\n",
       "    </tr>\n",
       "  </tbody>\n",
       "</table>\n",
       "</div>"
      ]
     },
     "execution_count": 29,
     "metadata": {},
     "output_type": "execute_result"
    }
   ],
   "execution_count": 29
  },
  {
   "metadata": {
    "ExecuteTime": {
     "end_time": "2025-07-03T11:53:43.311048Z",
     "start_time": "2025-07-03T11:53:43.300566Z"
    }
   },
   "cell_type": "code",
   "source": "sma_data['physicians'].iloc[-1]",
   "id": "360c0099da09afff",
   "outputs": [
    {
     "data": {
      "text/plain": [
       "np.int64(140)"
      ]
     },
     "execution_count": 50,
     "metadata": {},
     "output_type": "execute_result"
    }
   ],
   "execution_count": 50
  },
  {
   "metadata": {
    "ExecuteTime": {
     "end_time": "2025-07-03T17:32:36.415476Z",
     "start_time": "2025-07-03T17:32:36.396894Z"
    }
   },
   "cell_type": "code",
   "source": [
    "sample_data1 = sma_data.loc[[1, 3, 5, 7, 9, 13], ['land_area', 'work_force', 'income', 'region', 'crime_rate']]\n",
    "sample_data1"
   ],
   "id": "ad3f6066816fd62d",
   "outputs": [
    {
     "data": {
      "text/plain": [
       "    land_area  work_force  income  region  crime_rate\n",
       "1        3719      3305.9   54542       2       56.03\n",
       "3        3916      1966.7   32906       2       67.38\n",
       "5        2815      1541.9   25663       3       58.48\n",
       "7        6794      1272.7   18221       3       64.88\n",
       "9        4647      1032.2   14542       2       55.30\n",
       "13        782       915.2   12591       4       63.20"
      ],
      "text/html": [
       "<div>\n",
       "<style scoped>\n",
       "    .dataframe tbody tr th:only-of-type {\n",
       "        vertical-align: middle;\n",
       "    }\n",
       "\n",
       "    .dataframe tbody tr th {\n",
       "        vertical-align: top;\n",
       "    }\n",
       "\n",
       "    .dataframe thead th {\n",
       "        text-align: right;\n",
       "    }\n",
       "</style>\n",
       "<table border=\"1\" class=\"dataframe\">\n",
       "  <thead>\n",
       "    <tr style=\"text-align: right;\">\n",
       "      <th></th>\n",
       "      <th>land_area</th>\n",
       "      <th>work_force</th>\n",
       "      <th>income</th>\n",
       "      <th>region</th>\n",
       "      <th>crime_rate</th>\n",
       "    </tr>\n",
       "  </thead>\n",
       "  <tbody>\n",
       "    <tr>\n",
       "      <th>1</th>\n",
       "      <td>3719</td>\n",
       "      <td>3305.9</td>\n",
       "      <td>54542</td>\n",
       "      <td>2</td>\n",
       "      <td>56.03</td>\n",
       "    </tr>\n",
       "    <tr>\n",
       "      <th>3</th>\n",
       "      <td>3916</td>\n",
       "      <td>1966.7</td>\n",
       "      <td>32906</td>\n",
       "      <td>2</td>\n",
       "      <td>67.38</td>\n",
       "    </tr>\n",
       "    <tr>\n",
       "      <th>5</th>\n",
       "      <td>2815</td>\n",
       "      <td>1541.9</td>\n",
       "      <td>25663</td>\n",
       "      <td>3</td>\n",
       "      <td>58.48</td>\n",
       "    </tr>\n",
       "    <tr>\n",
       "      <th>7</th>\n",
       "      <td>6794</td>\n",
       "      <td>1272.7</td>\n",
       "      <td>18221</td>\n",
       "      <td>3</td>\n",
       "      <td>64.88</td>\n",
       "    </tr>\n",
       "    <tr>\n",
       "      <th>9</th>\n",
       "      <td>4647</td>\n",
       "      <td>1032.2</td>\n",
       "      <td>14542</td>\n",
       "      <td>2</td>\n",
       "      <td>55.30</td>\n",
       "    </tr>\n",
       "    <tr>\n",
       "      <th>13</th>\n",
       "      <td>782</td>\n",
       "      <td>915.2</td>\n",
       "      <td>12591</td>\n",
       "      <td>4</td>\n",
       "      <td>63.20</td>\n",
       "    </tr>\n",
       "  </tbody>\n",
       "</table>\n",
       "</div>"
      ]
     },
     "execution_count": 64,
     "metadata": {},
     "output_type": "execute_result"
    }
   ],
   "execution_count": 64
  },
  {
   "metadata": {
    "ExecuteTime": {
     "end_time": "2025-07-03T17:36:02.582442Z",
     "start_time": "2025-07-03T17:36:02.559623Z"
    }
   },
   "cell_type": "code",
   "source": [
    "sample_data2 = sma_data[sma_data.region == 2]\n",
    "sample_data2.info()"
   ],
   "id": "67fb7d7fac04af17",
   "outputs": [
    {
     "name": "stdout",
     "output_type": "stream",
     "text": [
      "<class 'pandas.core.frame.DataFrame'>\n",
      "Index: 25 entries, 1 to 92\n",
      "Data columns (total 10 columns):\n",
      " #   Column          Non-Null Count  Dtype  \n",
      "---  ------          --------------  -----  \n",
      " 0   land_area       25 non-null     int64  \n",
      " 1   percent_city    25 non-null     float64\n",
      " 2   percent_senior  25 non-null     float64\n",
      " 3   physicians      25 non-null     int64  \n",
      " 4   hospital_beds   25 non-null     int64  \n",
      " 5   graduates       25 non-null     float64\n",
      " 6   work_force      25 non-null     float64\n",
      " 7   income          25 non-null     int64  \n",
      " 8   region          25 non-null     int64  \n",
      " 9   crime_rate      25 non-null     float64\n",
      "dtypes: float64(5), int64(5)\n",
      "memory usage: 2.1 KB\n"
     ]
    }
   ],
   "execution_count": 71
  }
 ],
 "metadata": {
  "kernelspec": {
   "display_name": "Python 3",
   "language": "python",
   "name": "python3"
  },
  "language_info": {
   "codemirror_mode": {
    "name": "ipython",
    "version": 2
   },
   "file_extension": ".py",
   "mimetype": "text/x-python",
   "name": "python",
   "nbconvert_exporter": "python",
   "pygments_lexer": "ipython2",
   "version": "2.7.6"
  }
 },
 "nbformat": 4,
 "nbformat_minor": 5
}
