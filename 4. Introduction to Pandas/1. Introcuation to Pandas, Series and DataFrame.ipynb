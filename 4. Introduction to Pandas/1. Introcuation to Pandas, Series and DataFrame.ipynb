{
 "cells": [
  {
   "metadata": {},
   "cell_type": "markdown",
   "source": "# Introduction to Pandas, Series and DataFrame",
   "id": "10fbee6f9a98957d"
  },
  {
   "metadata": {},
   "cell_type": "markdown",
   "source": [
    "## 1. Data Analysis\n",
    "- Data Analysis and Pandas  数据分析与 Pandas\n",
    "    - Pandas is a tool in Python that helps you collect (or read) data from a file, organize it in a tabular format, manipulate and clean it, if required, to derive insightful information from it.  Pandas 是一个 Python 工具，它帮助你从文件中收集（或读取）数据，以表格形式组织它，并在需要时进行操作和清理，以便从中得出有见地的信息。"
   ],
   "id": "da5d696f1fede8"
  },
  {
   "metadata": {},
   "cell_type": "markdown",
   "source": [
    "## 2. Introduction to Pandas  Pandas 简介\n",
    "- Officially stands for Python Data Analysis Library.  官方全称为 Python 数据分析库。\n",
    "- It is a tool used by data scientists to:  它是数据科学家用来：\n",
    "    - read,  读取，\n",
    "    - write,  写入，\n",
    "    - manipulate, and  操作，\n",
    "    - analyze the data.  分析数据。"
   ],
   "id": "fd6c56950fdee04c"
  },
  {
   "metadata": {
    "ExecuteTime": {
     "end_time": "2025-07-02T14:53:22.737972Z",
     "start_time": "2025-07-02T14:53:22.734110Z"
    }
   },
   "cell_type": "code",
   "source": [
    "# import pandas as pd\n",
    "import pandas as pd\n",
    "import numpy as np"
   ],
   "id": "a779b4bbc93a3c99",
   "outputs": [],
   "execution_count": 6
  },
  {
   "metadata": {},
   "cell_type": "markdown",
   "source": [
    "## 3. Pandas Objects  Pandas 对象\n",
    "- Before we dive into series, let’s do a quick recap of pandas ‘objects’. At the core of the pandas library, there are two fundamental data structures/objects:\n",
    "在深入 Series 之前，让我们快速回顾一下 pandas 的“对象”。在 pandas 库的核心，有两种基本的数据结构/对象：\n",
    "    - Series\n",
    "    - Data Frames  数据框"
   ],
   "id": "d773deee087d48b6"
  },
  {
   "metadata": {},
   "cell_type": "markdown",
   "source": [
    "### a. Series\n",
    "- What is a Series?  什么是 Series？\n",
    "    - A one-dimensional labeled array  一个一维的带标签数组\n",
    "    - Can hold data of any type  可以容纳任何类型的数据\n",
    "    - Is like a column in a table  就像表格中的一列\n",
    "- What can a Series have?  Series 可以包含什么？\n",
    "    - A Series can have all the elements as numbers in it:  Series 可以包含其中的所有元素作为数字： dtype=int64\n",
    "    - A Series can have all the elements as strings in it:  一个 Series 可以包含所有元素都是字符串： dtype=object\n",
    "    - A Series can have its elements as both numbers and strings.  一个 Series 的元素可以是数字和字符串的组合。 dtype=object\n",
    "    - Series is like a list in Python that can take any type of value like integers, strings, floats (or decimal values), etc. Series 类似于 Python 中的列表，可以接受任何类型的值，如整数、字符串、浮点数（或小数值）等。\n",
    "    - All the items in the series are labeled with indexes:  系列中的所有项目都使用索引进行标记：beginning from 0, 从 0 开始，"
   ],
   "id": "3ede378cebc34381"
  },
  {
   "metadata": {
    "ExecuteTime": {
     "end_time": "2025-07-02T14:51:20.766040Z",
     "start_time": "2025-07-02T14:51:20.759863Z"
    }
   },
   "cell_type": "code",
   "source": [
    "list1 = [1, 2, 3, 4, 5]\n",
    "pd.Series(list1)"
   ],
   "id": "2a9d060068649510",
   "outputs": [
    {
     "data": {
      "text/plain": [
       "0    1\n",
       "1    2\n",
       "2    3\n",
       "3    4\n",
       "4    5\n",
       "dtype: int64"
      ]
     },
     "execution_count": 4,
     "metadata": {},
     "output_type": "execute_result"
    }
   ],
   "execution_count": 4
  },
  {
   "metadata": {
    "ExecuteTime": {
     "end_time": "2025-07-02T14:51:22.116456Z",
     "start_time": "2025-07-02T14:51:22.108973Z"
    }
   },
   "cell_type": "code",
   "source": [
    "list2 = {'one': 1, 'two': 2, 'three': 3, 'four': 4, 'five': 5}\n",
    "pd.Series(list2)"
   ],
   "id": "b8cae280387f763f",
   "outputs": [
    {
     "data": {
      "text/plain": [
       "one      1\n",
       "two      2\n",
       "three    3\n",
       "four     4\n",
       "five     5\n",
       "dtype: int64"
      ]
     },
     "execution_count": 5,
     "metadata": {},
     "output_type": "execute_result"
    }
   ],
   "execution_count": 5
  },
  {
   "metadata": {},
   "cell_type": "markdown",
   "source": [
    "### b. Data Frames\n",
    "- What is a DataFrame?  什么是 DataFrame？\n",
    "    - Two-dimensional table  二维表格\n",
    "    - Made up of a collection of Series  由一系列组成\n",
    "    - Structured with labeled axes (rows and columns)  带有标记轴（行和列）的结构"
   ],
   "id": "d8c0212fe0b7ccd9"
  },
  {
   "metadata": {
    "ExecuteTime": {
     "end_time": "2025-07-02T15:46:34.369470Z",
     "start_time": "2025-07-02T15:46:34.359458Z"
    }
   },
   "cell_type": "code",
   "source": [
    "# You can create a DataFrame using a Python list or a NumPy array:  你可以使用 Python 列表或 NumPy 数组来创建一个 DataFrame：\n",
    "data = [[1, 2, 3], [4, 5, 6], [7, 8, 9]]\n",
    "df1 = pd.DataFrame(data)\n",
    "df1"
   ],
   "id": "83f5dc8e4e30d1b2",
   "outputs": [
    {
     "data": {
      "text/plain": [
       "   0  1  2\n",
       "0  1  2  3\n",
       "1  4  5  6\n",
       "2  7  8  9"
      ],
      "text/html": [
       "<div>\n",
       "<style scoped>\n",
       "    .dataframe tbody tr th:only-of-type {\n",
       "        vertical-align: middle;\n",
       "    }\n",
       "\n",
       "    .dataframe tbody tr th {\n",
       "        vertical-align: top;\n",
       "    }\n",
       "\n",
       "    .dataframe thead th {\n",
       "        text-align: right;\n",
       "    }\n",
       "</style>\n",
       "<table border=\"1\" class=\"dataframe\">\n",
       "  <thead>\n",
       "    <tr style=\"text-align: right;\">\n",
       "      <th></th>\n",
       "      <th>0</th>\n",
       "      <th>1</th>\n",
       "      <th>2</th>\n",
       "    </tr>\n",
       "  </thead>\n",
       "  <tbody>\n",
       "    <tr>\n",
       "      <th>0</th>\n",
       "      <td>1</td>\n",
       "      <td>2</td>\n",
       "      <td>3</td>\n",
       "    </tr>\n",
       "    <tr>\n",
       "      <th>1</th>\n",
       "      <td>4</td>\n",
       "      <td>5</td>\n",
       "      <td>6</td>\n",
       "    </tr>\n",
       "    <tr>\n",
       "      <th>2</th>\n",
       "      <td>7</td>\n",
       "      <td>8</td>\n",
       "      <td>9</td>\n",
       "    </tr>\n",
       "  </tbody>\n",
       "</table>\n",
       "</div>"
      ]
     },
     "execution_count": 8,
     "metadata": {},
     "output_type": "execute_result"
    }
   ],
   "execution_count": 8
  },
  {
   "metadata": {
    "ExecuteTime": {
     "end_time": "2025-07-02T15:48:30.557479Z",
     "start_time": "2025-07-02T15:48:30.545271Z"
    }
   },
   "cell_type": "code",
   "source": [
    "array1 = np.array([[1000, 'A', 1.5], [2000, 'B', 2.5], [3000, 'C', 3.5]])\n",
    "df2 = pd.DataFrame(array1, columns=['ID', 'Name', 'Value'], index=['1', '2', '3'])\n",
    "df2"
   ],
   "id": "901d6a5651be3dbe",
   "outputs": [
    {
     "data": {
      "text/plain": [
       "     ID Name Value\n",
       "1  1000    A   1.5\n",
       "2  2000    B   2.5\n",
       "3  3000    C   3.5"
      ],
      "text/html": [
       "<div>\n",
       "<style scoped>\n",
       "    .dataframe tbody tr th:only-of-type {\n",
       "        vertical-align: middle;\n",
       "    }\n",
       "\n",
       "    .dataframe tbody tr th {\n",
       "        vertical-align: top;\n",
       "    }\n",
       "\n",
       "    .dataframe thead th {\n",
       "        text-align: right;\n",
       "    }\n",
       "</style>\n",
       "<table border=\"1\" class=\"dataframe\">\n",
       "  <thead>\n",
       "    <tr style=\"text-align: right;\">\n",
       "      <th></th>\n",
       "      <th>ID</th>\n",
       "      <th>Name</th>\n",
       "      <th>Value</th>\n",
       "    </tr>\n",
       "  </thead>\n",
       "  <tbody>\n",
       "    <tr>\n",
       "      <th>1</th>\n",
       "      <td>1000</td>\n",
       "      <td>A</td>\n",
       "      <td>1.5</td>\n",
       "    </tr>\n",
       "    <tr>\n",
       "      <th>2</th>\n",
       "      <td>2000</td>\n",
       "      <td>B</td>\n",
       "      <td>2.5</td>\n",
       "    </tr>\n",
       "    <tr>\n",
       "      <th>3</th>\n",
       "      <td>3000</td>\n",
       "      <td>C</td>\n",
       "      <td>3.5</td>\n",
       "    </tr>\n",
       "  </tbody>\n",
       "</table>\n",
       "</div>"
      ]
     },
     "execution_count": 11,
     "metadata": {},
     "output_type": "execute_result"
    }
   ],
   "execution_count": 11
  },
  {
   "metadata": {
    "ExecuteTime": {
     "end_time": "2025-07-02T15:48:55.509658Z",
     "start_time": "2025-07-02T15:48:55.496620Z"
    }
   },
   "cell_type": "code",
   "source": [
    "data1 = {\n",
    "    'ID': [1000, 2000, 3000],\n",
    "    'Name': ['A', 'B', 'C'],\n",
    "    'Value': [1.5, 2.5, 3.5]\n",
    "}\n",
    "df3 = pd.DataFrame(data1)\n",
    "df3"
   ],
   "id": "d78efff94f3890cf",
   "outputs": [
    {
     "data": {
      "text/plain": [
       "     ID Name  Value\n",
       "0  1000    A    1.5\n",
       "1  2000    B    2.5\n",
       "2  3000    C    3.5"
      ],
      "text/html": [
       "<div>\n",
       "<style scoped>\n",
       "    .dataframe tbody tr th:only-of-type {\n",
       "        vertical-align: middle;\n",
       "    }\n",
       "\n",
       "    .dataframe tbody tr th {\n",
       "        vertical-align: top;\n",
       "    }\n",
       "\n",
       "    .dataframe thead th {\n",
       "        text-align: right;\n",
       "    }\n",
       "</style>\n",
       "<table border=\"1\" class=\"dataframe\">\n",
       "  <thead>\n",
       "    <tr style=\"text-align: right;\">\n",
       "      <th></th>\n",
       "      <th>ID</th>\n",
       "      <th>Name</th>\n",
       "      <th>Value</th>\n",
       "    </tr>\n",
       "  </thead>\n",
       "  <tbody>\n",
       "    <tr>\n",
       "      <th>0</th>\n",
       "      <td>1000</td>\n",
       "      <td>A</td>\n",
       "      <td>1.5</td>\n",
       "    </tr>\n",
       "    <tr>\n",
       "      <th>1</th>\n",
       "      <td>2000</td>\n",
       "      <td>B</td>\n",
       "      <td>2.5</td>\n",
       "    </tr>\n",
       "    <tr>\n",
       "      <th>2</th>\n",
       "      <td>3000</td>\n",
       "      <td>C</td>\n",
       "      <td>3.5</td>\n",
       "    </tr>\n",
       "  </tbody>\n",
       "</table>\n",
       "</div>"
      ]
     },
     "execution_count": 12,
     "metadata": {},
     "output_type": "execute_result"
    }
   ],
   "execution_count": 12
  },
  {
   "metadata": {},
   "cell_type": "markdown",
   "source": [
    "### c. Summary\n",
    "- A Column is a Series  一个列是一个系列\n",
    "- A DataFrame is a collection of series.  一个 DataFrame 是一个系列的集合。\n",
    "- A series is a column in a table or a DataFrame.  一个系列是一个表或 DataFrame 中的列。"
   ],
   "id": "f5b54904750e483a"
  }
 ],
 "metadata": {
  "kernelspec": {
   "display_name": "Python 3",
   "language": "python",
   "name": "python3"
  },
  "language_info": {
   "codemirror_mode": {
    "name": "ipython",
    "version": 2
   },
   "file_extension": ".py",
   "mimetype": "text/x-python",
   "name": "python",
   "nbconvert_exporter": "python",
   "pygments_lexer": "ipython2",
   "version": "2.7.6"
  }
 },
 "nbformat": 4,
 "nbformat_minor": 5
}
