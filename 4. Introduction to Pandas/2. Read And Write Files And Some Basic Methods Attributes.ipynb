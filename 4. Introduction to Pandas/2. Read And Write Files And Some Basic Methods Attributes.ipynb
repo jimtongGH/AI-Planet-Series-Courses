{
 "cells": [
  {
   "metadata": {},
   "cell_type": "markdown",
   "source": "# Read And Write Files And Some Basic Methods Attributes  读取和写入文件及一些基本方法属性",
   "id": "4085ea96bdae7587"
  },
  {
   "metadata": {
    "ExecuteTime": {
     "end_time": "2025-07-02T21:30:40.464454Z",
     "start_time": "2025-07-02T21:30:39.533024Z"
    }
   },
   "cell_type": "code",
   "source": [
    "import pandas as pd\n",
    "import numpy as np"
   ],
   "id": "9f3be388a2a52090",
   "outputs": [],
   "execution_count": 3
  },
  {
   "metadata": {},
   "cell_type": "markdown",
   "source": "## 1. Read and Write Files  读取和写入文件",
   "id": "315eebeb1597e57f"
  },
  {
   "metadata": {},
   "cell_type": "markdown",
   "source": [
    "### a. Reading Data Files  读取数据文件\n",
    "- Data exists in a number of formats. The most basic of these is the CSV file. CSV stands for comma-separated-values. 数据以多种格式存在。其中最基本的是 CSV 文件。CSV 代表逗号分隔值。\n",
    "- What is a CSV file?  什么是 CSV 文件？\n",
    "    - A CSV file is a text file that contains data separated by commas.  CSV 文件是一个文本文件，其中包含由逗号分隔的数据。"
   ],
   "id": "c9b89f82ac5ad061"
  },
  {
   "metadata": {},
   "cell_type": "markdown",
   "source": [
    "### b. Working with CSV files in Python  在 Python 中处理 CSV 文件\n",
    "- For working with CSV files in python, there is an inbuilt module named csv.  要在 Python 中处理 CSV 文件，有一个名为 csv 的内置模块。\n",
    "- However, a common method for working with CSV files is using Pandas. It makes importing and analyzing data much easier.  然而，处理 CSV 文件的一个常用方法是使用 Pandas。它使导入和分析数据变得更加容易。\n",
    "- One crucial feature of Pandas is its ability to write and read Excel, CSV, and many other common types of files.  Pandas 的一个重要功能是能够读写 Excel、CSV 以及许多其他常见类型的文件。"
   ],
   "id": "802f0a754b220a8d"
  },
  {
   "metadata": {},
   "cell_type": "markdown",
   "source": [
    "### c. Pandas read_csv\n",
    "- The read_csv() function reads the CSV file into a DataFrame object.  read_csv()函数将 CSV 文件读取到一个 DataFrame 对象中。\n",
    "- A CSV file is similar to a two-dimensional table and the DataFrame object represents two dimensional tabular view.  一个 CSV 文件类似于一个二维表格，DataFrame 对象表示二维表格视图。\n",
    "- The most basic way to read a csv file in Pandas:  Pandas 读取 csv 文件最基本的方法："
   ],
   "id": "14d18fd7f5b57b52"
  },
  {
   "metadata": {
    "ExecuteTime": {
     "end_time": "2025-07-02T21:30:42.582484Z",
     "start_time": "2025-07-02T21:30:42.496917Z"
    }
   },
   "cell_type": "code",
   "source": [
    "# Read a CSV file into a DataFrame\n",
    "# df = pd.read_csv('data.csv')"
   ],
   "id": "236b5b7d5e1dec08",
   "outputs": [
    {
     "ename": "NameError",
     "evalue": "name 'pwd' is not defined",
     "output_type": "error",
     "traceback": [
      "\u001B[31m---------------------------------------------------------------------------\u001B[39m",
      "\u001B[31mNameError\u001B[39m                                 Traceback (most recent call last)",
      "\u001B[36mCell\u001B[39m\u001B[36m \u001B[39m\u001B[32mIn[4]\u001B[39m\u001B[32m, line 5\u001B[39m\n\u001B[32m      1\u001B[39m \u001B[38;5;66;03m# Read a CSV file into a DataFrame\u001B[39;00m\n\u001B[32m      2\u001B[39m \u001B[38;5;66;03m# df = pd.read_csv('data.csv')\u001B[39;00m\n\u001B[32m      3\u001B[39m \n\u001B[32m      4\u001B[39m \u001B[38;5;66;03m# Let's know which directory/folder we are working in\u001B[39;00m\n\u001B[32m----> \u001B[39m\u001B[32m5\u001B[39m pwd\n",
      "\u001B[31mNameError\u001B[39m: name 'pwd' is not defined"
     ]
    }
   ],
   "execution_count": 4
  },
  {
   "metadata": {},
   "cell_type": "markdown",
   "source": "### d. Pandas to_csv with example  Pandas to_csv 示例",
   "id": "b501a63cc5a51e93"
  },
  {
   "metadata": {},
   "cell_type": "code",
   "outputs": [],
   "execution_count": null,
   "source": [
    "# DataFrame to CSV\n",
    "# df is the name of the DataFrame you want to write to a CSV file.\n",
    "# df.to_csv('data.csv')\n",
    "\n",
    "# if you don't want to write the index column to the CSV file, you can set the index parameter to False:\n",
    "# df.to_csv('data.csv', index=False)"
   ],
   "id": "b7c95a664924a2f5"
  },
  {
   "metadata": {},
   "cell_type": "markdown",
   "source": "## 2. Basic Methods and Attributes - On Real World Dataset  基本方法和属性 - 在真实世界数据集上",
   "id": "45cfa1ef8feb3b5b"
  },
  {
   "metadata": {},
   "cell_type": "markdown",
   "source": "### a. Read The dataset  阅读数据集",
   "id": "cd85b86687785779"
  },
  {
   "metadata": {
    "ExecuteTime": {
     "end_time": "2025-07-02T21:39:18.525283Z",
     "start_time": "2025-07-02T21:39:18.516337Z"
    }
   },
   "cell_type": "code",
   "source": "exam_scores = pd.read_csv('data/exam_scores.csv')",
   "id": "8b2010eccb4e880e",
   "outputs": [],
   "execution_count": 10
  },
  {
   "metadata": {},
   "cell_type": "markdown",
   "source": "### b. Methods and Attributes of DataFrame  DataFrame 的方法和属性",
   "id": "465c8f7c27fffa9e"
  },
  {
   "metadata": {
    "ExecuteTime": {
     "end_time": "2025-07-02T21:39:57.465062Z",
     "start_time": "2025-07-02T21:39:57.454694Z"
    }
   },
   "cell_type": "code",
   "source": [
    "# shape attribute  形状属性\n",
    "exam_scores.shape"
   ],
   "id": "296a90e4dc1b1b4a",
   "outputs": [
    {
     "data": {
      "text/plain": [
       "(1000, 8)"
      ]
     },
     "execution_count": 11,
     "metadata": {},
     "output_type": "execute_result"
    }
   ],
   "execution_count": 11
  },
  {
   "metadata": {
    "ExecuteTime": {
     "end_time": "2025-07-02T21:40:14.681809Z",
     "start_time": "2025-07-02T21:40:14.665290Z"
    }
   },
   "cell_type": "code",
   "source": [
    "# head( ) method  head()方法\n",
    "exam_scores.head()  # Returns the first 5 rows of the DataFrame"
   ],
   "id": "4fb56573a169a68d",
   "outputs": [
    {
     "data": {
      "text/plain": [
       "   gender race/ethnicity parental level of education         lunch  \\\n",
       "0    male        group B           bachelor's degree      standard   \n",
       "1  female        group C                some college      standard   \n",
       "2    male        group C                some college  free/reduced   \n",
       "3  female        group D           bachelor's degree  free/reduced   \n",
       "4    male        group D                some college      standard   \n",
       "\n",
       "  test preparation course  math score  reading score  writing score  \n",
       "0                    none          74             68             67  \n",
       "1               completed          58             68             66  \n",
       "2                    none          66             65             65  \n",
       "3                    none          74             75             73  \n",
       "4                    none          78             77             71  "
      ],
      "text/html": [
       "<div>\n",
       "<style scoped>\n",
       "    .dataframe tbody tr th:only-of-type {\n",
       "        vertical-align: middle;\n",
       "    }\n",
       "\n",
       "    .dataframe tbody tr th {\n",
       "        vertical-align: top;\n",
       "    }\n",
       "\n",
       "    .dataframe thead th {\n",
       "        text-align: right;\n",
       "    }\n",
       "</style>\n",
       "<table border=\"1\" class=\"dataframe\">\n",
       "  <thead>\n",
       "    <tr style=\"text-align: right;\">\n",
       "      <th></th>\n",
       "      <th>gender</th>\n",
       "      <th>race/ethnicity</th>\n",
       "      <th>parental level of education</th>\n",
       "      <th>lunch</th>\n",
       "      <th>test preparation course</th>\n",
       "      <th>math score</th>\n",
       "      <th>reading score</th>\n",
       "      <th>writing score</th>\n",
       "    </tr>\n",
       "  </thead>\n",
       "  <tbody>\n",
       "    <tr>\n",
       "      <th>0</th>\n",
       "      <td>male</td>\n",
       "      <td>group B</td>\n",
       "      <td>bachelor's degree</td>\n",
       "      <td>standard</td>\n",
       "      <td>none</td>\n",
       "      <td>74</td>\n",
       "      <td>68</td>\n",
       "      <td>67</td>\n",
       "    </tr>\n",
       "    <tr>\n",
       "      <th>1</th>\n",
       "      <td>female</td>\n",
       "      <td>group C</td>\n",
       "      <td>some college</td>\n",
       "      <td>standard</td>\n",
       "      <td>completed</td>\n",
       "      <td>58</td>\n",
       "      <td>68</td>\n",
       "      <td>66</td>\n",
       "    </tr>\n",
       "    <tr>\n",
       "      <th>2</th>\n",
       "      <td>male</td>\n",
       "      <td>group C</td>\n",
       "      <td>some college</td>\n",
       "      <td>free/reduced</td>\n",
       "      <td>none</td>\n",
       "      <td>66</td>\n",
       "      <td>65</td>\n",
       "      <td>65</td>\n",
       "    </tr>\n",
       "    <tr>\n",
       "      <th>3</th>\n",
       "      <td>female</td>\n",
       "      <td>group D</td>\n",
       "      <td>bachelor's degree</td>\n",
       "      <td>free/reduced</td>\n",
       "      <td>none</td>\n",
       "      <td>74</td>\n",
       "      <td>75</td>\n",
       "      <td>73</td>\n",
       "    </tr>\n",
       "    <tr>\n",
       "      <th>4</th>\n",
       "      <td>male</td>\n",
       "      <td>group D</td>\n",
       "      <td>some college</td>\n",
       "      <td>standard</td>\n",
       "      <td>none</td>\n",
       "      <td>78</td>\n",
       "      <td>77</td>\n",
       "      <td>71</td>\n",
       "    </tr>\n",
       "  </tbody>\n",
       "</table>\n",
       "</div>"
      ]
     },
     "execution_count": 12,
     "metadata": {},
     "output_type": "execute_result"
    }
   ],
   "execution_count": 12
  },
  {
   "metadata": {
    "ExecuteTime": {
     "end_time": "2025-07-02T21:40:40.022894Z",
     "start_time": "2025-07-02T21:40:40.008645Z"
    }
   },
   "cell_type": "code",
   "source": [
    "# tail( ) method  tail()方法\n",
    "exam_scores.tail()  # Returns the last 5 rows of the DataFrame"
   ],
   "id": "735a22df62db616e",
   "outputs": [
    {
     "data": {
      "text/plain": [
       "     gender race/ethnicity parental level of education         lunch  \\\n",
       "995  female        group C            some high school      standard   \n",
       "996  female        group E                some college      standard   \n",
       "997  female        group E          associate's degree  free/reduced   \n",
       "998  female        group C                 high school      standard   \n",
       "999    male        group C                some college  free/reduced   \n",
       "\n",
       "    test preparation course  math score  reading score  writing score  \n",
       "995                    none          68             77             72  \n",
       "996                    none          98             81             94  \n",
       "997                    none          67             67             67  \n",
       "998                    none          63             68             70  \n",
       "999                    none          49             57             50  "
      ],
      "text/html": [
       "<div>\n",
       "<style scoped>\n",
       "    .dataframe tbody tr th:only-of-type {\n",
       "        vertical-align: middle;\n",
       "    }\n",
       "\n",
       "    .dataframe tbody tr th {\n",
       "        vertical-align: top;\n",
       "    }\n",
       "\n",
       "    .dataframe thead th {\n",
       "        text-align: right;\n",
       "    }\n",
       "</style>\n",
       "<table border=\"1\" class=\"dataframe\">\n",
       "  <thead>\n",
       "    <tr style=\"text-align: right;\">\n",
       "      <th></th>\n",
       "      <th>gender</th>\n",
       "      <th>race/ethnicity</th>\n",
       "      <th>parental level of education</th>\n",
       "      <th>lunch</th>\n",
       "      <th>test preparation course</th>\n",
       "      <th>math score</th>\n",
       "      <th>reading score</th>\n",
       "      <th>writing score</th>\n",
       "    </tr>\n",
       "  </thead>\n",
       "  <tbody>\n",
       "    <tr>\n",
       "      <th>995</th>\n",
       "      <td>female</td>\n",
       "      <td>group C</td>\n",
       "      <td>some high school</td>\n",
       "      <td>standard</td>\n",
       "      <td>none</td>\n",
       "      <td>68</td>\n",
       "      <td>77</td>\n",
       "      <td>72</td>\n",
       "    </tr>\n",
       "    <tr>\n",
       "      <th>996</th>\n",
       "      <td>female</td>\n",
       "      <td>group E</td>\n",
       "      <td>some college</td>\n",
       "      <td>standard</td>\n",
       "      <td>none</td>\n",
       "      <td>98</td>\n",
       "      <td>81</td>\n",
       "      <td>94</td>\n",
       "    </tr>\n",
       "    <tr>\n",
       "      <th>997</th>\n",
       "      <td>female</td>\n",
       "      <td>group E</td>\n",
       "      <td>associate's degree</td>\n",
       "      <td>free/reduced</td>\n",
       "      <td>none</td>\n",
       "      <td>67</td>\n",
       "      <td>67</td>\n",
       "      <td>67</td>\n",
       "    </tr>\n",
       "    <tr>\n",
       "      <th>998</th>\n",
       "      <td>female</td>\n",
       "      <td>group C</td>\n",
       "      <td>high school</td>\n",
       "      <td>standard</td>\n",
       "      <td>none</td>\n",
       "      <td>63</td>\n",
       "      <td>68</td>\n",
       "      <td>70</td>\n",
       "    </tr>\n",
       "    <tr>\n",
       "      <th>999</th>\n",
       "      <td>male</td>\n",
       "      <td>group C</td>\n",
       "      <td>some college</td>\n",
       "      <td>free/reduced</td>\n",
       "      <td>none</td>\n",
       "      <td>49</td>\n",
       "      <td>57</td>\n",
       "      <td>50</td>\n",
       "    </tr>\n",
       "  </tbody>\n",
       "</table>\n",
       "</div>"
      ]
     },
     "execution_count": 13,
     "metadata": {},
     "output_type": "execute_result"
    }
   ],
   "execution_count": 13
  },
  {
   "metadata": {
    "ExecuteTime": {
     "end_time": "2025-07-02T21:41:08.952443Z",
     "start_time": "2025-07-02T21:41:08.938571Z"
    }
   },
   "cell_type": "code",
   "source": [
    "# head( ) and tail( )\n",
    "# You can also specify the number of rows to return by passing an integer argument to the head() or tail() method.\n",
    "exam_scores.head(10)  # Returns the first 10 rows of the DataFrame\n",
    "# exam_scores.tail(10)  # Returns the last 10 rows of the DataFrame"
   ],
   "id": "bbd09961b72d6672",
   "outputs": [
    {
     "data": {
      "text/plain": [
       "   gender race/ethnicity parental level of education         lunch  \\\n",
       "0    male        group B           bachelor's degree      standard   \n",
       "1  female        group C                some college      standard   \n",
       "2    male        group C                some college  free/reduced   \n",
       "3  female        group D           bachelor's degree  free/reduced   \n",
       "4    male        group D                some college      standard   \n",
       "5  female        group D          associate's degree      standard   \n",
       "6  female        group B          associate's degree  free/reduced   \n",
       "7    male        group E            some high school  free/reduced   \n",
       "8    male        group C            some high school      standard   \n",
       "9    male        group B             master's degree      standard   \n",
       "\n",
       "  test preparation course  math score  reading score  writing score  \n",
       "0                    none          74             68             67  \n",
       "1               completed          58             68             66  \n",
       "2                    none          66             65             65  \n",
       "3                    none          74             75             73  \n",
       "4                    none          78             77             71  \n",
       "5               completed          75             82             85  \n",
       "6                    none          69             78             80  \n",
       "7                    none          54             50             48  \n",
       "8               completed          65             58             55  \n",
       "9                    none          87             75             79  "
      ],
      "text/html": [
       "<div>\n",
       "<style scoped>\n",
       "    .dataframe tbody tr th:only-of-type {\n",
       "        vertical-align: middle;\n",
       "    }\n",
       "\n",
       "    .dataframe tbody tr th {\n",
       "        vertical-align: top;\n",
       "    }\n",
       "\n",
       "    .dataframe thead th {\n",
       "        text-align: right;\n",
       "    }\n",
       "</style>\n",
       "<table border=\"1\" class=\"dataframe\">\n",
       "  <thead>\n",
       "    <tr style=\"text-align: right;\">\n",
       "      <th></th>\n",
       "      <th>gender</th>\n",
       "      <th>race/ethnicity</th>\n",
       "      <th>parental level of education</th>\n",
       "      <th>lunch</th>\n",
       "      <th>test preparation course</th>\n",
       "      <th>math score</th>\n",
       "      <th>reading score</th>\n",
       "      <th>writing score</th>\n",
       "    </tr>\n",
       "  </thead>\n",
       "  <tbody>\n",
       "    <tr>\n",
       "      <th>0</th>\n",
       "      <td>male</td>\n",
       "      <td>group B</td>\n",
       "      <td>bachelor's degree</td>\n",
       "      <td>standard</td>\n",
       "      <td>none</td>\n",
       "      <td>74</td>\n",
       "      <td>68</td>\n",
       "      <td>67</td>\n",
       "    </tr>\n",
       "    <tr>\n",
       "      <th>1</th>\n",
       "      <td>female</td>\n",
       "      <td>group C</td>\n",
       "      <td>some college</td>\n",
       "      <td>standard</td>\n",
       "      <td>completed</td>\n",
       "      <td>58</td>\n",
       "      <td>68</td>\n",
       "      <td>66</td>\n",
       "    </tr>\n",
       "    <tr>\n",
       "      <th>2</th>\n",
       "      <td>male</td>\n",
       "      <td>group C</td>\n",
       "      <td>some college</td>\n",
       "      <td>free/reduced</td>\n",
       "      <td>none</td>\n",
       "      <td>66</td>\n",
       "      <td>65</td>\n",
       "      <td>65</td>\n",
       "    </tr>\n",
       "    <tr>\n",
       "      <th>3</th>\n",
       "      <td>female</td>\n",
       "      <td>group D</td>\n",
       "      <td>bachelor's degree</td>\n",
       "      <td>free/reduced</td>\n",
       "      <td>none</td>\n",
       "      <td>74</td>\n",
       "      <td>75</td>\n",
       "      <td>73</td>\n",
       "    </tr>\n",
       "    <tr>\n",
       "      <th>4</th>\n",
       "      <td>male</td>\n",
       "      <td>group D</td>\n",
       "      <td>some college</td>\n",
       "      <td>standard</td>\n",
       "      <td>none</td>\n",
       "      <td>78</td>\n",
       "      <td>77</td>\n",
       "      <td>71</td>\n",
       "    </tr>\n",
       "    <tr>\n",
       "      <th>5</th>\n",
       "      <td>female</td>\n",
       "      <td>group D</td>\n",
       "      <td>associate's degree</td>\n",
       "      <td>standard</td>\n",
       "      <td>completed</td>\n",
       "      <td>75</td>\n",
       "      <td>82</td>\n",
       "      <td>85</td>\n",
       "    </tr>\n",
       "    <tr>\n",
       "      <th>6</th>\n",
       "      <td>female</td>\n",
       "      <td>group B</td>\n",
       "      <td>associate's degree</td>\n",
       "      <td>free/reduced</td>\n",
       "      <td>none</td>\n",
       "      <td>69</td>\n",
       "      <td>78</td>\n",
       "      <td>80</td>\n",
       "    </tr>\n",
       "    <tr>\n",
       "      <th>7</th>\n",
       "      <td>male</td>\n",
       "      <td>group E</td>\n",
       "      <td>some high school</td>\n",
       "      <td>free/reduced</td>\n",
       "      <td>none</td>\n",
       "      <td>54</td>\n",
       "      <td>50</td>\n",
       "      <td>48</td>\n",
       "    </tr>\n",
       "    <tr>\n",
       "      <th>8</th>\n",
       "      <td>male</td>\n",
       "      <td>group C</td>\n",
       "      <td>some high school</td>\n",
       "      <td>standard</td>\n",
       "      <td>completed</td>\n",
       "      <td>65</td>\n",
       "      <td>58</td>\n",
       "      <td>55</td>\n",
       "    </tr>\n",
       "    <tr>\n",
       "      <th>9</th>\n",
       "      <td>male</td>\n",
       "      <td>group B</td>\n",
       "      <td>master's degree</td>\n",
       "      <td>standard</td>\n",
       "      <td>none</td>\n",
       "      <td>87</td>\n",
       "      <td>75</td>\n",
       "      <td>79</td>\n",
       "    </tr>\n",
       "  </tbody>\n",
       "</table>\n",
       "</div>"
      ]
     },
     "execution_count": 14,
     "metadata": {},
     "output_type": "execute_result"
    }
   ],
   "execution_count": 14
  },
  {
   "metadata": {
    "ExecuteTime": {
     "end_time": "2025-07-02T21:41:38.943104Z",
     "start_time": "2025-07-02T21:41:38.934577Z"
    }
   },
   "cell_type": "code",
   "source": [
    "# dtypes\n",
    "exam_scores.dtypes  # Returns the data types of each column in the DataFrame"
   ],
   "id": "c60356e6452ab1b8",
   "outputs": [
    {
     "data": {
      "text/plain": [
       "gender                         object\n",
       "race/ethnicity                 object\n",
       "parental level of education    object\n",
       "lunch                          object\n",
       "test preparation course        object\n",
       "math score                      int64\n",
       "reading score                   int64\n",
       "writing score                   int64\n",
       "dtype: object"
      ]
     },
     "execution_count": 15,
     "metadata": {},
     "output_type": "execute_result"
    }
   ],
   "execution_count": 15
  },
  {
   "metadata": {
    "ExecuteTime": {
     "end_time": "2025-07-02T21:41:57.830097Z",
     "start_time": "2025-07-02T21:41:57.817088Z"
    }
   },
   "cell_type": "code",
   "source": [
    "# info( ) method  info()方法\n",
    "exam_scores.info()  # Returns a summary of the DataFrame, including the number of non-null values and data types"
   ],
   "id": "9ba43e4c1abd2a24",
   "outputs": [
    {
     "name": "stdout",
     "output_type": "stream",
     "text": [
      "<class 'pandas.core.frame.DataFrame'>\n",
      "RangeIndex: 1000 entries, 0 to 999\n",
      "Data columns (total 8 columns):\n",
      " #   Column                       Non-Null Count  Dtype \n",
      "---  ------                       --------------  ----- \n",
      " 0   gender                       1000 non-null   object\n",
      " 1   race/ethnicity               1000 non-null   object\n",
      " 2   parental level of education  1000 non-null   object\n",
      " 3   lunch                        1000 non-null   object\n",
      " 4   test preparation course      1000 non-null   object\n",
      " 5   math score                   1000 non-null   int64 \n",
      " 6   reading score                1000 non-null   int64 \n",
      " 7   writing score                1000 non-null   int64 \n",
      "dtypes: int64(3), object(5)\n",
      "memory usage: 62.6+ KB\n"
     ]
    }
   ],
   "execution_count": 16
  },
  {
   "metadata": {},
   "cell_type": "markdown",
   "source": "## 3. Exercise  练习",
   "id": "cd4a5130513aa8be"
  },
  {
   "metadata": {
    "ExecuteTime": {
     "end_time": "2025-07-02T21:45:36.365788Z",
     "start_time": "2025-07-02T21:45:36.358806Z"
    }
   },
   "cell_type": "code",
   "source": "sma_data = pd.read_csv('data/Standard_Metropolitan_Areas_Data-data.csv')",
   "id": "b976e4ad03ebdc71",
   "outputs": [],
   "execution_count": 22
  },
  {
   "metadata": {
    "ExecuteTime": {
     "end_time": "2025-07-02T21:45:40.284151Z",
     "start_time": "2025-07-02T21:45:40.278203Z"
    }
   },
   "cell_type": "code",
   "source": "sma_data.shape  # Returns the shape of the DataFrame",
   "id": "cceee4ce21c41fa2",
   "outputs": [
    {
     "data": {
      "text/plain": [
       "(99, 10)"
      ]
     },
     "execution_count": 23,
     "metadata": {},
     "output_type": "execute_result"
    }
   ],
   "execution_count": 23
  },
  {
   "metadata": {
    "ExecuteTime": {
     "end_time": "2025-07-02T21:46:05.833787Z",
     "start_time": "2025-07-02T21:46:05.822285Z"
    }
   },
   "cell_type": "code",
   "source": "sma_data.info()",
   "id": "73016afb84da8b3b",
   "outputs": [
    {
     "name": "stdout",
     "output_type": "stream",
     "text": [
      "<class 'pandas.core.frame.DataFrame'>\n",
      "RangeIndex: 99 entries, 0 to 98\n",
      "Data columns (total 10 columns):\n",
      " #   Column          Non-Null Count  Dtype  \n",
      "---  ------          --------------  -----  \n",
      " 0   land_area       99 non-null     int64  \n",
      " 1   percent_city    99 non-null     float64\n",
      " 2   percent_senior  99 non-null     float64\n",
      " 3   physicians      99 non-null     int64  \n",
      " 4   hospital_beds   99 non-null     int64  \n",
      " 5   graduates       99 non-null     float64\n",
      " 6   work_force      99 non-null     float64\n",
      " 7   income          99 non-null     int64  \n",
      " 8   region          99 non-null     int64  \n",
      " 9   crime_rate      99 non-null     float64\n",
      "dtypes: float64(5), int64(5)\n",
      "memory usage: 7.9 KB\n"
     ]
    }
   ],
   "execution_count": 25
  }
 ],
 "metadata": {
  "kernelspec": {
   "display_name": "Python 3",
   "language": "python",
   "name": "python3"
  },
  "language_info": {
   "codemirror_mode": {
    "name": "ipython",
    "version": 2
   },
   "file_extension": ".py",
   "mimetype": "text/x-python",
   "name": "python",
   "nbconvert_exporter": "python",
   "pygments_lexer": "ipython2",
   "version": "2.7.6"
  }
 },
 "nbformat": 4,
 "nbformat_minor": 5
}
