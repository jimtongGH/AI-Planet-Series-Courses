{
 "cells": [
  {
   "metadata": {},
   "cell_type": "markdown",
   "source": "# Conditional Statements & Loops",
   "id": "1fec0eee88393667"
  },
  {
   "metadata": {},
   "cell_type": "markdown",
   "source": "## 1. Conditional Statements",
   "id": "41224197680c4890"
  },
  {
   "metadata": {
    "ExecuteTime": {
     "end_time": "2025-07-05T09:20:19.596253Z",
     "start_time": "2025-07-05T09:20:19.585892Z"
    }
   },
   "cell_type": "code",
   "source": [
    "# if statement\n",
    "x = 10\n",
    "if x > 5:\n",
    "    print(\"x is greater than 5\")"
   ],
   "id": "aee3e2895e3f759b",
   "outputs": [
    {
     "name": "stdout",
     "output_type": "stream",
     "text": [
      "x is greater than 5\n"
     ]
    }
   ],
   "execution_count": 1
  },
  {
   "metadata": {
    "ExecuteTime": {
     "end_time": "2025-07-05T09:20:45.751808Z",
     "start_time": "2025-07-05T09:20:45.747086Z"
    }
   },
   "cell_type": "code",
   "source": [
    "# if-else statement\n",
    "x = 3\n",
    "if x > 5:\n",
    "    print(\"x is greater than 5\")\n",
    "else:\n",
    "    print(\"x is not greater than 5\")"
   ],
   "id": "997f5d663cb4f4d2",
   "outputs": [
    {
     "name": "stdout",
     "output_type": "stream",
     "text": [
      "x is not greater than 5\n"
     ]
    }
   ],
   "execution_count": 2
  },
  {
   "metadata": {
    "ExecuteTime": {
     "end_time": "2025-07-05T09:21:11.758406Z",
     "start_time": "2025-07-05T09:21:11.752648Z"
    }
   },
   "cell_type": "code",
   "source": [
    "# if-elif-else statement\n",
    "x = 7\n",
    "if x > 10:\n",
    "    print(\"x is greater than 10\")\n",
    "elif x > 5:\n",
    "    print(\"x is greater than 5 but less than or equal to 10\")\n",
    "else:\n",
    "    print(\"x is 5 or less\")"
   ],
   "id": "9dd48d6077c271c4",
   "outputs": [
    {
     "name": "stdout",
     "output_type": "stream",
     "text": [
      "x is greater than 5 but less than or equal to 10\n"
     ]
    }
   ],
   "execution_count": 3
  },
  {
   "metadata": {
    "ExecuteTime": {
     "end_time": "2025-07-05T09:23:34.794467Z",
     "start_time": "2025-07-05T09:23:34.788921Z"
    }
   },
   "cell_type": "code",
   "source": [
    "x = 0\n",
    "a = 0\n",
    "b = -5\n",
    "if a > 0:\n",
    "  if b < 0:\n",
    "    x = x + 5\n",
    "  elif a > 5:\n",
    "    x = x + 4\n",
    "  else:\n",
    "    x = x + 3\n",
    "else:\n",
    "  x = x + 2\n",
    "print(x)"
   ],
   "id": "1b2e8c7f0faf8d2b",
   "outputs": [
    {
     "name": "stdout",
     "output_type": "stream",
     "text": [
      "2\n"
     ]
    }
   ],
   "execution_count": 4
  },
  {
   "metadata": {
    "ExecuteTime": {
     "end_time": "2025-07-05T09:23:48.337767Z",
     "start_time": "2025-07-05T09:23:48.333014Z"
    }
   },
   "cell_type": "code",
   "source": [
    "def bar( z ):\n",
    "  i = 1\n",
    "  while ( i <= z ):\n",
    "    i *= 2\n",
    "  return i\n",
    "  print (i)\n",
    "print (bar( 7 ))"
   ],
   "id": "73f02d86f1360342",
   "outputs": [
    {
     "name": "stdout",
     "output_type": "stream",
     "text": [
      "8\n"
     ]
    }
   ],
   "execution_count": 5
  },
  {
   "metadata": {},
   "cell_type": "markdown",
   "source": "## 2. Loops",
   "id": "9b64c43ee13dea32"
  },
  {
   "metadata": {},
   "cell_type": "markdown",
   "source": "### a. For Loops",
   "id": "149f8e67b93cf6fb"
  },
  {
   "metadata": {
    "ExecuteTime": {
     "end_time": "2025-07-05T09:25:35.990753Z",
     "start_time": "2025-07-05T09:25:35.984638Z"
    }
   },
   "cell_type": "code",
   "source": [
    "# for loop\n",
    "# Looping through a List\n",
    "fam_heights = [1.73, 1.68, 1.75, 1.80]\n",
    "for height in fam_heights:\n",
    "    print(f\"Family member height: {height} m\")"
   ],
   "id": "dc553c0cef43a89",
   "outputs": [
    {
     "name": "stdout",
     "output_type": "stream",
     "text": [
      "Family member height: 1.73 m\n",
      "Family member height: 1.68 m\n",
      "Family member height: 1.75 m\n",
      "Family member height: 1.8 m\n"
     ]
    }
   ],
   "execution_count": 6
  },
  {
   "metadata": {
    "ExecuteTime": {
     "end_time": "2025-07-05T09:30:11.208763Z",
     "start_time": "2025-07-05T09:30:11.203722Z"
    }
   },
   "cell_type": "code",
   "source": [
    "# Looping through a String\n",
    "for i in \"Apple\":\n",
    "    print(i.capitalize())"
   ],
   "id": "d1ca1b3e5a182027",
   "outputs": [
    {
     "name": "stdout",
     "output_type": "stream",
     "text": [
      "A\n",
      "P\n",
      "P\n",
      "L\n",
      "E\n"
     ]
    }
   ],
   "execution_count": 8
  },
  {
   "metadata": {
    "ExecuteTime": {
     "end_time": "2025-07-05T09:32:30.521671Z",
     "start_time": "2025-07-05T09:32:30.516561Z"
    }
   },
   "cell_type": "code",
   "source": [
    "# Enumerate  枚举\n",
    "# Looping through a List with Index\n",
    "for index, height in enumerate(fam_heights):\n",
    "    print(\"index: \", str(index) + \": \", str(height) + \" m\")"
   ],
   "id": "e9b646e7d6280c64",
   "outputs": [
    {
     "name": "stdout",
     "output_type": "stream",
     "text": [
      "index:  0:  1.73 m\n",
      "index:  1:  1.68 m\n",
      "index:  2:  1.75 m\n",
      "index:  3:  1.8 m\n"
     ]
    }
   ],
   "execution_count": 13
  },
  {
   "metadata": {},
   "cell_type": "markdown",
   "source": "### b. While Loops",
   "id": "602a568aee095fe8"
  },
  {
   "metadata": {
    "ExecuteTime": {
     "end_time": "2025-07-05T09:34:23.754473Z",
     "start_time": "2025-07-05T09:34:23.748048Z"
    }
   },
   "cell_type": "code",
   "source": [
    "x = 0\n",
    "while x < 5:\n",
    "    print(x)\n",
    "    x += 1"
   ],
   "id": "331d8b17406d2682",
   "outputs": [
    {
     "name": "stdout",
     "output_type": "stream",
     "text": [
      "0\n",
      "1\n",
      "2\n",
      "3\n",
      "4\n"
     ]
    }
   ],
   "execution_count": 14
  },
  {
   "metadata": {},
   "cell_type": "markdown",
   "source": [
    "### c. Range function  范围函数\n",
    "- range() takes mainly three arguments:  range() 主要接受三个参数：\n",
    "    - A start argument is a starting number of the sequence. i.e., lower limit. By default, it starts with 0 if not specified.  start 参数是序列的起始数字。即下限。如果未指定，默认从 0 开始。\n",
    "    - A stop argument is an upper limit. i.e., generate numbers up to this number. The range() doesn't include this number in the result.  stop 参数是一个上限。即，生成到这个数字的数。range() 不会将这个数字包含在结果中。\n",
    "    - The step is a difference between each number in the result. The default value of the step is one if not specified.  步长是结果中每个数字之间的差值。如果未指定，步长的默认值为 1。"
   ],
   "id": "7b8340bceddb5bd8"
  },
  {
   "metadata": {
    "ExecuteTime": {
     "end_time": "2025-07-05T09:36:44.438262Z",
     "start_time": "2025-07-05T09:36:44.433339Z"
    }
   },
   "cell_type": "code",
   "source": [
    "for i in range(5):\n",
    "    print(i, end=\", \")"
   ],
   "id": "a300baa0c38ebc8a",
   "outputs": [
    {
     "name": "stdout",
     "output_type": "stream",
     "text": [
      "0, 1, 2, 3, 4, "
     ]
    }
   ],
   "execution_count": 15
  },
  {
   "metadata": {
    "ExecuteTime": {
     "end_time": "2025-07-05T09:37:29.808912Z",
     "start_time": "2025-07-05T09:37:29.803967Z"
    }
   },
   "cell_type": "code",
   "source": [
    "for i in range(5, 10):\n",
    "    print(i, end=\", \")"
   ],
   "id": "928823b010b27b2d",
   "outputs": [
    {
     "name": "stdout",
     "output_type": "stream",
     "text": [
      "5, 6, 7, 8, 9, "
     ]
    }
   ],
   "execution_count": 16
  },
  {
   "metadata": {
    "ExecuteTime": {
     "end_time": "2025-07-05T09:37:42.989053Z",
     "start_time": "2025-07-05T09:37:42.983999Z"
    }
   },
   "cell_type": "code",
   "source": [
    "for i in range(5, 20, 3):\n",
    "    print(i, end=\", \")"
   ],
   "id": "7fa928e57e7e6105",
   "outputs": [
    {
     "name": "stdout",
     "output_type": "stream",
     "text": [
      "5, 8, 11, 14, 17, "
     ]
    }
   ],
   "execution_count": 17
  },
  {
   "metadata": {},
   "cell_type": "markdown",
   "source": "### d. Break & Continue Keywords  break 和 continue 关键字",
   "id": "92b311cbdda3ab8b"
  },
  {
   "metadata": {
    "ExecuteTime": {
     "end_time": "2025-07-05T09:38:51.969201Z",
     "start_time": "2025-07-05T09:38:51.963795Z"
    }
   },
   "cell_type": "code",
   "source": [
    "# for loop with break\n",
    "numbers = [1, 2, 3, 4, 5, 6, 7, 8, 9]\n",
    "for number in numbers:\n",
    "    if number % 2 == 0:\n",
    "        print(number)\n",
    "        break"
   ],
   "id": "691f545fcc146496",
   "outputs": [
    {
     "name": "stdout",
     "output_type": "stream",
     "text": [
      "2\n"
     ]
    }
   ],
   "execution_count": 18
  },
  {
   "metadata": {
    "ExecuteTime": {
     "end_time": "2025-07-05T09:39:52.450793Z",
     "start_time": "2025-07-05T09:39:52.445117Z"
    }
   },
   "cell_type": "code",
   "source": [
    "# while loop with break\n",
    "i = 0\n",
    "while i < 10:\n",
    "    print(i)\n",
    "    if i == 5:\n",
    "        break\n",
    "    i += 1"
   ],
   "id": "71efbb7714e35e86",
   "outputs": [
    {
     "name": "stdout",
     "output_type": "stream",
     "text": [
      "0\n",
      "1\n",
      "2\n",
      "3\n",
      "4\n",
      "5\n"
     ]
    }
   ],
   "execution_count": 20
  },
  {
   "metadata": {
    "ExecuteTime": {
     "end_time": "2025-07-05T09:40:59.661534Z",
     "start_time": "2025-07-05T09:40:59.653864Z"
    }
   },
   "cell_type": "code",
   "source": [
    "# continue in for loop\n",
    "numbers = [1, 2, 3, 4, 5, 6, 8]\n",
    "for number in numbers:\n",
    "    if number % 2 == 0:\n",
    "        continue\n",
    "    print(number)"
   ],
   "id": "ea1fe48c9e3c8c85",
   "outputs": [
    {
     "name": "stdout",
     "output_type": "stream",
     "text": [
      "1\n",
      "3\n",
      "5\n"
     ]
    }
   ],
   "execution_count": 21
  },
  {
   "metadata": {
    "ExecuteTime": {
     "end_time": "2025-07-05T09:41:25.300165Z",
     "start_time": "2025-07-05T09:41:25.294677Z"
    }
   },
   "cell_type": "code",
   "source": [
    "# continue in while loop\n",
    "i = 0\n",
    "while i < 10:\n",
    "    i += 1\n",
    "    if i % 2 == 0:\n",
    "        continue\n",
    "    print(i)"
   ],
   "id": "203fa8aac9096f0f",
   "outputs": [
    {
     "name": "stdout",
     "output_type": "stream",
     "text": [
      "1\n",
      "3\n",
      "5\n",
      "7\n",
      "9\n"
     ]
    }
   ],
   "execution_count": 22
  },
  {
   "metadata": {},
   "cell_type": "markdown",
   "source": "## 3. Exercise",
   "id": "cfbe88fddf9bc751"
  },
  {
   "metadata": {
    "ExecuteTime": {
     "end_time": "2025-07-05T09:41:54.401537Z",
     "start_time": "2025-07-05T09:41:54.396630Z"
    }
   },
   "cell_type": "code",
   "source": [
    "i = 0\n",
    "while i < 3:\n",
    "  print('DPhi')\n",
    "  i = i+1"
   ],
   "id": "cd080f1d2cace154",
   "outputs": [
    {
     "name": "stdout",
     "output_type": "stream",
     "text": [
      "DPhi\n",
      "DPhi\n",
      "DPhi\n"
     ]
    }
   ],
   "execution_count": 23
  },
  {
   "metadata": {
    "ExecuteTime": {
     "end_time": "2025-07-05T09:42:59.337507Z",
     "start_time": "2025-07-05T09:42:59.332191Z"
    }
   },
   "cell_type": "code",
   "source": [
    "x = ['data', 'science']\n",
    "for i in x:\n",
    "    i.upper()\n",
    "    print(i.upper())# This line does not change the original list\n",
    "print(x)"
   ],
   "id": "bfccefaec7f84317",
   "outputs": [
    {
     "name": "stdout",
     "output_type": "stream",
     "text": [
      "DATA\n",
      "SCIENCE\n",
      "['data', 'science']\n"
     ]
    }
   ],
   "execution_count": 26
  },
  {
   "metadata": {
    "ExecuteTime": {
     "end_time": "2025-07-05T09:43:16.370472Z",
     "start_time": "2025-07-05T09:43:16.365044Z"
    }
   },
   "cell_type": "code",
   "source": [
    "x = 'datascience'\n",
    "for i in x:\n",
    "    print(i.upper())"
   ],
   "id": "d67f8922d9979371",
   "outputs": [
    {
     "name": "stdout",
     "output_type": "stream",
     "text": [
      "D\n",
      "A\n",
      "T\n",
      "A\n",
      "S\n",
      "C\n",
      "I\n",
      "E\n",
      "N\n",
      "C\n",
      "E\n"
     ]
    }
   ],
   "execution_count": 27
  },
  {
   "metadata": {
    "ExecuteTime": {
     "end_time": "2025-07-05T09:44:04.835968Z",
     "start_time": "2025-07-05T09:44:04.829346Z"
    }
   },
   "cell_type": "code",
   "source": [
    "x = 0\n",
    "while x < 100:\n",
    "    x += 2\n",
    "print(x)"
   ],
   "id": "1e4732cf8fed23fc",
   "outputs": [
    {
     "name": "stdout",
     "output_type": "stream",
     "text": [
      "100\n"
     ]
    }
   ],
   "execution_count": 28
  },
  {
   "metadata": {
    "ExecuteTime": {
     "end_time": "2025-07-05T09:44:15.730699Z",
     "start_time": "2025-07-05T09:44:15.724711Z"
    }
   },
   "cell_type": "code",
   "source": [
    "for num in range(2,-5,-1):\n",
    "  print(num, end = \",\")"
   ],
   "id": "a2ef3138cc839b9a",
   "outputs": [
    {
     "name": "stdout",
     "output_type": "stream",
     "text": [
      "2,1,0,-1,-2,-3,-4,"
     ]
    }
   ],
   "execution_count": 29
  },
  {
   "metadata": {
    "ExecuteTime": {
     "end_time": "2025-07-05T09:44:26.821030Z",
     "start_time": "2025-07-05T09:44:26.814274Z"
    }
   },
   "cell_type": "code",
   "source": [
    "numbers = [10, 20]\n",
    "items = [\"Chair\", \"Table\"]\n",
    "\n",
    "for x in numbers:\n",
    "  for y in items:\n",
    "    print(x, y)"
   ],
   "id": "8a17ed66c9fe4e46",
   "outputs": [
    {
     "name": "stdout",
     "output_type": "stream",
     "text": [
      "10 Chair\n",
      "10 Table\n",
      "20 Chair\n",
      "20 Table\n"
     ]
    }
   ],
   "execution_count": 30
  },
  {
   "metadata": {
    "ExecuteTime": {
     "end_time": "2025-07-05T09:46:07.859123Z",
     "start_time": "2025-07-05T09:46:07.854294Z"
    }
   },
   "cell_type": "code",
   "source": [
    "for num in range(10, 14):\n",
    "    for i  in range(2, num):\n",
    "        if num % i == 1:\n",
    "            print(num)\n",
    "            break"
   ],
   "id": "b0a5e75fb91e529d",
   "outputs": [
    {
     "name": "stdout",
     "output_type": "stream",
     "text": [
      "10\n",
      "11\n",
      "12\n",
      "13\n"
     ]
    }
   ],
   "execution_count": 31
  },
  {
   "metadata": {
    "ExecuteTime": {
     "end_time": "2025-07-05T09:46:18.019283Z",
     "start_time": "2025-07-05T09:46:18.011140Z"
    }
   },
   "cell_type": "code",
   "source": [
    "dphi = 10\n",
    "for i in range(10):\n",
    "    for j in range(2, 10, 1):\n",
    "        if dphi % 2 == 0:\n",
    "            continue\n",
    "            dphi += 1\n",
    "    dphi+=1\n",
    "else:\n",
    "    dphi+=1\n",
    "print(dphi)"
   ],
   "id": "ddcdadb25e997b02",
   "outputs": [
    {
     "name": "stdout",
     "output_type": "stream",
     "text": [
      "21\n"
     ]
    }
   ],
   "execution_count": 32
  },
  {
   "metadata": {
    "ExecuteTime": {
     "end_time": "2025-07-05T09:48:02.327693Z",
     "start_time": "2025-07-05T09:48:02.322004Z"
    }
   },
   "cell_type": "code",
   "source": [
    "datathons = ['data sprint #1', 'data sprint #2', 'data sprint #3', 'data sprint #4', 'data sprint #5', 'data sprint #6']\n",
    "print(list(enumerate(datathons)))"
   ],
   "id": "5beab667a5aab5ea",
   "outputs": [
    {
     "name": "stdout",
     "output_type": "stream",
     "text": [
      "[(0, 'data sprint #1'), (1, 'data sprint #2'), (2, 'data sprint #3'), (3, 'data sprint #4'), (4, 'data sprint #5'), (5, 'data sprint #6')]\n"
     ]
    }
   ],
   "execution_count": 35
  }
 ],
 "metadata": {
  "kernelspec": {
   "display_name": "Python 3",
   "language": "python",
   "name": "python3"
  },
  "language_info": {
   "codemirror_mode": {
    "name": "ipython",
    "version": 2
   },
   "file_extension": ".py",
   "mimetype": "text/x-python",
   "name": "python",
   "nbconvert_exporter": "python",
   "pygments_lexer": "ipython2",
   "version": "2.7.6"
  }
 },
 "nbformat": 4,
 "nbformat_minor": 5
}
