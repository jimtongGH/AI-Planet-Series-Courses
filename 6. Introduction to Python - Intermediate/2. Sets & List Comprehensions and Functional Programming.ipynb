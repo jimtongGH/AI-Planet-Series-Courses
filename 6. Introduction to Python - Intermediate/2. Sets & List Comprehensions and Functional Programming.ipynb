{
 "cells": [
  {
   "metadata": {},
   "cell_type": "markdown",
   "source": "# 4. Sets & List Comprehensions and Functional Programming",
   "id": "b8d8b5677cf7aed4"
  },
  {
   "metadata": {},
   "cell_type": "markdown",
   "source": [
    "## 1. Sets\n",
    "- A set is a collection of elements/things  集合是一组元素/事物的集合\n",
    "- A set contains all unique elements  一个集合包含所有唯一元素"
   ],
   "id": "f9239868146df653"
  },
  {
   "metadata": {},
   "cell_type": "markdown",
   "source": "### a. Introduction to Sets",
   "id": "cd597494a0403dd8"
  },
  {
   "metadata": {
    "ExecuteTime": {
     "end_time": "2025-07-05T10:19:38.461553Z",
     "start_time": "2025-07-05T10:19:38.455953Z"
    }
   },
   "cell_type": "code",
   "source": [
    "s = {'apple', 'banana', 'cherry', 'durian', 'aiple'}\n",
    "print(s)"
   ],
   "id": "2dcb818445b604dd",
   "outputs": [
    {
     "name": "stdout",
     "output_type": "stream",
     "text": [
      "{'apple', 'durian', 'banana', 'aiple', 'cherry'}\n"
     ]
    }
   ],
   "execution_count": 3
  },
  {
   "metadata": {
    "ExecuteTime": {
     "end_time": "2025-07-05T10:19:41.776189Z",
     "start_time": "2025-07-05T10:19:41.769564Z"
    }
   },
   "cell_type": "code",
   "source": [
    "# 集合无序\n",
    "s"
   ],
   "id": "49bc05801fb0e07d",
   "outputs": [
    {
     "data": {
      "text/plain": [
       "{'aiple', 'apple', 'banana', 'cherry', 'durian'}"
      ]
     },
     "execution_count": 4,
     "metadata": {},
     "output_type": "execute_result"
    }
   ],
   "execution_count": 4
  },
  {
   "metadata": {},
   "cell_type": "code",
   "outputs": [],
   "execution_count": null,
   "source": [
    "# Accessing Items of a Set in Python\n",
    "# 访问 Python 中的集合元素\n",
    "print(s[0])  # This will raise an error because sets are unordered"
   ],
   "id": "72ffb201503068a3"
  },
  {
   "metadata": {
    "ExecuteTime": {
     "end_time": "2025-07-05T10:21:06.716130Z",
     "start_time": "2025-07-05T10:21:06.711050Z"
    }
   },
   "cell_type": "code",
   "source": [
    "for item in s:\n",
    "    print(item)  # This will print each item in the set"
   ],
   "id": "9bcb0ae1dbc6e29b",
   "outputs": [
    {
     "name": "stdout",
     "output_type": "stream",
     "text": [
      "apple\n",
      "durian\n",
      "banana\n",
      "aiple\n",
      "cherry\n"
     ]
    }
   ],
   "execution_count": 5
  },
  {
   "metadata": {
    "ExecuteTime": {
     "end_time": "2025-07-05T10:21:33.883970Z",
     "start_time": "2025-07-05T10:21:33.878412Z"
    }
   },
   "cell_type": "code",
   "source": [
    "# 访问特定item\n",
    "for item in s:\n",
    "    if 'banana' in item:\n",
    "        print(item)  # This will print 'banana' if it exists in the set"
   ],
   "id": "aa2170daaeabc6dc",
   "outputs": [
    {
     "name": "stdout",
     "output_type": "stream",
     "text": [
      "banana\n"
     ]
    }
   ],
   "execution_count": 6
  },
  {
   "metadata": {},
   "cell_type": "markdown",
   "source": "### b. Changing the Items of a Set",
   "id": "33ca07a313b7b08f"
  },
  {
   "metadata": {
    "ExecuteTime": {
     "end_time": "2025-07-05T10:22:55.815473Z",
     "start_time": "2025-07-05T10:22:55.809736Z"
    }
   },
   "cell_type": "code",
   "source": [
    "# add(): Used to add one item at a time in a set.\n",
    "# add(): 用于在集合中一次添加一个项目。\n",
    "s.add('kiwi')  # 添加元素\n",
    "s"
   ],
   "id": "839eda2fa64b1f2d",
   "outputs": [
    {
     "data": {
      "text/plain": [
       "{'aiple', 'apple', 'banana', 'cherry', 'durian', 'kiwi'}"
      ]
     },
     "execution_count": 7,
     "metadata": {},
     "output_type": "execute_result"
    }
   ],
   "execution_count": 7
  },
  {
   "metadata": {
    "ExecuteTime": {
     "end_time": "2025-07-05T10:23:30.185537Z",
     "start_time": "2025-07-05T10:23:30.178824Z"
    }
   },
   "cell_type": "code",
   "source": [
    "# update(): Used to add multiple items at once in a set.\n",
    "# update(): 用于一次添加多个项目到集合中。\n",
    "s.update(['orange', 'grape', 'mango'])  # 添加多个元素\n",
    "s"
   ],
   "id": "b307a3c4216438e8",
   "outputs": [
    {
     "data": {
      "text/plain": [
       "{'aiple',\n",
       " 'apple',\n",
       " 'banana',\n",
       " 'cherry',\n",
       " 'durian',\n",
       " 'grape',\n",
       " 'kiwi',\n",
       " 'mango',\n",
       " 'orange'}"
      ]
     },
     "execution_count": 8,
     "metadata": {},
     "output_type": "execute_result"
    }
   ],
   "execution_count": 8
  },
  {
   "metadata": {
    "ExecuteTime": {
     "end_time": "2025-07-05T10:23:59.596044Z",
     "start_time": "2025-07-05T10:23:59.589817Z"
    }
   },
   "cell_type": "code",
   "source": [
    "# remove(): Used to remove a specific item from a set.\n",
    "# remove(): 用于从集合中删除特定项目。\n",
    "s.remove('banana')  # 删除元素\n",
    "s"
   ],
   "id": "82dd9ea2d6ef4d1b",
   "outputs": [
    {
     "data": {
      "text/plain": [
       "{'aiple', 'apple', 'cherry', 'durian', 'grape', 'kiwi', 'mango', 'orange'}"
      ]
     },
     "execution_count": 9,
     "metadata": {},
     "output_type": "execute_result"
    }
   ],
   "execution_count": 9
  },
  {
   "metadata": {
    "ExecuteTime": {
     "end_time": "2025-07-05T10:25:02.615360Z",
     "start_time": "2025-07-05T10:25:02.611896Z"
    }
   },
   "cell_type": "code",
   "source": [
    "# discard(): Similar to remove(), but does not raise an error if the item is not found.\n",
    "# discard(): 类似于 remove()，但如果未找到项目，则不会引发错误。\n",
    "# s.remove('banana')  # 尝试删除一个不存在的元素, # will raise an error\n",
    "s.discard('banana')  # 尝试删除一个不存在的元素, 不会引发错误"
   ],
   "id": "9b4ca1088addbab8",
   "outputs": [],
   "execution_count": 11
  },
  {
   "metadata": {
    "ExecuteTime": {
     "end_time": "2025-07-05T10:25:34.464295Z",
     "start_time": "2025-07-05T10:25:34.457707Z"
    }
   },
   "cell_type": "code",
   "source": [
    "# Getting The Length Of A Set\n",
    "# 获取集合的长度\n",
    "len(s)  # 返回集合中元素的数量"
   ],
   "id": "6a0d624d403a5ed5",
   "outputs": [
    {
     "data": {
      "text/plain": [
       "8"
      ]
     },
     "execution_count": 12,
     "metadata": {},
     "output_type": "execute_result"
    }
   ],
   "execution_count": 12
  },
  {
   "metadata": {},
   "cell_type": "code",
   "outputs": [],
   "execution_count": null,
   "source": [
    "# Joining Two Sets  合并两个集合\n",
    "# 1.update() method helps you add the items of one set to another.\n",
    "# 1.update() 方法可以帮助你将一个集合中的元素添加到另一个集合中。\n",
    "# 2.union() method returns a new set containing all items appearing in either one set, the other, or both sets.\n",
    "# 2.union() 方法返回一个新集合，其中包含出现在任一集合、另一集合或两个集合中的所有元素。\n",
    "# 3.intersection() method returns a new set containing all the common elements in the two sets.\n",
    "# 3.intersection() 方法返回一个新集合，其中包含两个集合中的所有公共元素。"
   ],
   "id": "aceba165abed161f"
  },
  {
   "metadata": {
    "ExecuteTime": {
     "end_time": "2025-07-05T10:26:49.598950Z",
     "start_time": "2025-07-05T10:26:49.592471Z"
    }
   },
   "cell_type": "code",
   "source": [
    "s1 = {'apple', 'banana', 'cherry'}\n",
    "s2 = {1, 2, 3}\n",
    "\n",
    "# Using update() to join two sets\n",
    "s1.update(s2)  # 将 s2 的元素添加到 s1\n",
    "s1"
   ],
   "id": "8560afb4e46b3830",
   "outputs": [
    {
     "data": {
      "text/plain": [
       "{1, 2, 3, 'apple', 'banana', 'cherry'}"
      ]
     },
     "execution_count": 13,
     "metadata": {},
     "output_type": "execute_result"
    }
   ],
   "execution_count": 13
  },
  {
   "metadata": {
    "ExecuteTime": {
     "end_time": "2025-07-05T10:27:57.003675Z",
     "start_time": "2025-07-05T10:27:56.996265Z"
    }
   },
   "cell_type": "code",
   "source": [
    "# Using union() method to join two sets\n",
    "# union() 方法用于合并两个集合\n",
    "s3 = s1.union(s2) # 使用 union() 方法合并两个集合\n",
    "s3"
   ],
   "id": "886a39817e74d6ad",
   "outputs": [
    {
     "data": {
      "text/plain": [
       "{1, 2, 3, 'apple', 'banana', 'cherry'}"
      ]
     },
     "execution_count": 16,
     "metadata": {},
     "output_type": "execute_result"
    }
   ],
   "execution_count": 16
  },
  {
   "metadata": {
    "ExecuteTime": {
     "end_time": "2025-07-05T10:29:43.740755Z",
     "start_time": "2025-07-05T10:29:43.733235Z"
    }
   },
   "cell_type": "code",
   "source": [
    "S1 = {1, 1, 2, 5, 4, 3, 3}\n",
    "S2 = {2, 2, 3, 1, 5, 6, 7}\n",
    "S3 = S1 | S2 # 和 union() 方法类似, 使用 | 运算符合并两个集合\n",
    "S3  # 使用 | 运算符合并两个集合, 会自动去重"
   ],
   "id": "d7716c186423794c",
   "outputs": [
    {
     "data": {
      "text/plain": [
       "{1, 2, 3, 4, 5, 6, 7}"
      ]
     },
     "execution_count": 18,
     "metadata": {},
     "output_type": "execute_result"
    }
   ],
   "execution_count": 18
  },
  {
   "metadata": {
    "ExecuteTime": {
     "end_time": "2025-07-05T10:30:20.536469Z",
     "start_time": "2025-07-05T10:30:20.528639Z"
    }
   },
   "cell_type": "code",
   "source": [
    "# intersection() 方法\n",
    "S4 = S1.intersection(S2)  # 获取两个集合的交集，也可用&运算符\n",
    "S4  # 返回一个新集合，其中包含两个集合中的所有公共元素"
   ],
   "id": "d15295a197f46e1d",
   "outputs": [
    {
     "data": {
      "text/plain": [
       "{1, 2, 3, 5}"
      ]
     },
     "execution_count": 19,
     "metadata": {},
     "output_type": "execute_result"
    }
   ],
   "execution_count": 19
  },
  {
   "metadata": {
    "ExecuteTime": {
     "end_time": "2025-07-05T10:35:37.207477Z",
     "start_time": "2025-07-05T10:35:37.202027Z"
    }
   },
   "cell_type": "code",
   "source": "S1",
   "id": "d529b203ac048a62",
   "outputs": [
    {
     "data": {
      "text/plain": [
       "{1, 2, 3, 4, 5}"
      ]
     },
     "execution_count": 20,
     "metadata": {},
     "output_type": "execute_result"
    }
   ],
   "execution_count": 20
  },
  {
   "metadata": {
    "ExecuteTime": {
     "end_time": "2025-07-05T10:40:05.274516Z",
     "start_time": "2025-07-05T10:40:05.269580Z"
    }
   },
   "cell_type": "code",
   "source": [
    "bootcamp = {2}\n",
    "bootcamp1 = {'dphi', 'data', 'science', 'bootcamp'}\n",
    "bootcamp2 = {'dphi', 'deep', 'learning', 'bootcamp'}\n",
    "bootcamps = bootcamp1.union(bootcamp2)\n",
    "bc = bootcamp.union(bootcamps)\n",
    "print(bc)"
   ],
   "id": "916f202d94c71c4d",
   "outputs": [
    {
     "name": "stdout",
     "output_type": "stream",
     "text": [
      "{2, 'bootcamp', 'science', 'data', 'learning', 'deep', 'dphi'}\n"
     ]
    }
   ],
   "execution_count": 21
  },
  {
   "metadata": {
    "ExecuteTime": {
     "end_time": "2025-07-05T10:40:36.225651Z",
     "start_time": "2025-07-05T10:40:36.220815Z"
    }
   },
   "cell_type": "code",
   "source": [
    "courses = {'Python Beginners', 'NumPy', 'Pandas', 'Matplotlib', 'EDA'}\n",
    "courses.update(['Python Intermediate', 'Maths'])\n",
    "print(courses)"
   ],
   "id": "654b9b5cf8a8d8c4",
   "outputs": [
    {
     "name": "stdout",
     "output_type": "stream",
     "text": [
      "{'Pandas', 'Maths', 'Matplotlib', 'EDA', 'Python Intermediate', 'NumPy', 'Python Beginners'}\n"
     ]
    }
   ],
   "execution_count": 22
  },
  {
   "metadata": {},
   "cell_type": "markdown",
   "source": [
    "## 2. List Comprehensions 列表推导式\n",
    "- Comprehensions are generally faster than normal functions and for loops.  推导式通常比普通函数和 for 循环更快。\n",
    "- Syntax; [ 'output expression' 'for value in list' 'filtering conditions' ]  [ '输出表达式' 'for 值 in 列表' '过滤条件' ]"
   ],
   "id": "624d7fac2a709dde"
  },
  {
   "metadata": {
    "ExecuteTime": {
     "end_time": "2025-07-05T11:44:12.390630Z",
     "start_time": "2025-07-05T11:44:12.384155Z"
    }
   },
   "cell_type": "code",
   "source": [
    "#计算1到10的平方\n",
    "l = [1, 2, 3, 4, 5, 6, 7, 8, 9, 10]\n",
    "squares = [x**2 for x in l]  # 列表推导式\n",
    "print(squares)"
   ],
   "id": "41b8096e7f5563af",
   "outputs": [
    {
     "name": "stdout",
     "output_type": "stream",
     "text": [
      "[1, 4, 9, 16, 25, 36, 49, 64, 81, 100]\n"
     ]
    }
   ],
   "execution_count": 23
  },
  {
   "metadata": {
    "ExecuteTime": {
     "end_time": "2025-07-05T11:46:20.430950Z",
     "start_time": "2025-07-05T11:46:20.425806Z"
    }
   },
   "cell_type": "code",
   "source": [
    "# 计算1到10的平方，选出所有偶数\n",
    "squares = [x**2 for x in l if x % 2 == 0]\n",
    "print(squares)"
   ],
   "id": "c341e41490ae4e5f",
   "outputs": [
    {
     "name": "stdout",
     "output_type": "stream",
     "text": [
      "[4, 16, 36, 64, 100]\n"
     ]
    }
   ],
   "execution_count": 24
  },
  {
   "metadata": {
    "ExecuteTime": {
     "end_time": "2025-07-05T11:47:22.049104Z",
     "start_time": "2025-07-05T11:47:22.041663Z"
    }
   },
   "cell_type": "code",
   "source": [
    "l = [ 'abc', 'abcd', 'aabbccddd', 'eeeeeeaaaaaaa' ]\n",
    "# 找出所有的长度\n",
    "lengths = [len(x) for x in l]\n",
    "print(lengths)"
   ],
   "id": "8f4160e6a28828dd",
   "outputs": [
    {
     "name": "stdout",
     "output_type": "stream",
     "text": [
      "[3, 4, 9, 13]\n"
     ]
    }
   ],
   "execution_count": 26
  },
  {
   "metadata": {},
   "cell_type": "markdown",
   "source": "## 3. Functional Programming 函数式编程",
   "id": "bdeaf686542e7de4"
  },
  {
   "metadata": {},
   "cell_type": "markdown",
   "source": [
    "### a. map() function\n",
    "- The map() is a built-in function in Python that takes two arguments:  map()是 Python 中的一个内置函数，它接受两个参数：\n",
    "    - a function  一个函数\n",
    "    - an iterable (A sequence or collection of elements like list, tuple, etc.)  一个可迭代对象（如列表、元组等元素序列或集合）"
   ],
   "id": "bba24e41b1e8ef96"
  },
  {
   "metadata": {
    "ExecuteTime": {
     "end_time": "2025-07-05T12:26:50.915566Z",
     "start_time": "2025-07-05T12:26:50.910465Z"
    }
   },
   "cell_type": "code",
   "source": [
    "# map() 定义一个函数，将其应用于可迭代对象的每个元素，并返回一个 map 对象\n",
    "def function1(num):\n",
    "    return num ** num\n",
    "\n",
    "m = map(function1, [1, 2, 3, 4, 5])\n",
    "print(list(m)) # 将 map 对象转换为列表并打印"
   ],
   "id": "c587768366032be1",
   "outputs": [
    {
     "name": "stdout",
     "output_type": "stream",
     "text": [
      "[1, 4, 27, 256, 3125]\n"
     ]
    }
   ],
   "execution_count": 29
  },
  {
   "metadata": {
    "ExecuteTime": {
     "end_time": "2025-07-05T12:28:49.219225Z",
     "start_time": "2025-07-05T12:28:49.212794Z"
    }
   },
   "cell_type": "code",
   "source": [
    "# map()可以传入多个可迭代对象\n",
    "def add(num1, num2):\n",
    "    return num1 + num2\n",
    "\n",
    "m = map(add, [1, 2, 3], [4, 5, 6])  # 将两个列表中的元素逐一相加\n",
    "print(list(m))"
   ],
   "id": "ad77c2afd5c8c68e",
   "outputs": [
    {
     "name": "stdout",
     "output_type": "stream",
     "text": [
      "[5, 7, 9]\n"
     ]
    }
   ],
   "execution_count": 30
  },
  {
   "metadata": {
    "ExecuteTime": {
     "end_time": "2025-07-05T12:30:34.800545Z",
     "start_time": "2025-07-05T12:30:34.795123Z"
    }
   },
   "cell_type": "code",
   "source": [
    "l1 = [5, 7, 8, 10, 11, 13, 15, 16, 17, 19, 20]\n",
    "def func2(num):\n",
    "    if num % 2 == 0:\n",
    "        return num\n",
    "\n",
    "m = map(func2, l1)  # 将 func2 应用于 l1 中的每个元素\n",
    "print(list(m))\n",
    "\n",
    "# 你能观察到 map()函数的缺点吗？在使用 map()函数时，如果你有一个包含 10 个元素的迭代对象，输出也将包含 10 个元素。因此，我们无法在 map()中过滤出元素。\n",
    "# 如果你想过滤掉 None 值，可以使用 filter() 函数。"
   ],
   "id": "81b2d8e1c0bb8753",
   "outputs": [
    {
     "name": "stdout",
     "output_type": "stream",
     "text": [
      "[None, None, 8, 10, None, None, None, 16, None, None, 20]\n"
     ]
    }
   ],
   "execution_count": 31
  },
  {
   "metadata": {},
   "cell_type": "markdown",
   "source": "### b. filter() function",
   "id": "d0fa461106e0dab8"
  },
  {
   "metadata": {
    "ExecuteTime": {
     "end_time": "2025-07-05T12:32:02.703239Z",
     "start_time": "2025-07-05T12:32:02.696699Z"
    }
   },
   "cell_type": "code",
   "source": [
    "l1 = [5, 7, 8, 10, 11, 13, 15, 16, 17, 19, 20]\n",
    "def func3(num):\n",
    "    if num % 2 == 0:\n",
    "        return num\n",
    "\n",
    "m = filter(func3, l1)  # 将 func2 应用于 l1 中的每个元素\n",
    "print(list(m))"
   ],
   "id": "b358d84529d056fc",
   "outputs": [
    {
     "name": "stdout",
     "output_type": "stream",
     "text": [
      "[8, 10, 16, 20]\n"
     ]
    }
   ],
   "execution_count": 32
  },
  {
   "metadata": {},
   "cell_type": "markdown",
   "source": [
    "### c. lambda function\n",
    "- Syntax: lambda arguments: expression  语法：lambda 参数：表达式"
   ],
   "id": "9a5778a3272af181"
  },
  {
   "metadata": {
    "ExecuteTime": {
     "end_time": "2025-07-05T12:34:38.989427Z",
     "start_time": "2025-07-05T12:34:38.983653Z"
    }
   },
   "cell_type": "code",
   "source": [
    "m = map(lambda num: num ** num, [1, 2, 3, 4, 5])  # 使用 lambda 函数计算每个元素的平方\n",
    "print(list(m))"
   ],
   "id": "2e6c57a1ff290c2",
   "outputs": [
    {
     "name": "stdout",
     "output_type": "stream",
     "text": [
      "[1, 4, 27, 256, 3125]\n"
     ]
    }
   ],
   "execution_count": 33
  },
  {
   "metadata": {
    "ExecuteTime": {
     "end_time": "2025-07-05T12:35:22.988874Z",
     "start_time": "2025-07-05T12:35:22.984082Z"
    }
   },
   "cell_type": "code",
   "source": [
    "m = map(lambda num1, num2: num1 + num2, [1, 2, 3], [4, 5, 6])  # 使用 lambda 函数将两个列表中的元素逐一相加\n",
    "print(list(m))"
   ],
   "id": "8650667205dcada5",
   "outputs": [
    {
     "name": "stdout",
     "output_type": "stream",
     "text": [
      "[5, 7, 9]\n"
     ]
    }
   ],
   "execution_count": 34
  },
  {
   "metadata": {
    "ExecuteTime": {
     "end_time": "2025-07-05T12:36:11.460650Z",
     "start_time": "2025-07-05T12:36:11.455467Z"
    }
   },
   "cell_type": "code",
   "source": [
    "L1 = [5, 7, 8, 10, 11, 13, 15, 16, 17, 19, 20]\n",
    "m = filter(lambda num: num % 2 == 0, L1)\n",
    "print(list(m))"
   ],
   "id": "4c5dc49418ed8a58",
   "outputs": [
    {
     "name": "stdout",
     "output_type": "stream",
     "text": [
      "[8, 10, 16, 20]\n"
     ]
    }
   ],
   "execution_count": 35
  },
  {
   "metadata": {},
   "cell_type": "markdown",
   "source": "## 4. Exercise",
   "id": "d11811edcb05eae2"
  },
  {
   "metadata": {
    "ExecuteTime": {
     "end_time": "2025-07-05T12:41:23.897679Z",
     "start_time": "2025-07-05T12:41:23.891487Z"
    }
   },
   "cell_type": "code",
   "source": "(lambda x: (x + 3) * 5 / 2)(5)",
   "id": "f8fe2c64d4c095f6",
   "outputs": [
    {
     "data": {
      "text/plain": [
       "20.0"
      ]
     },
     "execution_count": 36,
     "metadata": {},
     "output_type": "execute_result"
    }
   ],
   "execution_count": 36
  },
  {
   "metadata": {
    "ExecuteTime": {
     "end_time": "2025-07-05T12:43:19.528203Z",
     "start_time": "2025-07-05T12:43:19.521564Z"
    }
   },
   "cell_type": "code",
   "source": "print([if i%2==0: i; else: i+1; for i in range(3)])",
   "id": "e48056bec83598ea",
   "outputs": [
    {
     "ename": "SyntaxError",
     "evalue": "invalid syntax (3129376459.py, line 1)",
     "output_type": "error",
     "traceback": [
      "  \u001B[36mCell\u001B[39m\u001B[36m \u001B[39m\u001B[32mIn[38]\u001B[39m\u001B[32m, line 1\u001B[39m\n\u001B[31m    \u001B[39m\u001B[31mprint([if i%2==0: i; else: i+1; for i in range(3)])\u001B[39m\n           ^\n\u001B[31mSyntaxError\u001B[39m\u001B[31m:\u001B[39m invalid syntax\n"
     ]
    }
   ],
   "execution_count": 38
  }
 ],
 "metadata": {
  "kernelspec": {
   "display_name": "Python 3",
   "language": "python",
   "name": "python3"
  },
  "language_info": {
   "codemirror_mode": {
    "name": "ipython",
    "version": 2
   },
   "file_extension": ".py",
   "mimetype": "text/x-python",
   "name": "python",
   "nbconvert_exporter": "python",
   "pygments_lexer": "ipython2",
   "version": "2.7.6"
  }
 },
 "nbformat": 4,
 "nbformat_minor": 5
}
